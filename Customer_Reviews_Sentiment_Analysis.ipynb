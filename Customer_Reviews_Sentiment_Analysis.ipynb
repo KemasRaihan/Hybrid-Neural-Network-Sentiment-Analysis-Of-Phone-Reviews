{
  "nbformat": 4,
  "nbformat_minor": 0,
  "metadata": {
    "colab": {
      "provenance": [],
      "gpuType": "T4",
      "collapsed_sections": [
        "VvUkCbe0Q3Ek",
        "7a4JfGJuv7Kh",
        "LePM89N5czyc",
        "Lfqy9sPr4XPn",
        "9-5W3sfOH5fR",
        "NYNfgRgrVi4W",
        "YsZQxdY6gKzx",
        "Cwufbb3Pia2_"
      ],
      "mount_file_id": "1nLow7B2OaaLiPjDBw5Aj4BTtoA_EL4Qc",
      "authorship_tag": "ABX9TyNBThL0umtNq5hyVhcWXMXG",
      "include_colab_link": true
    },
    "kernelspec": {
      "name": "python3",
      "display_name": "Python 3"
    },
    "language_info": {
      "name": "python"
    },
    "accelerator": "GPU"
  },
  "cells": [
    {
      "cell_type": "markdown",
      "metadata": {
        "id": "view-in-github",
        "colab_type": "text"
      },
      "source": [
        "<a href=\"https://colab.research.google.com/github/KemasRaihan/Analysis-Of-Common-Words-In-Customer-Reviews-Of-Phones-Using-Neural-Networks/blob/main/Customer_Reviews_Sentiment_Analysis.ipynb\" target=\"_parent\"><img src=\"https://colab.research.google.com/assets/colab-badge.svg\" alt=\"Open In Colab\"/></a>"
      ]
    },
    {
      "cell_type": "markdown",
      "source": [
        "# Libraries"
      ],
      "metadata": {
        "id": "t8IaW8SY0tfW"
      }
    },
    {
      "cell_type": "code",
      "execution_count": null,
      "metadata": {
        "id": "W8T5x7HVuJiN"
      },
      "outputs": [],
      "source": [
        "import pandas as pd\n",
        "import numpy as np\n",
        "from numpy import asarray\n",
        "from numpy import zeros"
      ]
    },
    {
      "cell_type": "code",
      "source": [
        "#For Qualitative Analysis\n",
        "from itertools import groupby"
      ],
      "metadata": {
        "id": "q5nD7z88QV3a"
      },
      "execution_count": null,
      "outputs": []
    },
    {
      "cell_type": "code",
      "source": [
        "# For fixing imbalanced data\n",
        "from collections import Counter\n",
        "from imblearn.over_sampling import SMOTE"
      ],
      "metadata": {
        "id": "vDJs8uCiQZaT"
      },
      "execution_count": null,
      "outputs": []
    },
    {
      "cell_type": "code",
      "source": [
        "# For Text Preprocessing\n",
        "import nltk\n",
        "from nltk.sentiment.vader import SentimentIntensityAnalyzer\n",
        "from nltk.corpus import stopwords\n",
        "from nltk.tokenize import word_tokenize\n",
        "from nltk.stem import WordNetLemmatizer\n",
        "nltk.download('punkt')\n",
        "#nltk.download('averaged_perceptron_tagger')\n",
        "#nltk.download('maxent_ne_chunker')\n",
        "nltk.download('words')\n",
        "#nltk.download('vader_lexicon')\n",
        "nltk.download('stopwords')"
      ],
      "metadata": {
        "colab": {
          "base_uri": "https://localhost:8080/"
        },
        "id": "2lZpr9W-QcUO",
        "outputId": "52ac68a0-666c-4141-d483-bbb92928b41f"
      },
      "execution_count": null,
      "outputs": [
        {
          "output_type": "stream",
          "name": "stderr",
          "text": [
            "[nltk_data] Downloading package punkt to /root/nltk_data...\n",
            "[nltk_data]   Unzipping tokenizers/punkt.zip.\n",
            "[nltk_data] Downloading package words to /root/nltk_data...\n",
            "[nltk_data]   Unzipping corpora/words.zip.\n",
            "[nltk_data] Downloading package stopwords to /root/nltk_data...\n",
            "[nltk_data]   Unzipping corpora/stopwords.zip.\n"
          ]
        },
        {
          "output_type": "execute_result",
          "data": {
            "text/plain": [
              "True"
            ]
          },
          "metadata": {},
          "execution_count": 4
        }
      ]
    },
    {
      "cell_type": "code",
      "source": [
        "import string\n",
        "\n",
        "from sklearn.feature_extraction.text import re\n",
        "from sklearn.feature_extraction.text import TfidfVectorizer\n",
        "from sklearn.model_selection import train_test_split\n",
        "from sklearn.metrics import accuracy_score\n",
        "\n",
        "from tqdm.notebook import tqdm\n",
        "\n",
        "import csv\n",
        "import matplotlib.pyplot as plt\n",
        "#!pip install torch torchvision torchaudio --index-url https://download.pytorch.org/whl/cu121"
      ],
      "metadata": {
        "id": "RYbVkQF3pQjF"
      },
      "execution_count": null,
      "outputs": []
    },
    {
      "cell_type": "code",
      "source": [
        "# For building the neural networks\n",
        "import tensorflow as tf\n",
        "from tensorflow import keras\n",
        "from keras import regularizers\n",
        "from keras.models import Sequential, Model\n",
        "from tensorflow.keras.layers import Embedding, Flatten, Conv1D, MaxPooling1D, SpatialDropout1D, LSTM, Bidirectional, Dense, Dropout\n",
        "from tensorflow.keras.preprocessing.text import one_hot, Tokenizer\n",
        "from tensorflow.keras.preprocessing.sequence import pad_sequences\n",
        "from keras.utils import plot_model"
      ],
      "metadata": {
        "id": "uBVHMlQFQmoo"
      },
      "execution_count": null,
      "outputs": []
    },
    {
      "cell_type": "code",
      "source": [
        "# For evaluation\n",
        "import random\n",
        "from sklearn.metrics import confusion_matrix, classification_report, accuracy_score, precision_score, recall_score, f1_score\n",
        "from sklearn.utils.multiclass import unique_labels\n",
        "import seaborn as sns"
      ],
      "metadata": {
        "id": "kZLQAogsQtWp"
      },
      "execution_count": null,
      "outputs": []
    },
    {
      "cell_type": "markdown",
      "source": [
        "# Other Prequisites"
      ],
      "metadata": {
        "id": "VvUkCbe0Q3Ek"
      }
    },
    {
      "cell_type": "markdown",
      "source": [
        "**Epochs**"
      ],
      "metadata": {
        "id": "Gxhd9fx41U7J"
      }
    },
    {
      "cell_type": "code",
      "source": [
        "EPOCHS = 20"
      ],
      "metadata": {
        "id": "EF8y4_yM1TtY"
      },
      "execution_count": null,
      "outputs": []
    },
    {
      "cell_type": "markdown",
      "source": [
        "**Read GloVe Embedding**"
      ],
      "metadata": {
        "id": "90nlb50P1aq8"
      }
    },
    {
      "cell_type": "code",
      "source": [
        "# Load GloVe word embeddings and create an Embeddings Dictionary\n",
        "filepath = '/content/drive/MyDrive/Sheffield_Hallam_University/Final Year/Development Project/development_project_shared/Source_Code/a2_glove.6B.100d.txt'\n",
        "\n",
        "embeddings_index = dict()\n",
        "f = open(filepath)\n",
        "for line in f:\n",
        "    values = line.split()\n",
        "    word = values[0]\n",
        "    coefs = np.asarray(values[1:], dtype='float32')\n",
        "    embeddings_index[word] = coefs\n",
        "f.close()"
      ],
      "metadata": {
        "id": "lhgqZErs1ehp"
      },
      "execution_count": null,
      "outputs": []
    },
    {
      "cell_type": "markdown",
      "source": [
        "**Number of Classes**"
      ],
      "metadata": {
        "id": "DnK8-EnR7zWc"
      }
    },
    {
      "cell_type": "code",
      "source": [
        "# There are 3 classes: negative, neutral and postive\n",
        "num_of_classes = 3"
      ],
      "metadata": {
        "id": "i0sJDXBS7wPt"
      },
      "execution_count": null,
      "outputs": []
    },
    {
      "cell_type": "markdown",
      "source": [
        "**Import Raw Dataset**"
      ],
      "metadata": {
        "id": "_gF7v1cjPRc9"
      }
    },
    {
      "cell_type": "code",
      "source": [
        "filepath = '/content/drive/MyDrive/Sheffield_Hallam_University/Final Year/Development Project/development_project_shared/Source_Code/Amazon_Unlocked_Mobile.csv'"
      ],
      "metadata": {
        "id": "0hWsndqW7zaE"
      },
      "execution_count": null,
      "outputs": []
    },
    {
      "cell_type": "code",
      "source": [
        "# Control number of rows to read from csv file\n",
        "nrows = 1000\n",
        "\n",
        "df = pd.read_csv(filepath,nrows=nrows, encoding = 'latin')"
      ],
      "metadata": {
        "id": "k0JzyEIEXgMd"
      },
      "execution_count": null,
      "outputs": []
    },
    {
      "cell_type": "markdown",
      "source": [
        "# Raw Dataset Analysis"
      ],
      "metadata": {
        "id": "7a4JfGJuv7Kh"
      }
    },
    {
      "cell_type": "code",
      "source": [
        "df.shape"
      ],
      "metadata": {
        "id": "iMK3kYSzXz2x",
        "colab": {
          "base_uri": "https://localhost:8080/"
        },
        "outputId": "624cb04b-9a13-4bc7-e055-b47963ca7857"
      },
      "execution_count": null,
      "outputs": [
        {
          "output_type": "execute_result",
          "data": {
            "text/plain": [
              "(535, 6)"
            ]
          },
          "metadata": {},
          "execution_count": 36
        }
      ]
    },
    {
      "cell_type": "markdown",
      "source": [
        "PromptCloud extracted 400 thousand reviews of unlocked mobile phones sold on Amazon.com to find out insights with respect to reviews, ratings, price and their relationships (https://www.kaggle.com/datasets/PromptCloudHQ/amazon-reviews-unlocked-mobile-phones)"
      ],
      "metadata": {
        "id": "wZc4hqzknYqg"
      }
    },
    {
      "cell_type": "code",
      "source": [
        "df.head(10)"
      ],
      "metadata": {
        "id": "-psPCwUWcFwP",
        "colab": {
          "base_uri": "https://localhost:8080/",
          "height": 362
        },
        "outputId": "67e16bd6-9b7b-48c4-8bc1-0b6161f63c7f"
      },
      "execution_count": null,
      "outputs": [
        {
          "output_type": "execute_result",
          "data": {
            "text/plain": [
              "                                        Product Name Brand Name   Price  \\\n",
              "0  \"CLEAR CLEAN ESN\" Sprint EPIC 4G Galaxy SPH-D7...    Samsung  199.99   \n",
              "1  \"CLEAR CLEAN ESN\" Sprint EPIC 4G Galaxy SPH-D7...    Samsung  199.99   \n",
              "2  \"CLEAR CLEAN ESN\" Sprint EPIC 4G Galaxy SPH-D7...    Samsung  199.99   \n",
              "3  \"CLEAR CLEAN ESN\" Sprint EPIC 4G Galaxy SPH-D7...    Samsung  199.99   \n",
              "4  \"CLEAR CLEAN ESN\" Sprint EPIC 4G Galaxy SPH-D7...    Samsung  199.99   \n",
              "5  \"CLEAR CLEAN ESN\" Sprint EPIC 4G Galaxy SPH-D7...    Samsung  199.99   \n",
              "6  \"CLEAR CLEAN ESN\" Sprint EPIC 4G Galaxy SPH-D7...    Samsung  199.99   \n",
              "7  \"CLEAR CLEAN ESN\" Sprint EPIC 4G Galaxy SPH-D7...    Samsung  199.99   \n",
              "8  \"CLEAR CLEAN ESN\" Sprint EPIC 4G Galaxy SPH-D7...    Samsung  199.99   \n",
              "9  \"CLEAR CLEAN ESN\" Sprint EPIC 4G Galaxy SPH-D7...    Samsung  199.99   \n",
              "\n",
              "   Rating                                            Reviews  Review Votes  \n",
              "0       5  I feel so LUCKY to have found this used (phone...           1.0  \n",
              "1       4  nice phone, nice up grade from my pantach revu...           0.0  \n",
              "2       5                                       Very pleased           0.0  \n",
              "3       4  It works good but it goes slow sometimes but i...           0.0  \n",
              "4       4  Great phone to replace my lost phone. The only...           0.0  \n",
              "5       1  I already had a phone with problems... I know ...           1.0  \n",
              "6       2  The charging port was loose. I got that solder...           0.0  \n",
              "7       2  Phone looks good but wouldn't stay charged, ha...           0.0  \n",
              "8       5  I originally was using the Samsung S2 Galaxy f...           0.0  \n",
              "9       3  It's battery life is great. It's very responsi...           0.0  "
            ],
            "text/html": [
              "\n",
              "  <div id=\"df-d86554bc-a2e2-4f08-949f-76dd5572538e\" class=\"colab-df-container\">\n",
              "    <div>\n",
              "<style scoped>\n",
              "    .dataframe tbody tr th:only-of-type {\n",
              "        vertical-align: middle;\n",
              "    }\n",
              "\n",
              "    .dataframe tbody tr th {\n",
              "        vertical-align: top;\n",
              "    }\n",
              "\n",
              "    .dataframe thead th {\n",
              "        text-align: right;\n",
              "    }\n",
              "</style>\n",
              "<table border=\"1\" class=\"dataframe\">\n",
              "  <thead>\n",
              "    <tr style=\"text-align: right;\">\n",
              "      <th></th>\n",
              "      <th>Product Name</th>\n",
              "      <th>Brand Name</th>\n",
              "      <th>Price</th>\n",
              "      <th>Rating</th>\n",
              "      <th>Reviews</th>\n",
              "      <th>Review Votes</th>\n",
              "    </tr>\n",
              "  </thead>\n",
              "  <tbody>\n",
              "    <tr>\n",
              "      <th>0</th>\n",
              "      <td>\"CLEAR CLEAN ESN\" Sprint EPIC 4G Galaxy SPH-D7...</td>\n",
              "      <td>Samsung</td>\n",
              "      <td>199.99</td>\n",
              "      <td>5</td>\n",
              "      <td>I feel so LUCKY to have found this used (phone...</td>\n",
              "      <td>1.0</td>\n",
              "    </tr>\n",
              "    <tr>\n",
              "      <th>1</th>\n",
              "      <td>\"CLEAR CLEAN ESN\" Sprint EPIC 4G Galaxy SPH-D7...</td>\n",
              "      <td>Samsung</td>\n",
              "      <td>199.99</td>\n",
              "      <td>4</td>\n",
              "      <td>nice phone, nice up grade from my pantach revu...</td>\n",
              "      <td>0.0</td>\n",
              "    </tr>\n",
              "    <tr>\n",
              "      <th>2</th>\n",
              "      <td>\"CLEAR CLEAN ESN\" Sprint EPIC 4G Galaxy SPH-D7...</td>\n",
              "      <td>Samsung</td>\n",
              "      <td>199.99</td>\n",
              "      <td>5</td>\n",
              "      <td>Very pleased</td>\n",
              "      <td>0.0</td>\n",
              "    </tr>\n",
              "    <tr>\n",
              "      <th>3</th>\n",
              "      <td>\"CLEAR CLEAN ESN\" Sprint EPIC 4G Galaxy SPH-D7...</td>\n",
              "      <td>Samsung</td>\n",
              "      <td>199.99</td>\n",
              "      <td>4</td>\n",
              "      <td>It works good but it goes slow sometimes but i...</td>\n",
              "      <td>0.0</td>\n",
              "    </tr>\n",
              "    <tr>\n",
              "      <th>4</th>\n",
              "      <td>\"CLEAR CLEAN ESN\" Sprint EPIC 4G Galaxy SPH-D7...</td>\n",
              "      <td>Samsung</td>\n",
              "      <td>199.99</td>\n",
              "      <td>4</td>\n",
              "      <td>Great phone to replace my lost phone. The only...</td>\n",
              "      <td>0.0</td>\n",
              "    </tr>\n",
              "    <tr>\n",
              "      <th>5</th>\n",
              "      <td>\"CLEAR CLEAN ESN\" Sprint EPIC 4G Galaxy SPH-D7...</td>\n",
              "      <td>Samsung</td>\n",
              "      <td>199.99</td>\n",
              "      <td>1</td>\n",
              "      <td>I already had a phone with problems... I know ...</td>\n",
              "      <td>1.0</td>\n",
              "    </tr>\n",
              "    <tr>\n",
              "      <th>6</th>\n",
              "      <td>\"CLEAR CLEAN ESN\" Sprint EPIC 4G Galaxy SPH-D7...</td>\n",
              "      <td>Samsung</td>\n",
              "      <td>199.99</td>\n",
              "      <td>2</td>\n",
              "      <td>The charging port was loose. I got that solder...</td>\n",
              "      <td>0.0</td>\n",
              "    </tr>\n",
              "    <tr>\n",
              "      <th>7</th>\n",
              "      <td>\"CLEAR CLEAN ESN\" Sprint EPIC 4G Galaxy SPH-D7...</td>\n",
              "      <td>Samsung</td>\n",
              "      <td>199.99</td>\n",
              "      <td>2</td>\n",
              "      <td>Phone looks good but wouldn't stay charged, ha...</td>\n",
              "      <td>0.0</td>\n",
              "    </tr>\n",
              "    <tr>\n",
              "      <th>8</th>\n",
              "      <td>\"CLEAR CLEAN ESN\" Sprint EPIC 4G Galaxy SPH-D7...</td>\n",
              "      <td>Samsung</td>\n",
              "      <td>199.99</td>\n",
              "      <td>5</td>\n",
              "      <td>I originally was using the Samsung S2 Galaxy f...</td>\n",
              "      <td>0.0</td>\n",
              "    </tr>\n",
              "    <tr>\n",
              "      <th>9</th>\n",
              "      <td>\"CLEAR CLEAN ESN\" Sprint EPIC 4G Galaxy SPH-D7...</td>\n",
              "      <td>Samsung</td>\n",
              "      <td>199.99</td>\n",
              "      <td>3</td>\n",
              "      <td>It's battery life is great. It's very responsi...</td>\n",
              "      <td>0.0</td>\n",
              "    </tr>\n",
              "  </tbody>\n",
              "</table>\n",
              "</div>\n",
              "    <div class=\"colab-df-buttons\">\n",
              "\n",
              "  <div class=\"colab-df-container\">\n",
              "    <button class=\"colab-df-convert\" onclick=\"convertToInteractive('df-d86554bc-a2e2-4f08-949f-76dd5572538e')\"\n",
              "            title=\"Convert this dataframe to an interactive table.\"\n",
              "            style=\"display:none;\">\n",
              "\n",
              "  <svg xmlns=\"http://www.w3.org/2000/svg\" height=\"24px\" viewBox=\"0 -960 960 960\">\n",
              "    <path d=\"M120-120v-720h720v720H120Zm60-500h600v-160H180v160Zm220 220h160v-160H400v160Zm0 220h160v-160H400v160ZM180-400h160v-160H180v160Zm440 0h160v-160H620v160ZM180-180h160v-160H180v160Zm440 0h160v-160H620v160Z\"/>\n",
              "  </svg>\n",
              "    </button>\n",
              "\n",
              "  <style>\n",
              "    .colab-df-container {\n",
              "      display:flex;\n",
              "      gap: 12px;\n",
              "    }\n",
              "\n",
              "    .colab-df-convert {\n",
              "      background-color: #E8F0FE;\n",
              "      border: none;\n",
              "      border-radius: 50%;\n",
              "      cursor: pointer;\n",
              "      display: none;\n",
              "      fill: #1967D2;\n",
              "      height: 32px;\n",
              "      padding: 0 0 0 0;\n",
              "      width: 32px;\n",
              "    }\n",
              "\n",
              "    .colab-df-convert:hover {\n",
              "      background-color: #E2EBFA;\n",
              "      box-shadow: 0px 1px 2px rgba(60, 64, 67, 0.3), 0px 1px 3px 1px rgba(60, 64, 67, 0.15);\n",
              "      fill: #174EA6;\n",
              "    }\n",
              "\n",
              "    .colab-df-buttons div {\n",
              "      margin-bottom: 4px;\n",
              "    }\n",
              "\n",
              "    [theme=dark] .colab-df-convert {\n",
              "      background-color: #3B4455;\n",
              "      fill: #D2E3FC;\n",
              "    }\n",
              "\n",
              "    [theme=dark] .colab-df-convert:hover {\n",
              "      background-color: #434B5C;\n",
              "      box-shadow: 0px 1px 3px 1px rgba(0, 0, 0, 0.15);\n",
              "      filter: drop-shadow(0px 1px 2px rgba(0, 0, 0, 0.3));\n",
              "      fill: #FFFFFF;\n",
              "    }\n",
              "  </style>\n",
              "\n",
              "    <script>\n",
              "      const buttonEl =\n",
              "        document.querySelector('#df-d86554bc-a2e2-4f08-949f-76dd5572538e button.colab-df-convert');\n",
              "      buttonEl.style.display =\n",
              "        google.colab.kernel.accessAllowed ? 'block' : 'none';\n",
              "\n",
              "      async function convertToInteractive(key) {\n",
              "        const element = document.querySelector('#df-d86554bc-a2e2-4f08-949f-76dd5572538e');\n",
              "        const dataTable =\n",
              "          await google.colab.kernel.invokeFunction('convertToInteractive',\n",
              "                                                    [key], {});\n",
              "        if (!dataTable) return;\n",
              "\n",
              "        const docLinkHtml = 'Like what you see? Visit the ' +\n",
              "          '<a target=\"_blank\" href=https://colab.research.google.com/notebooks/data_table.ipynb>data table notebook</a>'\n",
              "          + ' to learn more about interactive tables.';\n",
              "        element.innerHTML = '';\n",
              "        dataTable['output_type'] = 'display_data';\n",
              "        await google.colab.output.renderOutput(dataTable, element);\n",
              "        const docLink = document.createElement('div');\n",
              "        docLink.innerHTML = docLinkHtml;\n",
              "        element.appendChild(docLink);\n",
              "      }\n",
              "    </script>\n",
              "  </div>\n",
              "\n",
              "\n",
              "<div id=\"df-04309bb7-c191-402e-ab70-0361fc2d0b44\">\n",
              "  <button class=\"colab-df-quickchart\" onclick=\"quickchart('df-04309bb7-c191-402e-ab70-0361fc2d0b44')\"\n",
              "            title=\"Suggest charts\"\n",
              "            style=\"display:none;\">\n",
              "\n",
              "<svg xmlns=\"http://www.w3.org/2000/svg\" height=\"24px\"viewBox=\"0 0 24 24\"\n",
              "     width=\"24px\">\n",
              "    <g>\n",
              "        <path d=\"M19 3H5c-1.1 0-2 .9-2 2v14c0 1.1.9 2 2 2h14c1.1 0 2-.9 2-2V5c0-1.1-.9-2-2-2zM9 17H7v-7h2v7zm4 0h-2V7h2v10zm4 0h-2v-4h2v4z\"/>\n",
              "    </g>\n",
              "</svg>\n",
              "  </button>\n",
              "\n",
              "<style>\n",
              "  .colab-df-quickchart {\n",
              "      --bg-color: #E8F0FE;\n",
              "      --fill-color: #1967D2;\n",
              "      --hover-bg-color: #E2EBFA;\n",
              "      --hover-fill-color: #174EA6;\n",
              "      --disabled-fill-color: #AAA;\n",
              "      --disabled-bg-color: #DDD;\n",
              "  }\n",
              "\n",
              "  [theme=dark] .colab-df-quickchart {\n",
              "      --bg-color: #3B4455;\n",
              "      --fill-color: #D2E3FC;\n",
              "      --hover-bg-color: #434B5C;\n",
              "      --hover-fill-color: #FFFFFF;\n",
              "      --disabled-bg-color: #3B4455;\n",
              "      --disabled-fill-color: #666;\n",
              "  }\n",
              "\n",
              "  .colab-df-quickchart {\n",
              "    background-color: var(--bg-color);\n",
              "    border: none;\n",
              "    border-radius: 50%;\n",
              "    cursor: pointer;\n",
              "    display: none;\n",
              "    fill: var(--fill-color);\n",
              "    height: 32px;\n",
              "    padding: 0;\n",
              "    width: 32px;\n",
              "  }\n",
              "\n",
              "  .colab-df-quickchart:hover {\n",
              "    background-color: var(--hover-bg-color);\n",
              "    box-shadow: 0 1px 2px rgba(60, 64, 67, 0.3), 0 1px 3px 1px rgba(60, 64, 67, 0.15);\n",
              "    fill: var(--button-hover-fill-color);\n",
              "  }\n",
              "\n",
              "  .colab-df-quickchart-complete:disabled,\n",
              "  .colab-df-quickchart-complete:disabled:hover {\n",
              "    background-color: var(--disabled-bg-color);\n",
              "    fill: var(--disabled-fill-color);\n",
              "    box-shadow: none;\n",
              "  }\n",
              "\n",
              "  .colab-df-spinner {\n",
              "    border: 2px solid var(--fill-color);\n",
              "    border-color: transparent;\n",
              "    border-bottom-color: var(--fill-color);\n",
              "    animation:\n",
              "      spin 1s steps(1) infinite;\n",
              "  }\n",
              "\n",
              "  @keyframes spin {\n",
              "    0% {\n",
              "      border-color: transparent;\n",
              "      border-bottom-color: var(--fill-color);\n",
              "      border-left-color: var(--fill-color);\n",
              "    }\n",
              "    20% {\n",
              "      border-color: transparent;\n",
              "      border-left-color: var(--fill-color);\n",
              "      border-top-color: var(--fill-color);\n",
              "    }\n",
              "    30% {\n",
              "      border-color: transparent;\n",
              "      border-left-color: var(--fill-color);\n",
              "      border-top-color: var(--fill-color);\n",
              "      border-right-color: var(--fill-color);\n",
              "    }\n",
              "    40% {\n",
              "      border-color: transparent;\n",
              "      border-right-color: var(--fill-color);\n",
              "      border-top-color: var(--fill-color);\n",
              "    }\n",
              "    60% {\n",
              "      border-color: transparent;\n",
              "      border-right-color: var(--fill-color);\n",
              "    }\n",
              "    80% {\n",
              "      border-color: transparent;\n",
              "      border-right-color: var(--fill-color);\n",
              "      border-bottom-color: var(--fill-color);\n",
              "    }\n",
              "    90% {\n",
              "      border-color: transparent;\n",
              "      border-bottom-color: var(--fill-color);\n",
              "    }\n",
              "  }\n",
              "</style>\n",
              "\n",
              "  <script>\n",
              "    async function quickchart(key) {\n",
              "      const quickchartButtonEl =\n",
              "        document.querySelector('#' + key + ' button');\n",
              "      quickchartButtonEl.disabled = true;  // To prevent multiple clicks.\n",
              "      quickchartButtonEl.classList.add('colab-df-spinner');\n",
              "      try {\n",
              "        const charts = await google.colab.kernel.invokeFunction(\n",
              "            'suggestCharts', [key], {});\n",
              "      } catch (error) {\n",
              "        console.error('Error during call to suggestCharts:', error);\n",
              "      }\n",
              "      quickchartButtonEl.classList.remove('colab-df-spinner');\n",
              "      quickchartButtonEl.classList.add('colab-df-quickchart-complete');\n",
              "    }\n",
              "    (() => {\n",
              "      let quickchartButtonEl =\n",
              "        document.querySelector('#df-04309bb7-c191-402e-ab70-0361fc2d0b44 button');\n",
              "      quickchartButtonEl.style.display =\n",
              "        google.colab.kernel.accessAllowed ? 'block' : 'none';\n",
              "    })();\n",
              "  </script>\n",
              "</div>\n",
              "    </div>\n",
              "  </div>\n"
            ],
            "application/vnd.google.colaboratory.intrinsic+json": {
              "type": "dataframe",
              "variable_name": "df",
              "summary": "{\n  \"name\": \"df\",\n  \"rows\": 535,\n  \"fields\": [\n    {\n      \"column\": \"Product Name\",\n      \"properties\": {\n        \"dtype\": \"category\",\n        \"samples\": [\n          \"5.5\\\" Unlocked GSM Cell Phones Android 5.1 MTK6580 Quad Core Dual Sim Quadband-JUNING 3G Smartphone Black\",\n          \"5.5\\\" Unlocked Smartphone Dual Sim Quad Core-JUNING Android 5.1 Cellphone Black\",\n          \"[XMAS DEAL] Jethro [SC118] Simple Unlocked Quad-band GSM Senior & Kids Cell Phone, SOS Button, Easy to Use, Light Weight, Large Keyboard [New Firmware Edition]\"\n        ],\n        \"num_unique_values\": 38,\n        \"semantic_type\": \"\",\n        \"description\": \"\"\n      }\n    },\n    {\n      \"column\": \"Brand Name\",\n      \"properties\": {\n        \"dtype\": \"category\",\n        \"samples\": [\n          \"Lenovo\",\n          \"JUNING\",\n          \"Samsung\"\n        ],\n        \"num_unique_values\": 14,\n        \"semantic_type\": \"\",\n        \"description\": \"\"\n      }\n    },\n    {\n      \"column\": \"Price\",\n      \"properties\": {\n        \"dtype\": \"number\",\n        \"std\": 118.0244839275459,\n        \"min\": 17.95,\n        \"max\": 2000.0,\n        \"samples\": [\n          199.99,\n          105.06,\n          59.95\n        ],\n        \"num_unique_values\": 20,\n        \"semantic_type\": \"\",\n        \"description\": \"\"\n      }\n    },\n    {\n      \"column\": \"Rating\",\n      \"properties\": {\n        \"dtype\": \"number\",\n        \"std\": 1,\n        \"min\": 1,\n        \"max\": 5,\n        \"samples\": [\n          4,\n          3,\n          1\n        ],\n        \"num_unique_values\": 5,\n        \"semantic_type\": \"\",\n        \"description\": \"\"\n      }\n    },\n    {\n      \"column\": \"Reviews\",\n      \"properties\": {\n        \"dtype\": \"string\",\n        \"samples\": [\n          \"No 4g with ATT just 2g\",\n          \"everything was great. had a hard time getting the old SIM card to work with it, but Verizon hooked me up\",\n          \"Excellent Product.\"\n        ],\n        \"num_unique_values\": 387,\n        \"semantic_type\": \"\",\n        \"description\": \"\"\n      }\n    },\n    {\n      \"column\": \"Review Votes\",\n      \"properties\": {\n        \"dtype\": \"number\",\n        \"std\": 3.0209751297739027,\n        \"min\": 0.0,\n        \"max\": 23.0,\n        \"samples\": [\n          1.0,\n          23.0,\n          15.0\n        ],\n        \"num_unique_values\": 21,\n        \"semantic_type\": \"\",\n        \"description\": \"\"\n      }\n    }\n  ]\n}"
            }
          },
          "metadata": {},
          "execution_count": 37
        }
      ]
    },
    {
      "cell_type": "code",
      "source": [
        "df.isnull().any()"
      ],
      "metadata": {
        "colab": {
          "base_uri": "https://localhost:8080/"
        },
        "id": "WO9ERtt5xyrN",
        "outputId": "3a4408bd-a360-4a8e-eb9f-615c5c7a27ae"
      },
      "execution_count": null,
      "outputs": [
        {
          "output_type": "execute_result",
          "data": {
            "text/plain": [
              "Product Name    False\n",
              "Brand Name      False\n",
              "Price           False\n",
              "Rating          False\n",
              "Reviews         False\n",
              "Review Votes    False\n",
              "dtype: bool"
            ]
          },
          "metadata": {},
          "execution_count": 38
        }
      ]
    },
    {
      "cell_type": "code",
      "source": [
        "df = df.dropna()"
      ],
      "metadata": {
        "id": "68yCHng5xyC2"
      },
      "execution_count": null,
      "outputs": []
    },
    {
      "cell_type": "markdown",
      "source": [
        "**Number Of Ratings Of Each Sentiment**"
      ],
      "metadata": {
        "id": "5QnkoiGH7AnW"
      }
    },
    {
      "cell_type": "code",
      "source": [
        "ratings = df['Rating'].values.tolist()"
      ],
      "metadata": {
        "id": "CVmntDsG4Gzz"
      },
      "execution_count": null,
      "outputs": []
    },
    {
      "cell_type": "code",
      "source": [
        "ratings[:5]"
      ],
      "metadata": {
        "colab": {
          "base_uri": "https://localhost:8080/"
        },
        "id": "RTuiTR5B5VHg",
        "outputId": "123a1449-a8f8-48d0-dadf-cee0bdd4fec4"
      },
      "execution_count": null,
      "outputs": [
        {
          "output_type": "execute_result",
          "data": {
            "text/plain": [
              "[5, 4, 5, 4, 4]"
            ]
          },
          "metadata": {},
          "execution_count": 41
        }
      ]
    },
    {
      "cell_type": "code",
      "source": [
        "frequency = []\n",
        "\n",
        "for i in range(1,6):\n",
        "  frequency.append(ratings.count(i))"
      ],
      "metadata": {
        "id": "ib-IJJ4tZS9s"
      },
      "execution_count": null,
      "outputs": []
    },
    {
      "cell_type": "code",
      "source": [
        "print(frequency)"
      ],
      "metadata": {
        "colab": {
          "base_uri": "https://localhost:8080/"
        },
        "id": "TB7eogaR6I7E",
        "outputId": "83cef64e-d53c-40f0-8c72-5b942ba72324"
      },
      "execution_count": null,
      "outputs": [
        {
          "output_type": "stream",
          "name": "stdout",
          "text": [
            "[136, 57, 42, 61, 239]\n"
          ]
        }
      ]
    },
    {
      "cell_type": "code",
      "source": [
        "labels = [1,2,3,4,5]\n",
        "\n",
        "plt.bar(labels, frequency, width=0.8,  bottom=None, align='center')\n",
        "\n",
        "plt.xlabel('Rating')\n",
        "plt.ylabel('Frequency')\n",
        "plt.title('Count Number Of Reviews By Ratings')\n",
        "plt.show()"
      ],
      "metadata": {
        "id": "tA1H2QEd6V_i",
        "colab": {
          "base_uri": "https://localhost:8080/",
          "height": 472
        },
        "outputId": "a26d27cf-a910-4d1b-d8b0-5dd41b48c88f"
      },
      "execution_count": null,
      "outputs": [
        {
          "output_type": "display_data",
          "data": {
            "text/plain": [
              "<Figure size 640x480 with 1 Axes>"
            ],
            "image/png": "[encoded data removed]"
          },
          "metadata": {}
        }
      ]
    },
    {
      "cell_type": "markdown",
      "source": [
        "# Reduce Classes"
      ],
      "metadata": {
        "id": "LePM89N5czyc"
      }
    },
    {
      "cell_type": "code",
      "source": [
        "df = df.dropna()"
      ],
      "metadata": {
        "id": "kj7vsYXGxpal"
      },
      "execution_count": null,
      "outputs": []
    },
    {
      "cell_type": "code",
      "source": [
        "sentiments = []\n",
        "\n",
        "for rating in ratings:\n",
        "  # if rating is 1 or 2 (negative) append 0 to sentiments array\n",
        "  if rating < 3:\n",
        "    sentiments.append(0)\n",
        "  # if rating is 3 (neutral), append 1 to sentiments array\n",
        "  elif rating == 3:\n",
        "    sentiments.append(1)\n",
        "  # if rating is 4 or 5 (positive), append 2 to sentiments array\n",
        "  else:\n",
        "    sentiments.append(2)\n"
      ],
      "metadata": {
        "id": "NyXxeAwaRf9p"
      },
      "execution_count": null,
      "outputs": []
    },
    {
      "cell_type": "code",
      "source": [
        "frequency = []\n",
        "\n",
        "for i in range(3):\n",
        "  frequency.append(sentiments.count(i))"
      ],
      "metadata": {
        "id": "wR8Md2bv5B-d"
      },
      "execution_count": null,
      "outputs": []
    },
    {
      "cell_type": "code",
      "source": [
        "labels = ['Negative', 'Neutral', 'Positive']\n",
        "\n",
        "plt.bar(labels, frequency, color='red', width=0.8,  bottom=None, align='center')\n",
        "\n",
        "plt.xlabel('Sentiment')\n",
        "plt.ylabel('Frequency')\n",
        "plt.title('Count Number Of Reviews By Ratings')\n",
        "plt.show()"
      ],
      "metadata": {
        "colab": {
          "base_uri": "https://localhost:8080/",
          "height": 472
        },
        "id": "Dx9Sr6HubBnE",
        "outputId": "26c9bf4b-100c-4364-8eac-8c8e2c4eba61"
      },
      "execution_count": null,
      "outputs": [
        {
          "output_type": "display_data",
          "data": {
            "text/plain": [
              "<Figure size 640x480 with 1 Axes>"
            ],
            "image/png": "[encoded data removed]"
          },
          "metadata": {}
        }
      ]
    },
    {
      "cell_type": "markdown",
      "source": [
        "# Preprocessing Text"
      ],
      "metadata": {
        "id": "Lfqy9sPr4XPn"
      }
    },
    {
      "cell_type": "code",
      "source": [
        "df = df.dropna()"
      ],
      "metadata": {
        "id": "hgW8OYZA_RGT"
      },
      "execution_count": null,
      "outputs": []
    },
    {
      "cell_type": "code",
      "source": [
        "reviews = df['Reviews']"
      ],
      "metadata": {
        "id": "H1lkpsvuQ9ws"
      },
      "execution_count": null,
      "outputs": []
    },
    {
      "cell_type": "code",
      "source": [
        "reviews.head()"
      ],
      "metadata": {
        "colab": {
          "base_uri": "https://localhost:8080/"
        },
        "id": "xsGEyS933Vyd",
        "outputId": "f0160303-7bf7-46a1-aaa3-6080e8e16523"
      },
      "execution_count": null,
      "outputs": [
        {
          "output_type": "execute_result",
          "data": {
            "text/plain": [
              "0    I feel so LUCKY to have found this used (phone...\n",
              "1    nice phone, nice up grade from my pantach revu...\n",
              "2                                         Very pleased\n",
              "3    It works good but it goes slow sometimes but i...\n",
              "4    Great phone to replace my lost phone. The only...\n",
              "Name: Reviews, dtype: object"
            ]
          },
          "metadata": {},
          "execution_count": 51
        }
      ]
    },
    {
      "cell_type": "code",
      "source": [
        "#Remove stopwords 'n punctuation\n",
        "sw = stopwords.words('english')\n",
        "\n",
        "def preprocess_text(review):\n",
        "    review = review.lower() # Convert to lowercase\n",
        "    review = re.sub(r'[^\\x00-\\x7F]+',' ', review) # Remove words with non-ASCII characters\n",
        "    words = review.split()\n",
        "    words = [word for word in words if word not in set(stopwords.words('english'))] # Remove stop words\n",
        "    review = \" \".join(words)\n",
        "    return review"
      ],
      "metadata": {
        "id": "QqtLGRIkSp7H"
      },
      "execution_count": null,
      "outputs": []
    },
    {
      "cell_type": "code",
      "source": [
        "reviews = reviews.apply(preprocess_text)"
      ],
      "metadata": {
        "id": "RRZTSASJyA0J"
      },
      "execution_count": null,
      "outputs": []
    },
    {
      "cell_type": "markdown",
      "source": [
        "# Tokenize"
      ],
      "metadata": {
        "id": "9-5W3sfOH5fR"
      }
    },
    {
      "cell_type": "code",
      "source": [
        "def tokenize(review):\n",
        "  # Convert text to sequences\n",
        "  encoded_review = t.texts_to_sequences(review)\n",
        "\n",
        "  # Pad reviews\n",
        "  padded_review = pad_sequences(encoded_review, maxlen=max_length, padding='post')\n",
        "\n",
        "  return padded_review"
      ],
      "metadata": {
        "id": "AUHDD_eZYHUq"
      },
      "execution_count": null,
      "outputs": []
    },
    {
      "cell_type": "code",
      "source": [
        "# Find the length of longest review\n",
        "max_length = reviews.apply(lambda x: len(x.split())).max()\n",
        "t = Tokenizer()\n",
        "t.fit_on_texts(reviews)\n",
        "\n",
        "vocab_size = len(t.word_index) + 1\n",
        "\n",
        "# Convert text to sequences\n",
        "padded_reviews = tokenize(reviews)"
      ],
      "metadata": {
        "id": "Ax4VQSonH6e9"
      },
      "execution_count": null,
      "outputs": []
    },
    {
      "cell_type": "code",
      "source": [
        "# Map each unique word index with its GloVe vector\n",
        "\n",
        "embedding_dim = 100\n",
        "\n",
        "# Initialize an empty matrix with zeros, where the number of rows is determined by the vocabulary size (vocab_size),\n",
        "# and the number of columns is set to 100, matching the dimensionality of the GloVe word embeddings.\n",
        "embedding_matrix = np.zeros((vocab_size, 100))\n",
        "\n",
        "# Iterate through each word in the tokenizer's word index\n",
        "for word, i in t.word_index.items():\n",
        "  # Retrieve the GloVe word embedding vector for the current word\n",
        "    embedding_vector = embeddings_index.get(word)\n",
        "    # Check if the word has a corresponding embedding in the GloVe model\n",
        "    if embedding_vector is not None:\n",
        "      # If an embedding exists, update the corresponding row in the embedding matrix\n",
        "        # with the GloVe word embedding vector for the current word.\n",
        "        embedding_matrix[i] = embedding_vector"
      ],
      "metadata": {
        "id": "RNrK91rhIma8"
      },
      "execution_count": null,
      "outputs": []
    },
    {
      "cell_type": "code",
      "source": [
        "print(embedding_matrix[:5])"
      ],
      "metadata": {
        "colab": {
          "base_uri": "https://localhost:8080/"
        },
        "id": "EGq7eqmeJFWP",
        "outputId": "ad1685a0-42a6-4b42-b712-1069f4db5d35"
      },
      "execution_count": null,
      "outputs": [
        {
          "output_type": "stream",
          "name": "stdout",
          "text": [
            "[[ 0.00000000e+00  0.00000000e+00  0.00000000e+00  0.00000000e+00\n",
            "   0.00000000e+00  0.00000000e+00  0.00000000e+00  0.00000000e+00\n",
            "   0.00000000e+00  0.00000000e+00  0.00000000e+00  0.00000000e+00\n",
            "   0.00000000e+00  0.00000000e+00  0.00000000e+00  0.00000000e+00\n",
            "   0.00000000e+00  0.00000000e+00  0.00000000e+00  0.00000000e+00\n",
            "   0.00000000e+00  0.00000000e+00  0.00000000e+00  0.00000000e+00\n",
            "   0.00000000e+00  0.00000000e+00  0.00000000e+00  0.00000000e+00\n",
            "   0.00000000e+00  0.00000000e+00  0.00000000e+00  0.00000000e+00\n",
            "   0.00000000e+00  0.00000000e+00  0.00000000e+00  0.00000000e+00\n",
            "   0.00000000e+00  0.00000000e+00  0.00000000e+00  0.00000000e+00\n",
            "   0.00000000e+00  0.00000000e+00  0.00000000e+00  0.00000000e+00\n",
            "   0.00000000e+00  0.00000000e+00  0.00000000e+00  0.00000000e+00\n",
            "   0.00000000e+00  0.00000000e+00  0.00000000e+00  0.00000000e+00\n",
            "   0.00000000e+00  0.00000000e+00  0.00000000e+00  0.00000000e+00\n",
            "   0.00000000e+00  0.00000000e+00  0.00000000e+00  0.00000000e+00\n",
            "   0.00000000e+00  0.00000000e+00  0.00000000e+00  0.00000000e+00\n",
            "   0.00000000e+00  0.00000000e+00  0.00000000e+00  0.00000000e+00\n",
            "   0.00000000e+00  0.00000000e+00  0.00000000e+00  0.00000000e+00\n",
            "   0.00000000e+00  0.00000000e+00  0.00000000e+00  0.00000000e+00\n",
            "   0.00000000e+00  0.00000000e+00  0.00000000e+00  0.00000000e+00\n",
            "   0.00000000e+00  0.00000000e+00  0.00000000e+00  0.00000000e+00\n",
            "   0.00000000e+00  0.00000000e+00  0.00000000e+00  0.00000000e+00\n",
            "   0.00000000e+00  0.00000000e+00  0.00000000e+00  0.00000000e+00\n",
            "   0.00000000e+00  0.00000000e+00  0.00000000e+00  0.00000000e+00\n",
            "   0.00000000e+00  0.00000000e+00  0.00000000e+00  0.00000000e+00]\n",
            " [ 3.17640007e-02 -6.07680023e-01  5.22329986e-01 -1.15329996e-02\n",
            "   3.60089988e-01  3.64600003e-01 -4.97280015e-03 -3.37689999e-04\n",
            "   6.60109997e-01 -1.26019999e-01  2.38319993e-01  5.61130010e-02\n",
            "  -1.13279998e-01  3.51990014e-01  2.40700006e-01 -2.95879990e-01\n",
            "  -3.18109989e-01  7.95090012e-03  3.29959989e-01 -1.03830002e-01\n",
            "  -4.02300000e-01 -3.73509992e-03  4.70880002e-01  2.21410006e-01\n",
            "   3.30430001e-01 -4.50480014e-01  3.53760004e-01  5.59430003e-01\n",
            "   2.35090002e-01  5.01900017e-02  5.73840022e-01  9.11369979e-01\n",
            "   8.93599987e-01  1.29999995e-01  6.78070009e-01  4.17869985e-01\n",
            "  -6.98119998e-01 -6.05809987e-01  1.11469996e+00 -4.34549991e-03\n",
            "   4.64390010e-01 -3.86629999e-01  9.20780003e-02 -3.52780014e-01\n",
            "  -9.23020005e-01  3.74229997e-02 -4.94809985e-01 -2.04030007e-01\n",
            "   8.06089997e-01 -6.70629978e-01  1.93240002e-01  6.93289995e-01\n",
            "   8.17430019e-01  3.77620012e-01  2.69510001e-01 -1.76689994e+00\n",
            "  -7.08249986e-01  2.70240009e-01  1.94550002e+00  7.23760009e-01\n",
            "   1.75579995e-01 -1.74750000e-01  1.70039997e-01 -6.79820001e-01\n",
            "  -2.30570003e-01  8.57329965e-02  7.81840026e-01  3.44099998e-01\n",
            "   8.36899996e-01  2.77139992e-01 -4.19110000e-01 -1.39960004e-02\n",
            "   3.62989992e-01 -1.24300003e+00  4.09350008e-01  8.28050017e-01\n",
            "   6.83550000e-01 -2.01460004e-01 -9.28499997e-01 -7.18920007e-02\n",
            "   1.41949999e+00 -1.03190005e+00 -1.11429997e-01 -2.43939996e-01\n",
            "  -2.16739988e+00 -2.78230011e-01  4.85430002e-01 -1.18309997e-01\n",
            "  -1.09660000e-01 -2.08110005e-01  4.41190004e-01  9.37650025e-01\n",
            "   6.79849982e-01 -5.21939993e-01 -4.17100012e-01  2.72980005e-01\n",
            "   3.74040008e-02  1.07260004e-01  8.08929980e-01  2.44079996e-02]\n",
            " [-3.07689998e-02  1.19929999e-01  5.39089978e-01 -4.36960012e-01\n",
            "  -7.39369988e-01 -1.53449997e-01  8.11259970e-02 -3.85589987e-01\n",
            "  -6.87969983e-01 -4.16319996e-01 -1.31830007e-01 -2.49219999e-01\n",
            "   4.41000015e-01  8.59190002e-02  2.08710000e-01 -6.35820031e-02\n",
            "   6.22280017e-02 -5.12339994e-02 -1.33980006e-01  1.14180005e+00\n",
            "   3.65259983e-02  4.90289986e-01 -2.45670006e-01 -4.12000000e-01\n",
            "   1.23489998e-01  4.13360000e-01 -4.83969986e-01 -5.42429984e-01\n",
            "  -2.77869999e-01 -2.60149986e-01 -3.84849995e-01  7.86559999e-01\n",
            "   1.02300003e-01 -2.07120001e-01  4.07510012e-01  3.20259988e-01\n",
            "  -5.10519981e-01  4.83619988e-01 -9.94979963e-03 -3.86849999e-01\n",
            "   3.49749997e-02 -1.66999996e-01  4.23700005e-01 -5.41639984e-01\n",
            "  -3.03229988e-01 -3.69830012e-01  8.28360021e-02 -5.25380015e-01\n",
            "  -6.45309985e-02 -1.39800000e+00 -1.48729995e-01 -3.53269994e-01\n",
            "  -1.11800000e-01  1.09119999e+00  9.58639979e-02 -2.81290007e+00\n",
            "   4.52380002e-01  4.62130010e-01  1.60119998e+00 -2.08370000e-01\n",
            "  -2.73770005e-01  7.11969972e-01 -1.07539999e+00 -4.69739996e-02\n",
            "   6.74790025e-01 -6.58390000e-02  7.58239985e-01  3.94050002e-01\n",
            "   1.55070007e-01 -6.47189975e-01  3.27960014e-01 -3.17480005e-02\n",
            "   5.28989971e-01 -4.38859999e-01  6.74049973e-01  4.21359986e-01\n",
            "  -1.19810000e-01 -2.17769995e-01 -2.97560006e-01 -1.35100007e-01\n",
            "   5.98980010e-01  4.65290010e-01 -5.82579970e-01 -2.32299995e-02\n",
            "  -1.54419994e+00  1.90099999e-02 -1.58769991e-02  2.44989991e-02\n",
            "  -5.80169976e-01 -6.76590025e-01 -4.03789990e-02 -4.40429986e-01\n",
            "   8.32920000e-02  2.00350001e-01 -7.54989982e-01  1.69180006e-01\n",
            "  -2.65729994e-01 -5.28779984e-01  1.75840005e-01  1.06500006e+00]\n",
            " [-3.65310013e-01  3.17849994e-01 -3.20470005e-01  5.16390018e-02\n",
            "  -1.24380000e-01  1.25440001e-01 -4.14380014e-01  1.31659999e-01\n",
            "   7.58650005e-02  4.32980001e-01 -5.42360008e-01 -5.18809974e-01\n",
            "  -2.71220002e-02  4.44099993e-01  4.40919995e-01 -1.44250005e-01\n",
            "   8.85060012e-01  4.52459991e-01 -3.33160013e-01 -1.25700003e-02\n",
            "   9.75190029e-02 -3.03229988e-01  2.50970006e-01  1.06179997e-01\n",
            "  -2.54610002e-01 -2.92409994e-02 -1.97710007e-01 -4.59840000e-01\n",
            "  -4.97649983e-02  2.99279988e-01 -3.12770009e-02  1.06379998e+00\n",
            "  -1.18929994e+00  1.82820000e-02  4.77270007e-01  4.67570007e-01\n",
            "  -1.57110006e-01  7.66159967e-02  3.29279989e-01  4.31489982e-02\n",
            "  -2.66669989e-01 -3.84380013e-01 -3.35159987e-01 -2.57369995e-01\n",
            "  -1.69170007e-01 -2.12919991e-02  7.37959966e-02 -7.63740003e-01\n",
            "  -1.03720002e-01 -9.56700027e-01  1.79930001e-01  9.83340025e-01\n",
            "  -9.80110019e-02  1.28849995e+00 -3.54860001e-03 -2.10310006e+00\n",
            "   1.60699993e-01 -4.63699996e-01  2.10130000e+00 -3.20360005e-01\n",
            "  -2.39910007e-01  5.13329983e-01  3.35830003e-01  5.17709970e-01\n",
            "   1.14150000e+00 -2.54229993e-01  5.93529999e-01 -2.90840000e-01\n",
            "   1.04960002e-01 -5.39619982e-01 -5.26069999e-01 -4.12400007e-01\n",
            "   2.44959995e-01 -1.62560001e-01 -1.69780001e-01 -1.76330000e-01\n",
            "  -3.11869998e-02  2.20009997e-01 -8.30470026e-01  1.55070007e-01\n",
            "   1.11269999e+00 -8.14390004e-01 -6.50089979e-01  1.86130002e-01\n",
            "  -1.77219999e+00  6.28180027e-01  7.02740014e-01  1.52940005e-01\n",
            "   6.34429976e-02 -1.68769993e-02 -2.55860001e-01 -7.96509981e-02\n",
            "   1.15199998e-01 -3.93819988e-01 -2.85789996e-01 -6.63550019e-01\n",
            "  -5.52209973e-01 -7.03639984e-01  9.69089985e-01  2.11529993e-02]\n",
            " [-2.44299993e-01  3.17360014e-01  3.73160005e-01  2.47280002e-02\n",
            "   4.75930005e-01  4.62370008e-01 -5.28779984e-01 -2.30900005e-01\n",
            "   2.90019989e-01 -2.60010004e-01  1.30850002e-01 -7.16149986e-01\n",
            "  -9.51809995e-03 -7.97479972e-02  5.44650018e-01  2.17969999e-01\n",
            "   3.20600003e-01  7.64029980e-01  9.26029980e-01 -8.79219994e-02\n",
            "  -4.30110008e-01 -6.77060008e-01  1.62479997e-01 -5.17629981e-01\n",
            "   1.55610001e+00 -3.22759986e-01  9.21780020e-02  1.86260000e-01\n",
            "  -6.24880008e-02 -4.94080007e-01  7.88139999e-01  5.39600015e-01\n",
            "   5.49639985e-02  1.55870005e-01  1.10029995e+00 -1.58969998e-01\n",
            "  -2.35839993e-01  5.09110019e-02  1.52689993e-01 -2.53910005e-01\n",
            "   2.34249994e-01 -1.33169994e-01 -7.92850018e-01  3.41199994e-01\n",
            "  -3.49729992e-02  2.07159996e-01 -5.54899991e-01 -6.32089972e-01\n",
            "   7.88760036e-02 -2.22859994e-01  3.34490001e-01 -6.33570030e-02\n",
            "   3.42020005e-01  1.15670002e+00  2.41830006e-01 -2.27760005e+00\n",
            "  -6.82730019e-01  2.23769993e-01  1.32420003e+00 -3.63499999e-01\n",
            "   2.29680003e-03  1.71039999e+00 -1.62599996e-01  3.50410014e-01\n",
            "   1.14670001e-01  2.68610001e-01  5.39550006e-01  1.46559998e-01\n",
            "  -5.38139999e-01  4.00440007e-01  4.98730004e-01  3.25520009e-01\n",
            "   4.56640005e-01 -1.42600000e-01 -8.69240016e-02  1.02729999e-01\n",
            "  -2.81839997e-01  2.06939995e-01  5.68409979e-01 -4.54149991e-01\n",
            "  -2.60150004e-02 -6.34000003e-01  3.34969997e-01  2.75649995e-01\n",
            "  -1.81410003e+00 -3.45360011e-01  6.18239999e-01 -2.80750006e-01\n",
            "   3.12920004e-01 -2.44929999e-01  1.20020002e-01  7.68090010e-01\n",
            "   1.98009998e-01 -2.39240006e-01  3.83879989e-02  1.61660001e-01\n",
            "   9.80160013e-02 -1.67129993e-01  5.81300020e-01 -6.92709982e-02]]\n"
          ]
        }
      ]
    },
    {
      "cell_type": "markdown",
      "source": [
        "# Define Training, Validation and Testing Dataset"
      ],
      "metadata": {
        "id": "NEb8qaOdyBb3"
      }
    },
    {
      "cell_type": "code",
      "source": [
        "one_hot_encoded_Y = pd.get_dummies(sentiments).values"
      ],
      "metadata": {
        "id": "57UUxionUcd0"
      },
      "execution_count": null,
      "outputs": []
    },
    {
      "cell_type": "code",
      "source": [
        "reviews.shape"
      ],
      "metadata": {
        "colab": {
          "base_uri": "https://localhost:8080/"
        },
        "id": "29S2xKm8usLS",
        "outputId": "b7ecc6ec-8f01-406a-b6ed-3b85d3040975"
      },
      "execution_count": null,
      "outputs": [
        {
          "output_type": "execute_result",
          "data": {
            "text/plain": [
              "(535,)"
            ]
          },
          "metadata": {},
          "execution_count": 59
        }
      ]
    },
    {
      "cell_type": "code",
      "source": [
        "one_hot_encoded_Y.shape"
      ],
      "metadata": {
        "colab": {
          "base_uri": "https://localhost:8080/"
        },
        "id": "KG1RyGt7uuPM",
        "outputId": "6fda2270-df42-4d20-8e66-4bab7755be3b"
      },
      "execution_count": null,
      "outputs": [
        {
          "output_type": "execute_result",
          "data": {
            "text/plain": [
              "(535, 3)"
            ]
          },
          "metadata": {},
          "execution_count": 60
        }
      ]
    },
    {
      "cell_type": "code",
      "source": [
        "# Firstly split them into the training dataset and the rest as remaining dataset for validation and testing\n",
        "train_reviews, remain_reviews, y_train, y_rem = train_test_split(reviews, one_hot_encoded_Y, train_size=0.8, random_state=42)\n",
        "\n",
        "# Split the remaining dataset for validation and testing\n",
        "valid_reviews, test_reviews, y_valid, y_test = train_test_split(remain_reviews, y_rem, train_size=0.5)"
      ],
      "metadata": {
        "id": "I_0UpA_7YfDO"
      },
      "execution_count": null,
      "outputs": []
    },
    {
      "cell_type": "code",
      "source": [
        "print(train_reviews[:5])"
      ],
      "metadata": {
        "id": "fdeVDKl1oM14",
        "colab": {
          "base_uri": "https://localhost:8080/"
        },
        "outputId": "fcd54517-f231-4e95-e2a9-9abf339f1616"
      },
      "execution_count": null,
      "outputs": [
        {
          "output_type": "stream",
          "name": "stdout",
          "text": [
            "294    good thing order 3 pack. poor quality already ...\n",
            "524      good phone, good qualty, better camera, night..\n",
            "617    really bad pay conection fee cel charge part w...\n",
            "598                           lousy phone, speakers work\n",
            "157    husband loves it!! simple use large numbers. s...\n",
            "Name: Reviews, dtype: object\n"
          ]
        }
      ]
    },
    {
      "cell_type": "code",
      "source": [
        "train_reviews_padded = tokenize(train_reviews)\n",
        "\n",
        "valid_reviews_padded = tokenize(valid_reviews)"
      ],
      "metadata": {
        "id": "ZT5efdITZF-I"
      },
      "execution_count": null,
      "outputs": []
    },
    {
      "cell_type": "code",
      "source": [
        "EPOCHS = 20"
      ],
      "metadata": {
        "id": "_kUYQRSzfiiI"
      },
      "execution_count": null,
      "outputs": []
    },
    {
      "cell_type": "markdown",
      "source": [
        "# Fixing Imbalanced Dataset"
      ],
      "metadata": {
        "id": "y0mQwTr7RccQ"
      }
    },
    {
      "cell_type": "code",
      "source": [],
      "metadata": {
        "id": "gTG4bI3Hy4xl"
      },
      "execution_count": null,
      "outputs": []
    },
    {
      "cell_type": "markdown",
      "source": [
        "# Simple Neural Network (SNN)"
      ],
      "metadata": {
        "id": "NYNfgRgrVi4W"
      }
    },
    {
      "cell_type": "code",
      "source": [
        "SNN = Sequential([\n",
        "    Embedding(vocab_size, embedding_dim, weights=[embedding_matrix], input_length=max_length , trainable=False),\n",
        "    Flatten(),\n",
        "    Dense(num_of_classes, activation='softmax')\n",
        "])"
      ],
      "metadata": {
        "id": "LrspxAscffUT"
      },
      "execution_count": null,
      "outputs": []
    },
    {
      "cell_type": "code",
      "source": [
        "# Define optimiser for Simple Neural Network model\n",
        "optimiser = keras.optimizers.RMSprop(learning_rate=2e-4)\n",
        "\n",
        "# Compile model\n",
        "SNN.compile(optimizer=optimiser, loss='categorical_crossentropy', metrics=['acc'])"
      ],
      "metadata": {
        "id": "oiNkdGmuf8Ww"
      },
      "execution_count": null,
      "outputs": []
    },
    {
      "cell_type": "code",
      "source": [
        "SNN_history = SNN.fit(train_reviews_padded, y_train, epochs=EPOCHS, validation_data=(valid_reviews_padded, y_valid))"
      ],
      "metadata": {
        "id": "gQPlKATOgG9W",
        "colab": {
          "base_uri": "https://localhost:8080/"
        },
        "outputId": "69fc08d1-7d3b-407c-c9e3-a9c87222aa9a"
      },
      "execution_count": null,
      "outputs": [
        {
          "output_type": "stream",
          "name": "stdout",
          "text": [
            "Epoch 1/20\n",
            "14/14 [==============================] - 1s 15ms/step - loss: 1.3897 - acc: 0.4182 - val_loss: 1.3286 - val_acc: 0.4340\n",
            "Epoch 2/20\n",
            "14/14 [==============================] - 0s 6ms/step - loss: 1.1712 - acc: 0.5958 - val_loss: 1.2815 - val_acc: 0.5472\n",
            "Epoch 3/20\n",
            "14/14 [==============================] - 0s 5ms/step - loss: 1.0716 - acc: 0.7009 - val_loss: 1.2491 - val_acc: 0.6415\n",
            "Epoch 4/20\n",
            "14/14 [==============================] - 0s 4ms/step - loss: 0.9945 - acc: 0.7453 - val_loss: 1.2197 - val_acc: 0.6604\n",
            "Epoch 5/20\n",
            "14/14 [==============================] - 0s 5ms/step - loss: 0.9291 - acc: 0.7593 - val_loss: 1.1957 - val_acc: 0.6604\n",
            "Epoch 6/20\n",
            "14/14 [==============================] - 0s 5ms/step - loss: 0.8772 - acc: 0.7593 - val_loss: 1.1754 - val_acc: 0.6792\n",
            "Epoch 7/20\n",
            "14/14 [==============================] - 0s 6ms/step - loss: 0.8294 - acc: 0.7757 - val_loss: 1.1631 - val_acc: 0.6792\n",
            "Epoch 8/20\n",
            "14/14 [==============================] - 0s 5ms/step - loss: 0.7879 - acc: 0.7897 - val_loss: 1.1516 - val_acc: 0.6792\n",
            "Epoch 9/20\n",
            "14/14 [==============================] - 0s 6ms/step - loss: 0.7490 - acc: 0.8107 - val_loss: 1.1386 - val_acc: 0.6792\n",
            "Epoch 10/20\n",
            "14/14 [==============================] - 0s 5ms/step - loss: 0.7147 - acc: 0.8294 - val_loss: 1.1279 - val_acc: 0.6792\n",
            "Epoch 11/20\n",
            "14/14 [==============================] - 0s 5ms/step - loss: 0.6827 - acc: 0.8318 - val_loss: 1.1191 - val_acc: 0.6792\n",
            "Epoch 12/20\n",
            "14/14 [==============================] - 0s 5ms/step - loss: 0.6543 - acc: 0.8481 - val_loss: 1.1104 - val_acc: 0.6792\n",
            "Epoch 13/20\n",
            "14/14 [==============================] - 0s 6ms/step - loss: 0.6279 - acc: 0.8505 - val_loss: 1.1019 - val_acc: 0.6792\n",
            "Epoch 14/20\n",
            "14/14 [==============================] - 0s 6ms/step - loss: 0.6036 - acc: 0.8621 - val_loss: 1.0959 - val_acc: 0.6792\n",
            "Epoch 15/20\n",
            "14/14 [==============================] - 0s 6ms/step - loss: 0.5808 - acc: 0.8738 - val_loss: 1.0869 - val_acc: 0.6792\n",
            "Epoch 16/20\n",
            "14/14 [==============================] - 0s 6ms/step - loss: 0.5593 - acc: 0.8808 - val_loss: 1.0828 - val_acc: 0.6604\n",
            "Epoch 17/20\n",
            "14/14 [==============================] - 0s 6ms/step - loss: 0.5387 - acc: 0.8879 - val_loss: 1.0722 - val_acc: 0.6604\n",
            "Epoch 18/20\n",
            "14/14 [==============================] - 0s 6ms/step - loss: 0.5188 - acc: 0.8855 - val_loss: 1.0671 - val_acc: 0.6415\n",
            "Epoch 19/20\n",
            "14/14 [==============================] - 0s 5ms/step - loss: 0.5013 - acc: 0.8902 - val_loss: 1.0654 - val_acc: 0.6415\n",
            "Epoch 20/20\n",
            "14/14 [==============================] - 0s 5ms/step - loss: 0.4846 - acc: 0.8949 - val_loss: 1.0617 - val_acc: 0.6415\n"
          ]
        }
      ]
    },
    {
      "cell_type": "code",
      "source": [
        "plot_model(\n",
        "    SNN,\n",
        "    show_shapes = True,\n",
        "    show_dtype = True,\n",
        "    show_layer_activations = True\n",
        ")"
      ],
      "metadata": {
        "id": "ATMeZg2s_a7q",
        "colab": {
          "base_uri": "https://localhost:8080/",
          "height": 545
        },
        "outputId": "140f9aa9-3f35-4454-9f24-f31f779d4182"
      },
      "execution_count": null,
      "outputs": [
        {
          "output_type": "execute_result",
          "data": {
            "image/png": "[encoded data removed]",
            "text/plain": [
              "<IPython.core.display.Image object>"
            ]
          },
          "metadata": {},
          "execution_count": 37
        }
      ]
    },
    {
      "cell_type": "code",
      "source": [
        "def display_graphs(history):\n",
        "  plt.plot(history.history['acc'])\n",
        "  plt.plot(history.history['val_acc'])\n",
        "\n",
        "  plt.title('Model Accuracy')\n",
        "  plt.ylabel('Accuracy')\n",
        "  plt.xlabel('Epochs')\n",
        "  plt.legend(['train','test'], loc='upper left')\n",
        "  plt.show()\n",
        "\n",
        "  plt.plot(history.history['loss'])\n",
        "  plt.plot(history.history['val_loss'])\n",
        "\n",
        "  plt.title('Model Loss')\n",
        "  plt.ylabel('Loss')\n",
        "  plt.xlabel('Epochs')\n",
        "  plt.legend(['train','test'], loc='upper left')\n",
        "  plt.show()\n"
      ],
      "metadata": {
        "id": "7Uc4EsnShaSI"
      },
      "execution_count": null,
      "outputs": []
    },
    {
      "cell_type": "code",
      "source": [
        "display_graphs(SNN_history)"
      ],
      "metadata": {
        "id": "4dWzXti4g2Nm",
        "colab": {
          "base_uri": "https://localhost:8080/",
          "height": 927
        },
        "outputId": "ba2e0c0b-4b9c-47ca-d226-30f28c34ef5a"
      },
      "execution_count": null,
      "outputs": [
        {
          "output_type": "display_data",
          "data": {
            "text/plain": [
              "<Figure size 640x480 with 1 Axes>"
            ],
            "image/png": "[encoded data removed]"
          },
          "metadata": {}
        },
        {
          "output_type": "display_data",
          "data": {
            "text/plain": [
              "<Figure size 640x480 with 1 Axes>"
            ],
            "image/png": "[encoded data removed]"
          },
          "metadata": {}
        }
      ]
    },
    {
      "cell_type": "code",
      "source": [
        "# Define file path to save/load SNN model\n",
        "filepath_SNN = '/content/drive/MyDrive/Sheffield_Hallam_University/Final Year/Development Project/development_project_shared/Source_Code/SNN_rating_predictor.keras'"
      ],
      "metadata": {
        "id": "WEN8n2IM-7pm"
      },
      "execution_count": null,
      "outputs": []
    },
    {
      "cell_type": "code",
      "source": [
        "# save SNN model\n",
        "keras.saving.save_model(SNN, filepath_SNN)"
      ],
      "metadata": {
        "id": "_oWouc5O_Dbm"
      },
      "execution_count": null,
      "outputs": []
    },
    {
      "cell_type": "markdown",
      "source": [
        "# Convolutional Neural Network (CNN)"
      ],
      "metadata": {
        "id": "YsZQxdY6gKzx"
      }
    },
    {
      "cell_type": "code",
      "source": [
        "CNN = Sequential([\n",
        "    Embedding(vocab_size, embedding_dim, weights=[embedding_matrix], input_length=max_length, trainable=False),\n",
        "    Conv1D(128, 5, activation='relu'),\n",
        "    MaxPooling1D(),\n",
        "    Dense(num_of_classes, activation='softmax')\n",
        "])"
      ],
      "metadata": {
        "id": "pGspzk61gOD-"
      },
      "execution_count": null,
      "outputs": []
    },
    {
      "cell_type": "code",
      "source": [
        "# Define optimiser for CNN model\n",
        "optimiser = keras.optimizers.RMSprop(learning_rate=2e-4)\n",
        "\n",
        "# Compile model\n",
        "CNN.compile(optimizer=optimiser, loss='categorical_crossentropy', metrics=['acc'])"
      ],
      "metadata": {
        "id": "k7-_sHY8g5eR"
      },
      "execution_count": null,
      "outputs": []
    },
    {
      "cell_type": "code",
      "source": [
        "CNN_history = CNN.fit(train_reviews_padded, y_train, epochs=EPOCHS, validation_data=(valid_reviews_padded, y_valid))"
      ],
      "metadata": {
        "id": "GeJOrhsCg6dm",
        "colab": {
          "base_uri": "https://localhost:8080/"
        },
        "outputId": "de67d425-d1dd-4e19-9fd9-29edcb1af26f"
      },
      "execution_count": null,
      "outputs": [
        {
          "output_type": "stream",
          "name": "stdout",
          "text": [
            "Epoch 1/20\n",
            "14/14 [==============================] - 2s 37ms/step - loss: 1.6121 - acc: 0.3178 - val_loss: 1.4370 - val_acc: 0.3962\n",
            "Epoch 2/20\n",
            "14/14 [==============================] - 0s 7ms/step - loss: 1.2931 - acc: 0.5280 - val_loss: 1.3694 - val_acc: 0.4528\n",
            "Epoch 3/20\n",
            "14/14 [==============================] - 0s 7ms/step - loss: 1.1853 - acc: 0.5935 - val_loss: 1.3243 - val_acc: 0.4906\n",
            "Epoch 4/20\n",
            "14/14 [==============================] - 0s 7ms/step - loss: 1.0980 - acc: 0.6472 - val_loss: 1.2817 - val_acc: 0.5472\n",
            "Epoch 5/20\n",
            "14/14 [==============================] - 0s 7ms/step - loss: 1.0161 - acc: 0.6916 - val_loss: 1.2430 - val_acc: 0.5472\n",
            "Epoch 6/20\n",
            "14/14 [==============================] - 0s 8ms/step - loss: 0.9460 - acc: 0.7103 - val_loss: 1.1873 - val_acc: 0.5472\n",
            "Epoch 7/20\n",
            "14/14 [==============================] - 0s 7ms/step - loss: 0.8816 - acc: 0.7477 - val_loss: 1.1592 - val_acc: 0.5660\n",
            "Epoch 8/20\n",
            "14/14 [==============================] - 0s 8ms/step - loss: 0.8225 - acc: 0.7570 - val_loss: 1.1266 - val_acc: 0.6038\n",
            "Epoch 9/20\n",
            "14/14 [==============================] - 0s 8ms/step - loss: 0.7695 - acc: 0.7827 - val_loss: 1.0968 - val_acc: 0.6038\n",
            "Epoch 10/20\n",
            "14/14 [==============================] - 0s 7ms/step - loss: 0.7175 - acc: 0.8037 - val_loss: 1.0865 - val_acc: 0.6604\n",
            "Epoch 11/20\n",
            "14/14 [==============================] - 0s 7ms/step - loss: 0.6745 - acc: 0.8201 - val_loss: 1.0569 - val_acc: 0.6792\n",
            "Epoch 12/20\n",
            "14/14 [==============================] - 0s 7ms/step - loss: 0.6335 - acc: 0.8645 - val_loss: 1.0308 - val_acc: 0.6038\n",
            "Epoch 13/20\n",
            "14/14 [==============================] - 0s 7ms/step - loss: 0.5945 - acc: 0.8715 - val_loss: 1.0025 - val_acc: 0.6226\n",
            "Epoch 14/20\n",
            "14/14 [==============================] - 0s 7ms/step - loss: 0.5582 - acc: 0.8855 - val_loss: 0.9833 - val_acc: 0.6226\n",
            "Epoch 15/20\n",
            "14/14 [==============================] - 0s 9ms/step - loss: 0.5244 - acc: 0.9136 - val_loss: 0.9766 - val_acc: 0.6226\n",
            "Epoch 16/20\n",
            "14/14 [==============================] - 0s 7ms/step - loss: 0.4938 - acc: 0.9206 - val_loss: 0.9507 - val_acc: 0.6981\n",
            "Epoch 17/20\n",
            "14/14 [==============================] - 0s 8ms/step - loss: 0.4629 - acc: 0.9276 - val_loss: 0.9511 - val_acc: 0.6415\n",
            "Epoch 18/20\n",
            "14/14 [==============================] - 0s 9ms/step - loss: 0.4353 - acc: 0.9393 - val_loss: 0.9379 - val_acc: 0.6981\n",
            "Epoch 19/20\n",
            "14/14 [==============================] - 0s 9ms/step - loss: 0.4093 - acc: 0.9486 - val_loss: 0.9327 - val_acc: 0.6981\n",
            "Epoch 20/20\n",
            "14/14 [==============================] - 0s 9ms/step - loss: 0.3856 - acc: 0.9533 - val_loss: 0.9241 - val_acc: 0.6981\n"
          ]
        }
      ]
    },
    {
      "cell_type": "code",
      "source": [
        "plot_model(\n",
        "    CNN,\n",
        "    show_shapes = True,\n",
        "    show_dtype = True,\n",
        "    show_layer_activations = True\n",
        ")"
      ],
      "metadata": {
        "id": "_sCR4q9p_o75",
        "colab": {
          "base_uri": "https://localhost:8080/",
          "height": 686
        },
        "outputId": "45c6422d-8342-4c31-9703-273ff807aca5"
      },
      "execution_count": null,
      "outputs": [
        {
          "output_type": "execute_result",
          "data": {
            "image/png": "[encoded data removed]",
            "text/plain": [
              "<IPython.core.display.Image object>"
            ]
          },
          "metadata": {},
          "execution_count": 46
        }
      ]
    },
    {
      "cell_type": "code",
      "source": [
        "display_graphs(CNN.history)"
      ],
      "metadata": {
        "id": "-AZFQWedkZD5",
        "colab": {
          "base_uri": "https://localhost:8080/",
          "height": 927
        },
        "outputId": "2a43aec2-a28d-455e-a750-6fcc84159b6f"
      },
      "execution_count": null,
      "outputs": [
        {
          "output_type": "display_data",
          "data": {
            "text/plain": [
              "<Figure size 640x480 with 1 Axes>"
            ],
            "image/png": "[encoded data removed]"
          },
          "metadata": {}
        },
        {
          "output_type": "display_data",
          "data": {
            "text/plain": [
              "<Figure size 640x480 with 1 Axes>"
            ],
            "image/png": "[encoded data removed]"
          },
          "metadata": {}
        }
      ]
    },
    {
      "cell_type": "code",
      "source": [
        "# Define file path to save/load CNN model\n",
        "filepath_CNN = '/content/drive/MyDrive/Sheffield_Hallam_University/Final Year/Development Project/development_project_shared/Source_Code/CNN_rating_predictor.keras'"
      ],
      "metadata": {
        "id": "PHMQ5MRJYwcB"
      },
      "execution_count": null,
      "outputs": []
    },
    {
      "cell_type": "code",
      "source": [
        "# save CNN model\n",
        "keras.saving.save_model(CNN, filepath_CNN)"
      ],
      "metadata": {
        "id": "xwHzTa6r_xJj"
      },
      "execution_count": null,
      "outputs": []
    },
    {
      "cell_type": "markdown",
      "source": [
        "# Long-Short Term Memory (LSTM)"
      ],
      "metadata": {
        "id": "8VgjF6FaJg6g"
      }
    },
    {
      "cell_type": "code",
      "source": [
        "# Build an LSTM model\n",
        "LSTM = Sequential([\n",
        "    Embedding(vocab_size, embedding_dim, weights=[embedding_matrix], input_length=max_length, trainable=False),\n",
        "    SpatialDropout1D(0.2),\n",
        "    LSTM(64, dropout=0.2, recurrent_dropout=0.2),\n",
        "    Dense(num_of_classes, activation='softmax')\n",
        "])\n"
      ],
      "metadata": {
        "id": "b1AmbU7dIqA3",
        "colab": {
          "base_uri": "https://localhost:8080/"
        },
        "outputId": "3da585e8-a5d3-4081-ec8d-cadbb59e539d"
      },
      "execution_count": null,
      "outputs": [
        {
          "output_type": "stream",
          "name": "stderr",
          "text": [
            "WARNING:tensorflow:Layer lstm will not use cuDNN kernels since it doesn't meet the criteria. It will use a generic GPU kernel as fallback when running on GPU.\n"
          ]
        }
      ]
    },
    {
      "cell_type": "code",
      "source": [
        "# Define optimiser for LSTM model\n",
        "optimiser = keras.optimizers.RMSprop(learning_rate=2e-4)\n",
        "\n",
        "# Compile model\n",
        "LSTM.compile(optimizer=optimiser, loss='categorical_crossentropy', metrics=['acc'])"
      ],
      "metadata": {
        "id": "9EylqLtJR33B"
      },
      "execution_count": null,
      "outputs": []
    },
    {
      "cell_type": "code",
      "source": [
        "# Train the model\n",
        "LSTM_history = LSTM.fit(train_reviews_padded, y_train, epochs=EPOCHS, validation_data=(valid_reviews_padded, y_valid))"
      ],
      "metadata": {
        "id": "SPonXcP3V0K8",
        "colab": {
          "base_uri": "https://localhost:8080/"
        },
        "outputId": "1b5caf64-40ae-4381-dd9b-ee36b7aa709f"
      },
      "execution_count": null,
      "outputs": [
        {
          "output_type": "stream",
          "name": "stdout",
          "text": [
            "Epoch 1/20\n",
            "14/14 [==============================] - 19s 1s/step - loss: 1.6001 - acc: 0.4509 - val_loss: 1.5961 - val_acc: 0.4151\n",
            "Epoch 2/20\n",
            "14/14 [==============================] - 16s 1s/step - loss: 1.5820 - acc: 0.4626 - val_loss: 1.5800 - val_acc: 0.4151\n",
            "Epoch 3/20\n",
            "14/14 [==============================] - 16s 1s/step - loss: 1.5503 - acc: 0.4603 - val_loss: 1.5372 - val_acc: 0.4151\n",
            "Epoch 4/20\n",
            "14/14 [==============================] - 17s 1s/step - loss: 1.4326 - acc: 0.4626 - val_loss: 1.4754 - val_acc: 0.4151\n",
            "Epoch 5/20\n",
            "14/14 [==============================] - 15s 1s/step - loss: 1.3737 - acc: 0.4626 - val_loss: 1.4854 - val_acc: 0.4151\n",
            "Epoch 6/20\n",
            "14/14 [==============================] - 16s 1s/step - loss: 1.3739 - acc: 0.4626 - val_loss: 1.4754 - val_acc: 0.4151\n",
            "Epoch 7/20\n",
            "14/14 [==============================] - 18s 1s/step - loss: 1.3743 - acc: 0.4626 - val_loss: 1.4927 - val_acc: 0.4151\n",
            "Epoch 8/20\n",
            "14/14 [==============================] - 16s 1s/step - loss: 1.3717 - acc: 0.4626 - val_loss: 1.4850 - val_acc: 0.4151\n",
            "Epoch 9/20\n",
            "14/14 [==============================] - 15s 1s/step - loss: 1.3702 - acc: 0.4626 - val_loss: 1.4951 - val_acc: 0.4151\n",
            "Epoch 10/20\n",
            "14/14 [==============================] - 16s 1s/step - loss: 1.3714 - acc: 0.4626 - val_loss: 1.4886 - val_acc: 0.4151\n",
            "Epoch 11/20\n",
            "14/14 [==============================] - 16s 1s/step - loss: 1.3736 - acc: 0.4626 - val_loss: 1.4909 - val_acc: 0.4151\n",
            "Epoch 12/20\n",
            "14/14 [==============================] - 15s 1s/step - loss: 1.3748 - acc: 0.4626 - val_loss: 1.5006 - val_acc: 0.4151\n",
            "Epoch 13/20\n",
            "14/14 [==============================] - 15s 1s/step - loss: 1.3729 - acc: 0.4626 - val_loss: 1.4860 - val_acc: 0.4151\n",
            "Epoch 14/20\n",
            "14/14 [==============================] - 15s 1s/step - loss: 1.3743 - acc: 0.4626 - val_loss: 1.4958 - val_acc: 0.4151\n",
            "Epoch 15/20\n",
            "14/14 [==============================] - 17s 1s/step - loss: 1.3703 - acc: 0.4626 - val_loss: 1.4868 - val_acc: 0.4151\n",
            "Epoch 16/20\n",
            "14/14 [==============================] - 15s 1s/step - loss: 1.3710 - acc: 0.4626 - val_loss: 1.4956 - val_acc: 0.4151\n",
            "Epoch 17/20\n",
            "14/14 [==============================] - 15s 1s/step - loss: 1.3724 - acc: 0.4626 - val_loss: 1.5058 - val_acc: 0.4151\n",
            "Epoch 18/20\n",
            "14/14 [==============================] - 15s 1s/step - loss: 1.3686 - acc: 0.4626 - val_loss: 1.4842 - val_acc: 0.4151\n",
            "Epoch 19/20\n",
            "14/14 [==============================] - 17s 1s/step - loss: 1.3744 - acc: 0.4626 - val_loss: 1.5025 - val_acc: 0.4151\n",
            "Epoch 20/20\n",
            "14/14 [==============================] - 16s 1s/step - loss: 1.3747 - acc: 0.4626 - val_loss: 1.5034 - val_acc: 0.4151\n"
          ]
        }
      ]
    },
    {
      "cell_type": "code",
      "source": [
        "plot_model(\n",
        "    LSTM,\n",
        "    show_shapes = True,\n",
        "    show_dtype = True,\n",
        "    show_layer_activations = True\n",
        ")"
      ],
      "metadata": {
        "id": "RANkg1RvAPXU",
        "colab": {
          "base_uri": "https://localhost:8080/",
          "height": 686
        },
        "outputId": "a62ccda6-5729-4a53-80d2-595a388506ad"
      },
      "execution_count": null,
      "outputs": [
        {
          "output_type": "execute_result",
          "data": {
            "image/png": "[encoded data removed]",
            "text/plain": [
              "<IPython.core.display.Image object>"
            ]
          },
          "metadata": {},
          "execution_count": 54
        }
      ]
    },
    {
      "cell_type": "code",
      "source": [
        "display_graphs(LSTM.history)"
      ],
      "metadata": {
        "id": "TCFJKFP7kcza",
        "colab": {
          "base_uri": "https://localhost:8080/",
          "height": 927
        },
        "outputId": "6cb5faa6-810d-4af4-a83e-8e01bb5f530e"
      },
      "execution_count": null,
      "outputs": [
        {
          "output_type": "display_data",
          "data": {
            "text/plain": [
              "<Figure size 640x480 with 1 Axes>"
            ],
            "image/png": "[encoded data removed]"
          },
          "metadata": {}
        },
        {
          "output_type": "display_data",
          "data": {
            "text/plain": [
              "<Figure size 640x480 with 1 Axes>"
            ],
            "image/png": "[encoded data removed]"
          },
          "metadata": {}
        }
      ]
    },
    {
      "cell_type": "code",
      "source": [
        "# Define file path to save/load LSTM model\n",
        "filepath_LSTM = '/content/drive/MyDrive/Sheffield_Hallam_University/Final Year/Development Project/development_project_shared/Source_Code/LSTM_rating_predictor.keras'"
      ],
      "metadata": {
        "id": "6B3oWjvkATt7"
      },
      "execution_count": null,
      "outputs": []
    },
    {
      "cell_type": "code",
      "source": [
        "# save LSTM model\n",
        "keras.saving.save_model(LSTM, filepath_LSTM)"
      ],
      "metadata": {
        "id": "ok0vorVhAX3A"
      },
      "execution_count": null,
      "outputs": []
    },
    {
      "cell_type": "markdown",
      "source": [
        "# CNN + LSTM"
      ],
      "metadata": {
        "id": "kZik4fPdh99F"
      }
    },
    {
      "cell_type": "code",
      "source": [
        "CNN_LSTM= Sequential()\n",
        "CNN_LSTM.add(Embedding(vocab_size, embedding_dim, input_length=max_length))\n",
        "CNN_LSTM.add(Conv1D(64, kernel_size=5, activation = \"relu\"))\n",
        "CNN_LSTM.add(MaxPooling1D(pool_size=4))\n",
        "CNN_LSTM.add(LSTM(100))\n",
        "CNN_LSTM.add(Dense(num_of_classes, activation='softmax'))"
      ],
      "metadata": {
        "id": "v6bYZXpCh9e6"
      },
      "execution_count": null,
      "outputs": []
    },
    {
      "cell_type": "code",
      "source": [
        "# Define optimiser for Hybrid model\n",
        "optimiser = keras.optimizers.RMSprop(learning_rate=2e-4)\n",
        "\n",
        "# Compile model\n",
        "CNN_LSTM.compile(optimizer=optimiser, loss='categorical_crossentropy', metrics=['acc'])"
      ],
      "metadata": {
        "id": "fQMiU8ORixxQ"
      },
      "execution_count": null,
      "outputs": []
    },
    {
      "cell_type": "code",
      "source": [
        "# Train the model\n",
        "CNN_LSTM_history = CNN_LSTM.fit(train_reviews_padded, y_train, epochs=EPOCHS, validation_data=(valid_reviews_padded, y_valid))"
      ],
      "metadata": {
        "id": "SyxmnD7hi4Bb",
        "colab": {
          "base_uri": "https://localhost:8080/"
        },
        "outputId": "1d22457f-72c2-4988-98b2-8ca35b7f6752"
      },
      "execution_count": null,
      "outputs": [
        {
          "output_type": "stream",
          "name": "stdout",
          "text": [
            "Epoch 1/20\n",
            "14/14 [==============================] - 14s 292ms/step - loss: 2.2252 - acc: 0.2547 - val_loss: 2.1753 - val_acc: 0.3019\n",
            "Epoch 2/20\n",
            "14/14 [==============================] - 2s 154ms/step - loss: 2.0743 - acc: 0.3248 - val_loss: 2.1255 - val_acc: 0.3396\n",
            "Epoch 3/20\n",
            "14/14 [==============================] - 2s 168ms/step - loss: 1.9882 - acc: 0.4626 - val_loss: 2.1334 - val_acc: 0.3396\n",
            "Epoch 4/20\n",
            "14/14 [==============================] - 3s 182ms/step - loss: 1.9551 - acc: 0.4626 - val_loss: 2.1169 - val_acc: 0.3396\n",
            "Epoch 5/20\n",
            "14/14 [==============================] - 2s 139ms/step - loss: 1.9297 - acc: 0.4626 - val_loss: 2.0739 - val_acc: 0.3396\n",
            "Epoch 6/20\n",
            "14/14 [==============================] - 2s 139ms/step - loss: 1.9050 - acc: 0.4626 - val_loss: 2.0764 - val_acc: 0.3396\n",
            "Epoch 7/20\n",
            "14/14 [==============================] - 2s 171ms/step - loss: 1.8857 - acc: 0.4626 - val_loss: 2.0489 - val_acc: 0.3396\n",
            "Epoch 8/20\n",
            "14/14 [==============================] - 2s 165ms/step - loss: 1.8656 - acc: 0.4626 - val_loss: 2.0298 - val_acc: 0.3396\n",
            "Epoch 9/20\n",
            "14/14 [==============================] - 3s 226ms/step - loss: 1.8450 - acc: 0.4626 - val_loss: 2.0084 - val_acc: 0.3396\n",
            "Epoch 10/20\n",
            "14/14 [==============================] - 2s 148ms/step - loss: 1.8218 - acc: 0.4626 - val_loss: 1.9666 - val_acc: 0.3396\n",
            "Epoch 11/20\n",
            "14/14 [==============================] - 2s 126ms/step - loss: 1.8030 - acc: 0.4626 - val_loss: 2.0000 - val_acc: 0.3396\n",
            "Epoch 12/20\n",
            "14/14 [==============================] - 1s 111ms/step - loss: 1.7879 - acc: 0.4626 - val_loss: 1.9411 - val_acc: 0.3396\n",
            "Epoch 13/20\n",
            "14/14 [==============================] - 2s 135ms/step - loss: 1.7673 - acc: 0.4626 - val_loss: 1.9038 - val_acc: 0.3396\n",
            "Epoch 14/20\n",
            "14/14 [==============================] - 2s 122ms/step - loss: 1.7502 - acc: 0.4626 - val_loss: 1.9113 - val_acc: 0.3396\n",
            "Epoch 15/20\n",
            "14/14 [==============================] - 2s 139ms/step - loss: 1.7271 - acc: 0.4626 - val_loss: 1.8939 - val_acc: 0.3396\n",
            "Epoch 16/20\n",
            "14/14 [==============================] - 2s 176ms/step - loss: 1.7019 - acc: 0.4626 - val_loss: 1.8902 - val_acc: 0.3396\n",
            "Epoch 17/20\n",
            "14/14 [==============================] - 2s 128ms/step - loss: 1.6783 - acc: 0.4626 - val_loss: 1.8735 - val_acc: 0.3396\n",
            "Epoch 18/20\n",
            "14/14 [==============================] - 2s 114ms/step - loss: 1.6471 - acc: 0.4626 - val_loss: 1.8300 - val_acc: 0.3396\n",
            "Epoch 19/20\n",
            "14/14 [==============================] - 2s 120ms/step - loss: 1.6050 - acc: 0.4626 - val_loss: 1.8033 - val_acc: 0.3396\n",
            "Epoch 20/20\n",
            "14/14 [==============================] - 1s 97ms/step - loss: 1.5514 - acc: 0.4626 - val_loss: 1.7877 - val_acc: 0.3396\n"
          ]
        }
      ]
    },
    {
      "cell_type": "code",
      "source": [
        "plot_model(\n",
        "    CNN_LSTM,\n",
        "    show_shapes = True,\n",
        "    show_dtype = True,\n",
        "    show_layer_activations = True\n",
        ")"
      ],
      "metadata": {
        "colab": {
          "base_uri": "https://localhost:8080/",
          "height": 369
        },
        "id": "OyuY3C0Lo69E",
        "outputId": "e5546394-100c-4e81-aceb-ceb3543eed37"
      },
      "execution_count": null,
      "outputs": [
        {
          "output_type": "error",
          "ename": "KeyboardInterrupt",
          "evalue": "",
          "traceback": [
            "\u001b[0;31m---------------------------------------------------------------------------\u001b[0m",
            "\u001b[0;31mKeyboardInterrupt\u001b[0m                         Traceback (most recent call last)",
            "\u001b[0;32m<ipython-input-29-4b9a488357ac>\u001b[0m in \u001b[0;36m<cell line: 1>\u001b[0;34m()\u001b[0m\n\u001b[0;32m----> 1\u001b[0;31m plot_model(\n\u001b[0m\u001b[1;32m      2\u001b[0m     \u001b[0mHybrid\u001b[0m\u001b[0;34m,\u001b[0m\u001b[0;34m\u001b[0m\u001b[0;34m\u001b[0m\u001b[0m\n\u001b[1;32m      3\u001b[0m     \u001b[0mshow_shapes\u001b[0m \u001b[0;34m=\u001b[0m \u001b[0;32mTrue\u001b[0m\u001b[0;34m,\u001b[0m\u001b[0;34m\u001b[0m\u001b[0;34m\u001b[0m\u001b[0m\n\u001b[1;32m      4\u001b[0m     \u001b[0mshow_dtype\u001b[0m \u001b[0;34m=\u001b[0m \u001b[0;32mTrue\u001b[0m\u001b[0;34m,\u001b[0m\u001b[0;34m\u001b[0m\u001b[0;34m\u001b[0m\u001b[0m\n\u001b[1;32m      5\u001b[0m     \u001b[0mshow_layer_activations\u001b[0m \u001b[0;34m=\u001b[0m \u001b[0;32mTrue\u001b[0m\u001b[0;34m\u001b[0m\u001b[0;34m\u001b[0m\u001b[0m\n",
            "\u001b[0;32m/usr/local/lib/python3.10/dist-packages/keras/src/utils/vis_utils.py\u001b[0m in \u001b[0;36mplot_model\u001b[0;34m(model, to_file, show_shapes, show_dtype, show_layer_names, rankdir, expand_nested, dpi, layer_range, show_layer_activations, show_trainable)\u001b[0m\n\u001b[1;32m    449\u001b[0m         )\n\u001b[1;32m    450\u001b[0m \u001b[0;34m\u001b[0m\u001b[0m\n\u001b[0;32m--> 451\u001b[0;31m     \u001b[0;32mif\u001b[0m \u001b[0;32mnot\u001b[0m \u001b[0mcheck_graphviz\u001b[0m\u001b[0;34m(\u001b[0m\u001b[0;34m)\u001b[0m\u001b[0;34m:\u001b[0m\u001b[0;34m\u001b[0m\u001b[0;34m\u001b[0m\u001b[0m\n\u001b[0m\u001b[1;32m    452\u001b[0m         message = (\n\u001b[1;32m    453\u001b[0m             \u001b[0;34m\"You must install pydot (`pip install pydot`) \"\u001b[0m\u001b[0;34m\u001b[0m\u001b[0;34m\u001b[0m\u001b[0m\n",
            "\u001b[0;32m/usr/local/lib/python3.10/dist-packages/keras/src/utils/vis_utils.py\u001b[0m in \u001b[0;36mcheck_graphviz\u001b[0;34m()\u001b[0m\n\u001b[1;32m     55\u001b[0m         \u001b[0;31m# Attempt to create an image of a blank graph\u001b[0m\u001b[0;34m\u001b[0m\u001b[0;34m\u001b[0m\u001b[0m\n\u001b[1;32m     56\u001b[0m         \u001b[0;31m# to check the pydot/graphviz installation.\u001b[0m\u001b[0;34m\u001b[0m\u001b[0;34m\u001b[0m\u001b[0m\n\u001b[0;32m---> 57\u001b[0;31m         \u001b[0mpydot\u001b[0m\u001b[0;34m.\u001b[0m\u001b[0mDot\u001b[0m\u001b[0;34m.\u001b[0m\u001b[0mcreate\u001b[0m\u001b[0;34m(\u001b[0m\u001b[0mpydot\u001b[0m\u001b[0;34m.\u001b[0m\u001b[0mDot\u001b[0m\u001b[0;34m(\u001b[0m\u001b[0;34m)\u001b[0m\u001b[0;34m)\u001b[0m\u001b[0;34m\u001b[0m\u001b[0;34m\u001b[0m\u001b[0m\n\u001b[0m\u001b[1;32m     58\u001b[0m         \u001b[0;32mreturn\u001b[0m \u001b[0;32mTrue\u001b[0m\u001b[0;34m\u001b[0m\u001b[0;34m\u001b[0m\u001b[0m\n\u001b[1;32m     59\u001b[0m     \u001b[0;32mexcept\u001b[0m \u001b[0;34m(\u001b[0m\u001b[0mOSError\u001b[0m\u001b[0;34m,\u001b[0m \u001b[0mpydot\u001b[0m\u001b[0;34m.\u001b[0m\u001b[0mInvocationException\u001b[0m\u001b[0;34m)\u001b[0m\u001b[0;34m:\u001b[0m\u001b[0;34m\u001b[0m\u001b[0;34m\u001b[0m\u001b[0m\n",
            "\u001b[0;32m/usr/local/lib/python3.10/dist-packages/pydot_ng/__init__.py\u001b[0m in \u001b[0;36mcreate\u001b[0;34m(self, prog, format)\u001b[0m\n\u001b[1;32m   1862\u001b[0m         \u001b[0mstdout_output\u001b[0m \u001b[0;34m=\u001b[0m \u001b[0mlist\u001b[0m\u001b[0;34m(\u001b[0m\u001b[0;34m)\u001b[0m\u001b[0;34m\u001b[0m\u001b[0;34m\u001b[0m\u001b[0m\n\u001b[1;32m   1863\u001b[0m         \u001b[0;32mwhile\u001b[0m \u001b[0;32mTrue\u001b[0m\u001b[0;34m:\u001b[0m\u001b[0;34m\u001b[0m\u001b[0;34m\u001b[0m\u001b[0m\n\u001b[0;32m-> 1864\u001b[0;31m             \u001b[0mdata\u001b[0m \u001b[0;34m=\u001b[0m \u001b[0mstdout\u001b[0m\u001b[0;34m.\u001b[0m\u001b[0mread\u001b[0m\u001b[0;34m(\u001b[0m\u001b[0;34m)\u001b[0m\u001b[0;34m\u001b[0m\u001b[0;34m\u001b[0m\u001b[0m\n\u001b[0m\u001b[1;32m   1865\u001b[0m             \u001b[0;32mif\u001b[0m \u001b[0;32mnot\u001b[0m \u001b[0mdata\u001b[0m\u001b[0;34m:\u001b[0m\u001b[0;34m\u001b[0m\u001b[0;34m\u001b[0m\u001b[0m\n\u001b[1;32m   1866\u001b[0m                 \u001b[0;32mbreak\u001b[0m\u001b[0;34m\u001b[0m\u001b[0;34m\u001b[0m\u001b[0m\n",
            "\u001b[0;31mKeyboardInterrupt\u001b[0m: "
          ]
        }
      ]
    },
    {
      "cell_type": "code",
      "source": [
        "display_graphs(CNN_LSTM.history)"
      ],
      "metadata": {
        "id": "oxCFFmVdo_pb"
      },
      "execution_count": null,
      "outputs": []
    },
    {
      "cell_type": "code",
      "source": [
        "# Define file path to save/load CNN + LSTM model\n",
        "filepath_CNN_LSTM = '/content/drive/MyDrive/Sheffield_Hallam_University/Final Year/Development Project/development_project_shared/Source_Code/CNN_LSTM_rating_predictor.keras'"
      ],
      "metadata": {
        "id": "Wi3nZVTKpFrZ"
      },
      "execution_count": null,
      "outputs": []
    },
    {
      "cell_type": "code",
      "source": [
        "# save CNN + LSTM model\n",
        "keras.saving.save_model(CNN_LSTM, filepath_CNN_LSTM)"
      ],
      "metadata": {
        "id": "m_tEp0DOpNvD"
      },
      "execution_count": null,
      "outputs": []
    },
    {
      "cell_type": "markdown",
      "source": [
        "# CNN + Dense"
      ],
      "metadata": {
        "id": "BNuKUSkz2j4a"
      }
    },
    {
      "cell_type": "code",
      "source": [
        "CNN_Dense = Sequential()\n",
        "CNN_Dense.add(Embedding(vocab_size, embedding_dim, input_length=maxlen))\n",
        "CNN_Dense.add(Conv1D(64, 5, activation='relu'))\n",
        "CNN_Dense.add(MaxPooling1D(pool_size=4))\n",
        "CNN_Dense.add(Flatten())\n",
        "CNN_Dense.add(Dense(100, activation='relu'))\n",
        "CNN_Dense.add(Dense(num_of_classes, acitvation='softmax'))"
      ],
      "metadata": {
        "id": "x7sik_cU2iSr"
      },
      "execution_count": null,
      "outputs": []
    },
    {
      "cell_type": "code",
      "source": [
        "# Define optimiser for Hybrid model\n",
        "optimiser = keras.optimizers.RMSprop(learning_rate=2e-4)\n",
        "\n",
        "# Compile model\n",
        "CNN_Dense.compile(optimizer=optimiser, loss='categorical_crossentropy', metrics=['acc'])"
      ],
      "metadata": {
        "id": "jYkDxBvfhVoI"
      },
      "execution_count": null,
      "outputs": []
    },
    {
      "cell_type": "code",
      "source": [
        "# Train the model\n",
        "CNN_Dense_history = CNN_Dense.fit(train_reviews_padded, y_train, epochs=EPOCHS, validation_data=(valid_reviews_padded, y_valid))"
      ],
      "metadata": {
        "id": "00XzdBAchbA-"
      },
      "execution_count": null,
      "outputs": []
    },
    {
      "cell_type": "code",
      "source": [
        "CNN_Dense.summary()"
      ],
      "metadata": {
        "id": "_Vs8ZB10hdg4"
      },
      "execution_count": null,
      "outputs": []
    },
    {
      "cell_type": "code",
      "source": [
        "plot_model(\n",
        "    CNN_Dense,\n",
        "    show_shapes = True,\n",
        "    show_dtype = True,\n",
        "    show_layer_activations = True\n",
        ")"
      ],
      "metadata": {
        "id": "7QB-Ehd2hg8j"
      },
      "execution_count": null,
      "outputs": []
    },
    {
      "cell_type": "code",
      "source": [
        "display_graphs(CNN_Dense.history)"
      ],
      "metadata": {
        "id": "QiPE-YgBhnwP"
      },
      "execution_count": null,
      "outputs": []
    },
    {
      "cell_type": "code",
      "source": [
        "# Define file path to save/load CNN + Dense model\n",
        "filepath_CNN_Dense= '/content/drive/MyDrive/Sheffield_Hallam_University/Final Year/Development Project/development_project_shared/Source_Code/CNN_Dense_rating_predictor.keras'"
      ],
      "metadata": {
        "id": "mhsVdfD7hxpD"
      },
      "execution_count": null,
      "outputs": []
    },
    {
      "cell_type": "code",
      "source": [
        "# save CNN + Dense model\n",
        "keras.saving.save_model(CNN_Dense, filepath_CNN_Dense)"
      ],
      "metadata": {
        "id": "RvM7fLE1h26n"
      },
      "execution_count": null,
      "outputs": []
    },
    {
      "cell_type": "markdown",
      "source": [
        "# CNN + LSTM + Dense"
      ],
      "metadata": {
        "id": "bkZe3gLfh_PN"
      }
    },
    {
      "cell_type": "code",
      "source": [
        "CNN_LSTM_Dense = Sequential()\n",
        "CNN_LSTM.add(Embedding(vocab_size, embedding_dim, input_length=max_length))\n",
        "CNN_LSTM.add(Conv1D(64, kernel_size=5, activation = \"relu\"))\n",
        "CNN_LSTM.add(MaxPooling1D(pool_size=4))\n",
        "CNN_LSTM.add(LSTM(100))\n",
        "CNN_Dense.add(Dense(100, activation='relu'))\n",
        "CNN_Dense.add(Dense(num_of_classes, acitvation='softmax'))"
      ],
      "metadata": {
        "id": "WwDwwx4LiBhO"
      },
      "execution_count": null,
      "outputs": []
    },
    {
      "cell_type": "markdown",
      "source": [
        "# Load Trained Models"
      ],
      "metadata": {
        "id": "GnK2yCQHYYLB"
      }
    },
    {
      "cell_type": "code",
      "source": [
        "# Define file path to save/load SNN model\n",
        "filepath_SNN = '/content/drive/MyDrive/Sheffield_Hallam_University/Final Year/Development Project/Sentiment_Analysis_Project/SNN_rating_predictor.keras'\n",
        "\n",
        "# load SNN model\n",
        "SNN = tf.keras.saving.load_model(\n",
        "    filepath_SNN, custom_objects=None, compile=True\n",
        ")"
      ],
      "metadata": {
        "id": "J0kDBbwvYgM4"
      },
      "execution_count": null,
      "outputs": []
    },
    {
      "cell_type": "code",
      "source": [
        "# Define file path to save/load CNN model\n",
        "filepath_CNN = '/content/drive/MyDrive/Sheffield_Hallam_University/Final Year/Development Project/Sentiment_Analysis_Project/CNN_rating_predictor.keras'\n",
        "\n",
        "# load CNN model\n",
        "CNN = tf.keras.saving.load_model(\n",
        "    filepath_CNN, custom_objects=None, compile=True\n",
        ")"
      ],
      "metadata": {
        "id": "hW5vYeudYcu4"
      },
      "execution_count": null,
      "outputs": []
    },
    {
      "cell_type": "code",
      "source": [
        "# Define file path to save/load LSTM model\n",
        "filepath_LSTM = '/content/drive/MyDrive/Sheffield_Hallam_University/Final Year/Development Project/Sentiment_Analysis_Project/LSTM_rating_predictor.keras'\n",
        "\n",
        "# load LSTM model\n",
        "LSTM = tf.keras.saving.load_model(\n",
        "    filepath_LSTM, custom_objects=None, compile=True\n",
        ")"
      ],
      "metadata": {
        "id": "ha1OLY7SYbnK"
      },
      "execution_count": null,
      "outputs": []
    },
    {
      "cell_type": "code",
      "source": [
        "# Define file path to save/load Hybrid model\n",
        "filepath_Hybrid = '/content/drive/MyDrive/Sheffield_Hallam_University/Final Year/Development Project/development_project_shared/Source_Code/Hybrid_rating_predictor.keras'\n",
        "\n",
        "# load Hybrid model\n",
        "Hybrid = tf.keras.saving.load_model(\n",
        "    filepath_Hybrid, custom_objects=None, compile=True\n",
        ")"
      ],
      "metadata": {
        "id": "AFUgzQ6vpkaV"
      },
      "execution_count": null,
      "outputs": []
    },
    {
      "cell_type": "markdown",
      "source": [
        "# Evaluation"
      ],
      "metadata": {
        "id": "Cwufbb3Pia2_"
      }
    },
    {
      "cell_type": "code",
      "source": [
        "test_reviews_padded = tokenize(test_reviews)"
      ],
      "metadata": {
        "id": "7lgL7duZOAri"
      },
      "execution_count": null,
      "outputs": []
    },
    {
      "cell_type": "code",
      "source": [
        "def score_accuracy(model):\n",
        "  # Predictions on the Test Set\n",
        "  score = model.evaluate(test_reviews_padded, y_test, verbose=1)\n",
        "\n",
        "  # Model Performance\n",
        "  print(\"Test Score:\", score[0])\n",
        "  print(\"Test Accuracy:\", score[1])"
      ],
      "metadata": {
        "id": "xJ7ZwVVFZALQ"
      },
      "execution_count": null,
      "outputs": []
    },
    {
      "cell_type": "code",
      "source": [
        "score_accuracy(SNN)"
      ],
      "metadata": {
        "colab": {
          "base_uri": "https://localhost:8080/"
        },
        "id": "tmFQGxsmbdyY",
        "outputId": "7f2a94c2-f486-4efc-a042-e7f7a0fa2461"
      },
      "execution_count": null,
      "outputs": [
        {
          "output_type": "stream",
          "name": "stdout",
          "text": [
            "2/2 [==============================] - 0s 15ms/step - loss: 1.5455 - acc: 0.5556\n",
            "Test Score: 1.5454810857772827\n",
            "Test Accuracy: 0.5555555820465088\n"
          ]
        }
      ]
    },
    {
      "cell_type": "code",
      "source": [
        "score_accuracy(CNN)"
      ],
      "metadata": {
        "colab": {
          "base_uri": "https://localhost:8080/"
        },
        "id": "9TmtdSxTbpfr",
        "outputId": "f3c73e6f-ac10-453b-ff19-2106223cb517"
      },
      "execution_count": null,
      "outputs": [
        {
          "output_type": "stream",
          "name": "stdout",
          "text": [
            "2/2 [==============================] - 0s 67ms/step - loss: 1.0857 - acc: 0.5926\n",
            "Test Score: 1.0857124328613281\n",
            "Test Accuracy: 0.5925925970077515\n"
          ]
        }
      ]
    },
    {
      "cell_type": "code",
      "source": [
        "score_accuracy(LSTM)"
      ],
      "metadata": {
        "colab": {
          "base_uri": "https://localhost:8080/",
          "height": 272
        },
        "id": "XvFJTVE4brDW",
        "outputId": "dcda7e4d-6a09-4d2a-d47b-5a62df9fd9e0"
      },
      "execution_count": null,
      "outputs": [
        {
          "output_type": "error",
          "ename": "AttributeError",
          "evalue": "type object 'LSTM' has no attribute 'evaluate'",
          "traceback": [
            "\u001b[0;31m---------------------------------------------------------------------------\u001b[0m",
            "\u001b[0;31mAttributeError\u001b[0m                            Traceback (most recent call last)",
            "\u001b[0;32m<ipython-input-76-4e172aa071b0>\u001b[0m in \u001b[0;36m<cell line: 1>\u001b[0;34m()\u001b[0m\n\u001b[0;32m----> 1\u001b[0;31m \u001b[0mscore_accuracy\u001b[0m\u001b[0;34m(\u001b[0m\u001b[0mLSTM\u001b[0m\u001b[0;34m)\u001b[0m\u001b[0;34m\u001b[0m\u001b[0;34m\u001b[0m\u001b[0m\n\u001b[0m",
            "\u001b[0;32m<ipython-input-73-3be5978d69e9>\u001b[0m in \u001b[0;36mscore_accuracy\u001b[0;34m(model)\u001b[0m\n\u001b[1;32m      1\u001b[0m \u001b[0;32mdef\u001b[0m \u001b[0mscore_accuracy\u001b[0m\u001b[0;34m(\u001b[0m\u001b[0mmodel\u001b[0m\u001b[0;34m)\u001b[0m\u001b[0;34m:\u001b[0m\u001b[0;34m\u001b[0m\u001b[0;34m\u001b[0m\u001b[0m\n\u001b[1;32m      2\u001b[0m   \u001b[0;31m# Predictions on the Test Set\u001b[0m\u001b[0;34m\u001b[0m\u001b[0;34m\u001b[0m\u001b[0m\n\u001b[0;32m----> 3\u001b[0;31m   \u001b[0mscore\u001b[0m \u001b[0;34m=\u001b[0m \u001b[0mmodel\u001b[0m\u001b[0;34m.\u001b[0m\u001b[0mevaluate\u001b[0m\u001b[0;34m(\u001b[0m\u001b[0mtest_reviews_padded\u001b[0m\u001b[0;34m,\u001b[0m \u001b[0my_test\u001b[0m\u001b[0;34m,\u001b[0m \u001b[0mverbose\u001b[0m\u001b[0;34m=\u001b[0m\u001b[0;36m1\u001b[0m\u001b[0;34m)\u001b[0m\u001b[0;34m\u001b[0m\u001b[0;34m\u001b[0m\u001b[0m\n\u001b[0m\u001b[1;32m      4\u001b[0m \u001b[0;34m\u001b[0m\u001b[0m\n\u001b[1;32m      5\u001b[0m   \u001b[0;31m# Model Performance\u001b[0m\u001b[0;34m\u001b[0m\u001b[0;34m\u001b[0m\u001b[0m\n",
            "\u001b[0;31mAttributeError\u001b[0m: type object 'LSTM' has no attribute 'evaluate'"
          ]
        }
      ]
    },
    {
      "cell_type": "markdown",
      "source": [
        "**Confusion Matrices**"
      ],
      "metadata": {
        "id": "XJ24DMhajiIX"
      }
    },
    {
      "cell_type": "code",
      "source": [
        "# Convert multidimensional y array to a one-dimensional array\n",
        "def convert_y_to_1D(y):\n",
        "  return np.argmax(y, axis=1)"
      ],
      "metadata": {
        "id": "6P3XcZW5Vmb5"
      },
      "execution_count": null,
      "outputs": []
    },
    {
      "cell_type": "code",
      "source": [
        "#Create a confusion matrix for a model from the feature space and true labels\n",
        "def create_confusion_matrix(model, X_fold, y_true):\n",
        "  # Calculate predicted values\n",
        "  y_pred = model.predict(X_fold)\n",
        "\n",
        "  # Convert y_true and y_pred to one-dimensional arrays\n",
        "  y_true, y_pred = convert_y_to_1D(y_true), convert_y_to_1D(y_pred)\n",
        "\n",
        "  # Generate matrix\n",
        "  conf_matrix = confusion_matrix(y_true, y_pred)\n",
        "\n",
        "  # Normalise confusion matrix rounded to a percentage up to 2 d.p.\n",
        "  conf_matrix = conf_matrix/ conf_matrix.astype(np.float).sum(axis=1)\n",
        "\n",
        "  return conf_matrix"
      ],
      "metadata": {
        "id": "DnWd9qlRjkFY"
      },
      "execution_count": null,
      "outputs": []
    },
    {
      "cell_type": "code",
      "source": [
        "# Display confusion matrix in a seaborn graph\n",
        "def display_conf_matrix(conf_matrix, ax):\n",
        "\n",
        "  # Display column with predicted labels\n",
        "  columns_ = [f'Predicted: {label}' for label in labels]\n",
        "\n",
        "  # Display X-axis with actual labels\n",
        "  index_ = [f'Actual: {label}' for label in labels]\n",
        "\n",
        "  # Convert confusion matrix object to dataframe for display\n",
        "  conf_matrix_pd = pd.DataFrame(conf_matrix, columns=columns_, index=index_)\n",
        "\n",
        "  return sns.heatmap(conf_matrix_pd, ax=ax, annot=True, cmap='magma')"
      ],
      "metadata": {
        "id": "AxEhpMh8jlut"
      },
      "execution_count": null,
      "outputs": []
    },
    {
      "cell_type": "code",
      "source": [
        "# Create confusion matrix of the training dataset for the SNN model\n",
        "cm_train_SNN = create_confusion_matrix(SNN, train_reviews_padded, y_train)\n",
        "\n",
        "# Create confusion matrix of the training dataset for the CNN model\n",
        "cm_train_CNN = create_confusion_matrix(CNN, train_reviews_padded, y_train)\n",
        "\n",
        "# Create confusion matrix of the training dataset for the LSTM model\n",
        "cm_train_LSTM = create_confusion_matrix(LSTM, train_reviews_padded, y_train)\n",
        "\n",
        "# Create confusion matrix of the validation dataset for the SNN model\n",
        "cm_valid_SNN = create_confusion_matrix(SNN, valid_reviews_padded, y_valid)\n",
        "\n",
        "# Create confusion matrix of the validation dataset for the CNN model\n",
        "cm_valid_CNN = create_confusion_matrix(CNN, valid_reviews_padded, y_valid)\n",
        "\n",
        "# Create confusion matrix of the validation dataset for the LSTM model\n",
        "cm_valid_LSTM = create_confusion_matrix(LSTM, valid_reviews_padded, y_valid)"
      ],
      "metadata": {
        "id": "Vp0hZldX-EfS"
      },
      "execution_count": null,
      "outputs": []
    },
    {
      "cell_type": "markdown",
      "source": [
        "**Confusion Matrices For Training Dataset**"
      ],
      "metadata": {
        "id": "YSR-4edO-ii8"
      }
    },
    {
      "cell_type": "code",
      "source": [
        "fig, axes = plt.subplots(1,3, figsize=(24,6))\n",
        "fig.suptitle('Confusion Matrices For Training Dataset', fontsize=20)\n",
        "axes[0].set_title('SNN')\n",
        "axes[1].set_title('CNN')\n",
        "axes[2].set_title('LSTM')\n",
        "display_conf_matrix(cm_train_SNN, axes[0])\n",
        "display_conf_matrix(cm_train_CNN, axes[1])\n",
        "display_conf_matrix(cm_train_LSTM, axes[2])\n",
        "plt.show()"
      ],
      "metadata": {
        "id": "VegKk2Kp-bJn"
      },
      "execution_count": null,
      "outputs": []
    },
    {
      "cell_type": "markdown",
      "source": [
        "**Confusion Matrices For Validation Dataset**"
      ],
      "metadata": {
        "id": "YHVezhqN-qy7"
      }
    },
    {
      "cell_type": "code",
      "source": [
        "fig, axes = plt.subplots(1,3, figsize=(24,6))\n",
        "fig.suptitle('Confusion Matrices For Validation Dataset', fontsize=20)\n",
        "axes[0].set_title('SNN')\n",
        "axes[1].set_title('CNN')\n",
        "axes[2].set_title('LSTM')\n",
        "display_conf_matrix(cm_valid_SNN, axes[0])\n",
        "display_conf_matrix(cm_valid_CNN, axes[1])\n",
        "display_conf_matrix(cm_valid_LSTM, axes[2])\n",
        "plt.show()"
      ],
      "metadata": {
        "id": "txhOY-qk-uW1"
      },
      "execution_count": null,
      "outputs": []
    },
    {
      "cell_type": "markdown",
      "source": [
        "**Accuracy, precision, recall and f1 scores**"
      ],
      "metadata": {
        "id": "bLy84zIaWuVS"
      }
    },
    {
      "cell_type": "code",
      "source": [
        "#Calculates accuracy, precision, recall, f1 and specificity from predicted and true results\n",
        "def calc_scores(model, X_fold, y_true):\n",
        "  # Calculate predicted values\n",
        "  y_pred = model.predict(X_fold)\n",
        "\n",
        "  # Convert y_true and y_pred to one-dimensional arrays\n",
        "  y_true, y_pred = convert_y_to_1D(y_true), convert_y_to_1D(y_pred)\n",
        "\n",
        "  # Calculate accuracy score\n",
        "  accuracy = accuracy_score(y_true, y_pred)\n",
        "\n",
        "  # Calculate precision score\n",
        "  precision = precision_score(y_true, y_pred, average='weighted')\n",
        "\n",
        "  # Calculate recall score\n",
        "  recall = recall_score(y_true, y_pred, average='weighted')\n",
        "\n",
        "  # Calculate f1 score\n",
        "  f1 = f1_score(y_true, y_pred, average='weighted')\n",
        "\n",
        "  return [accuracy, precision, recall, f1]"
      ],
      "metadata": {
        "id": "1FO4aOmAWtgf"
      },
      "execution_count": null,
      "outputs": []
    },
    {
      "cell_type": "code",
      "source": [
        "#Define the accuracy, precision, recall and f1 scores of each model for the training dataset\n",
        "scores_train_SNN = calc_scores(SNN, train_reviews_padded, y_train)\n",
        "scores_train_CNN = calc_scores(CNN, train_reviews_padded, y_train)\n",
        "scores_train_LSTM = calc_scores(LSTM, train_reviews_padded, y_train)\n",
        "\n",
        "#Define the accuracy, precision, recall and f1 scores of each model for the validation dataset\n",
        "scores_valid_SNN = calc_scores(SNN, valid_reviews_padded, y_valid)\n",
        "scores_valid_CNN = calc_scores(CNN, valid_reviews_padded, y_valid)\n",
        "scores_valid_LSTM = calc_scores(LSTM, valid_reviews_padded, y_valid)"
      ],
      "metadata": {
        "id": "6LHzlT2BWyCb"
      },
      "execution_count": null,
      "outputs": []
    },
    {
      "cell_type": "code",
      "source": [
        "# Define the model names and their scores for both training and validation set\n",
        "models = {'SNN' : {'Accuracy (Train)' : scores_train_SNN[0],\n",
        "                  'Accuracy (Valid)' : scores_valid_SNN[0],\n",
        "                   'Precision (Train)' : scores_train_SNN[1],\n",
        "                   'Precision (Valid)' : scores_valid_SNN[1],\n",
        "                   'Recall (Train)' : scores_train_SNN[2],\n",
        "                  'Recall (Valid)' : scores_valid_SNN[2],\n",
        "                   'F1 (Train)' : scores_train_SNN[3],\n",
        "                   'F1 (Valid)' : scores_valid_SNN[3]\n",
        "                   },\n",
        "          'CNN' : {'Accuracy (Train)' : scores_train_CNN[0],\n",
        "                  'Accuracy (Valid)' : scores_valid_CNN[0],\n",
        "                   'Precision (Train)' : scores_train_CNN[1],\n",
        "                   'Precision (Valid)' : scores_valid_CNN[1],\n",
        "                   'Recall (Train)' : scores_train_CNN[2],\n",
        "                  'Recall (Valid)' : scores_valid_CNN[2],\n",
        "                   'F1 (Train)' : scores_train_CNN[3],\n",
        "                   'F1 (Valid)' : scores_valid_CNN[3]\n",
        "                   },\n",
        "          'LSTM' : {'Accuracy (Train)' : scores_train_LSTM[0],\n",
        "                  'Accuracy (Valid)' : scores_valid_LSTM[0],\n",
        "                   'Precision (Train)' :  scores_train_LSTM[1],\n",
        "                   'Precision (Valid)' : scores_valid_LSTM[1],\n",
        "                   'Recall (Train)' :  scores_train_LSTM[2],\n",
        "                  'Recall (Valid)' : scores_valid_LSTM[2],\n",
        "                   'F1 (Train)' :  scores_train_LSTM[3],\n",
        "                   'F1 (Valid)' : scores_valid_LSTM[3]\n",
        "                   }\n",
        "          }\n",
        "#Create a dataframe table of the dictionary of the models\n",
        "scores = pd.DataFrame(models).T\n",
        "scores"
      ],
      "metadata": {
        "id": "cEdIEs1zW_gz"
      },
      "execution_count": null,
      "outputs": []
    },
    {
      "cell_type": "markdown",
      "source": [
        "# Qualitative Analysis"
      ],
      "metadata": {
        "id": "OTp1xSVQD0lq"
      }
    },
    {
      "cell_type": "markdown",
      "source": [
        "# Live Prediction"
      ],
      "metadata": {
        "id": "qOTfnRAFDlNo"
      }
    },
    {
      "cell_type": "markdown",
      "source": [
        "**Using `X_test`**"
      ],
      "metadata": {
        "id": "xxLCVEYlWX-X"
      }
    },
    {
      "cell_type": "code",
      "source": [
        "test_reviews_array = np.asarray(test_reviews)"
      ],
      "metadata": {
        "id": "bbxsRLdkbydz"
      },
      "execution_count": null,
      "outputs": []
    },
    {
      "cell_type": "code",
      "source": [
        "print(type(test_reviews))"
      ],
      "metadata": {
        "id": "iDxoqc7Lb7Dq"
      },
      "execution_count": null,
      "outputs": []
    },
    {
      "cell_type": "code",
      "source": [
        "y_test = convert_y_to_1D(y_test)"
      ],
      "metadata": {
        "id": "9juf-Hryb-Pd"
      },
      "execution_count": null,
      "outputs": []
    },
    {
      "cell_type": "code",
      "source": [
        "test_data = {'Review': test_reviews, 'Rating': y_test}\n",
        "\n",
        "test_df = pd.DataFrame(data=test_data)"
      ],
      "metadata": {
        "id": "f5Msy65-ZfmC"
      },
      "execution_count": null,
      "outputs": []
    },
    {
      "cell_type": "code",
      "source": [
        "def find_pred(model, X_fold):\n",
        "  pred = model.predict(X_fold)\n",
        "\n",
        "  pred = np.argmax(pred, axis=1)\n",
        "\n",
        "  return pred"
      ],
      "metadata": {
        "id": "i4BNrFl3c_z1"
      },
      "execution_count": null,
      "outputs": []
    },
    {
      "cell_type": "code",
      "source": [
        "print(len(test_reviews_padded))"
      ],
      "metadata": {
        "id": "lQK0QpQ3Yese"
      },
      "execution_count": null,
      "outputs": []
    },
    {
      "cell_type": "code",
      "source": [
        "# Passing tokenised instance to the SNN model for predictions\n",
        "SNN_pred = find_pred(SNN, test_reviews_padded)\n",
        "\n",
        "# Passing tokenised instance to the CNN model for predictions\n",
        "CNN_pred = find_pred(CNN, test_reviews_padded)\n",
        "\n",
        "# Passing tokenised instance to the LSTM model for predictions\n",
        "LSTM_pred = find_pred(LSTM, test_reviews_padded)\n"
      ],
      "metadata": {
        "id": "6b3W9kJtQdlL"
      },
      "execution_count": null,
      "outputs": []
    },
    {
      "cell_type": "code",
      "source": [
        "print(SNN_pred)"
      ],
      "metadata": {
        "id": "YXnqMNKHcRyO"
      },
      "execution_count": null,
      "outputs": []
    },
    {
      "cell_type": "code",
      "source": [
        "test_df['SNN Prediction'] = SNN_pred\n",
        "\n",
        "test_df['CNN Prediction'] = CNN_pred\n",
        "\n",
        "test_df['LSTM Prediction'] = LSTM_pred"
      ],
      "metadata": {
        "id": "rLKz-hEQWh_H"
      },
      "execution_count": null,
      "outputs": []
    },
    {
      "cell_type": "code",
      "source": [
        "test_df"
      ],
      "metadata": {
        "id": "E8YrZ_6Adjt0"
      },
      "execution_count": null,
      "outputs": []
    },
    {
      "cell_type": "markdown",
      "source": [
        "**User Input**"
      ],
      "metadata": {
        "id": "X6QdflMwds-L"
      }
    },
    {
      "cell_type": "code",
      "source": [
        "example = reviews[0]\n",
        "\n",
        "print(type(example))"
      ],
      "metadata": {
        "id": "aO7aL-MXNrXt"
      },
      "execution_count": null,
      "outputs": []
    },
    {
      "cell_type": "code",
      "source": [
        "print(len(example))"
      ],
      "metadata": {
        "id": "B9fRqEK5YuF3"
      },
      "execution_count": null,
      "outputs": []
    },
    {
      "cell_type": "code",
      "source": [
        "input_review = input(\"Enter review: \")\n",
        "\n",
        "input_review_processed = preprocess_text(input_review)\n",
        "\n",
        "input_review_padded = encode_pad(input_review_processed)\n",
        "\n",
        "print(input_review_processed)\n",
        "\n",
        "print(len(input_review))"
      ],
      "metadata": {
        "id": "rjnlCH7bfF9m"
      },
      "execution_count": null,
      "outputs": []
    },
    {
      "cell_type": "code",
      "source": [
        "input_review = input(\"Enter review: \")\n",
        "\n",
        "input_review_processed = preprocess_text(input_review)\n",
        "\n",
        "input_review_padded = encode_pad(input_review_processed)\n",
        "\n",
        "SNN_pred = find_pred(SNN, input_review_padded)\n",
        "\n",
        "CNN_pred = find_pred(CNN, input_review_padded)\n",
        "\n",
        "LSTM_pred = find_pred(LSTM, input_review_padded)\n",
        "\n",
        "print(\"Review: \", input_review)\n",
        "print(\"SNN Prediction: \", SNN_pred)\n",
        "print(\"CNN Prediction: \", CNN_pred)\n",
        "print(\"LSTM Prediction: \", LSTM_pred)"
      ],
      "metadata": {
        "id": "srvNV0KOd8HO"
      },
      "execution_count": null,
      "outputs": []
    },
    {
      "cell_type": "code",
      "source": [],
      "metadata": {
        "id": "2OMWTlvfeJWD"
      },
      "execution_count": null,
      "outputs": []
    }
  ]
}