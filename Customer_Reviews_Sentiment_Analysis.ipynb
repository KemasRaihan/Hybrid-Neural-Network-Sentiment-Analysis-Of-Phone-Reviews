{
  "nbformat": 4,
  "nbformat_minor": 0,
  "metadata": {
    "colab": {
      "provenance": [],
      "gpuType": "T4",
      "collapsed_sections": [
        "7a4JfGJuv7Kh",
        "73nTDwMpG_aD",
        "Lfqy9sPr4XPn",
        "9-5W3sfOH5fR"
      ],
      "mount_file_id": "1nLow7B2OaaLiPjDBw5Aj4BTtoA_EL4Qc",
      "authorship_tag": "ABX9TyOCZSi8bON+JomXfSO6NYqv",
      "include_colab_link": true
    },
    "kernelspec": {
      "name": "python3",
      "display_name": "Python 3"
    },
    "language_info": {
      "name": "python"
    },
    "accelerator": "GPU"
  },
  "cells": [
    {
      "cell_type": "markdown",
      "metadata": {
        "id": "view-in-github",
        "colab_type": "text"
      },
      "source": [
        "<a href=\"https://colab.research.google.com/github/KemasRaihan/Analysis-Of-Common-Words-In-Customer-Reviews-Of-Phones-Using-Neural-Networks/blob/main/Customer_Reviews_Sentiment_Analysis.ipynb\" target=\"_parent\"><img src=\"https://colab.research.google.com/assets/colab-badge.svg\" alt=\"Open In Colab\"/></a>"
      ]
    },
    {
      "cell_type": "code",
      "execution_count": null,
      "metadata": {
        "id": "W8T5x7HVuJiN",
        "colab": {
          "base_uri": "https://localhost:8080/"
        },
        "outputId": "9ec70123-facf-474f-cb1b-3d0e38abb5fe"
      },
      "outputs": [
        {
          "output_type": "stream",
          "name": "stderr",
          "text": [
            "[nltk_data] Downloading package punkt to /root/nltk_data...\n",
            "[nltk_data]   Unzipping tokenizers/punkt.zip.\n",
            "[nltk_data] Downloading package words to /root/nltk_data...\n",
            "[nltk_data]   Unzipping corpora/words.zip.\n",
            "[nltk_data] Downloading package stopwords to /root/nltk_data...\n",
            "[nltk_data]   Unzipping corpora/stopwords.zip.\n"
          ]
        }
      ],
      "source": [
        "# import libraries\n",
        "import pandas as pd\n",
        "import numpy as np\n",
        "from numpy import asarray\n",
        "from numpy import zeros\n",
        "\n",
        "import nltk\n",
        "from nltk.sentiment.vader import SentimentIntensityAnalyzer\n",
        "from nltk.corpus import stopwords\n",
        "from nltk.tokenize import word_tokenize\n",
        "from nltk.stem import WordNetLemmatizer\n",
        "nltk.download('punkt')\n",
        "#nltk.download('averaged_perceptron_tagger')\n",
        "#nltk.download('maxent_ne_chunker')\n",
        "nltk.download('words')\n",
        "#nltk.download('vader_lexicon')\n",
        "nltk.download('stopwords')\n",
        "\n",
        "import string\n",
        "\n",
        "from sklearn.feature_extraction.text import re\n",
        "from sklearn.feature_extraction.text import TfidfVectorizer\n",
        "from sklearn.model_selection import train_test_split\n",
        "from sklearn.metrics import accuracy_score\n",
        "\n",
        "from tqdm.notebook import tqdm\n",
        "\n",
        "import csv\n",
        "import matplotlib.pyplot as plt\n",
        "#!pip install torch torchvision torchaudio --index-url https://download.pytorch.org/whl/cu121\n",
        "\n",
        "# For building the neural networks\n",
        "import tensorflow as tf\n",
        "from tensorflow import keras\n",
        "from keras.models import Sequential, Model\n",
        "from tensorflow.keras.layers import Embedding, Flatten, Conv1D, GlobalMaxPooling1D, SpatialDropout1D, LSTM, Dense, Dropout\n",
        "from tensorflow.keras.preprocessing.text import one_hot, Tokenizer\n",
        "from tensorflow.keras.preprocessing.sequence import pad_sequences\n",
        "from keras.utils import plot_model\n",
        "\n",
        "# For evaluation\n",
        "import random\n",
        "from sklearn.metrics import confusion_matrix, classification_report, accuracy_score, precision_score, recall_score, f1_score\n",
        "from sklearn.utils.multiclass import unique_labels\n",
        "import seaborn as sns"
      ]
    },
    {
      "cell_type": "code",
      "source": [
        "#!pip install transformers requests beautifulsoup4 pandas numpy"
      ],
      "metadata": {
        "id": "RYbVkQF3pQjF"
      },
      "execution_count": null,
      "outputs": []
    },
    {
      "cell_type": "markdown",
      "source": [
        "# Amazon Product Reviews Raw Dataset Analysis"
      ],
      "metadata": {
        "id": "7a4JfGJuv7Kh"
      }
    },
    {
      "cell_type": "markdown",
      "source": [
        "PromptCloud extracted 400 thousand reviews of unlocked mobile phones sold on Amazon.com to find out insights with respect to reviews, ratings, price and their relationships (https://www.kaggle.com/datasets/PromptCloudHQ/amazon-reviews-unlocked-mobile-phones)"
      ],
      "metadata": {
        "id": "wZc4hqzknYqg"
      }
    },
    {
      "cell_type": "code",
      "source": [
        "filepath = '/content/drive/MyDrive/Sheffield_Hallam_University/Final Year/Development Project/Sentiment_Analysis_Project/Amazon_Unlocked_Mobile.csv'"
      ],
      "metadata": {
        "id": "0hWsndqW7zaE"
      },
      "execution_count": null,
      "outputs": []
    },
    {
      "cell_type": "code",
      "source": [
        "# Control number of rows to read from csv file\n",
        "nrows = 1000\n",
        "\n",
        "df = pd.read_csv(filepath,nrows=nrows, encoding = 'latin')"
      ],
      "metadata": {
        "id": "k0JzyEIEXgMd"
      },
      "execution_count": null,
      "outputs": []
    },
    {
      "cell_type": "code",
      "source": [
        "df.shape"
      ],
      "metadata": {
        "colab": {
          "base_uri": "https://localhost:8080/"
        },
        "id": "iMK3kYSzXz2x",
        "outputId": "763c3555-d909-414e-bfe9-0e0b491c7296"
      },
      "execution_count": null,
      "outputs": [
        {
          "output_type": "execute_result",
          "data": {
            "text/plain": [
              "(1000, 6)"
            ]
          },
          "metadata": {},
          "execution_count": 78
        }
      ]
    },
    {
      "cell_type": "code",
      "source": [
        "df.head()"
      ],
      "metadata": {
        "id": "-psPCwUWcFwP",
        "colab": {
          "base_uri": "https://localhost:8080/"
        },
        "outputId": "db8082bc-58c4-4c29-b0fb-0495b6da7407"
      },
      "execution_count": null,
      "outputs": [
        {
          "output_type": "execute_result",
          "data": {
            "text/plain": [
              "                                        Product Name Brand Name   Price  \\\n",
              "0  \"CLEAR CLEAN ESN\" Sprint EPIC 4G Galaxy SPH-D7...    Samsung  199.99   \n",
              "1  \"CLEAR CLEAN ESN\" Sprint EPIC 4G Galaxy SPH-D7...    Samsung  199.99   \n",
              "2  \"CLEAR CLEAN ESN\" Sprint EPIC 4G Galaxy SPH-D7...    Samsung  199.99   \n",
              "3  \"CLEAR CLEAN ESN\" Sprint EPIC 4G Galaxy SPH-D7...    Samsung  199.99   \n",
              "4  \"CLEAR CLEAN ESN\" Sprint EPIC 4G Galaxy SPH-D7...    Samsung  199.99   \n",
              "\n",
              "   Rating                                            Reviews  Review Votes  \n",
              "0       5  I feel so LUCKY to have found this used (phone...           1.0  \n",
              "1       4  nice phone, nice up grade from my pantach revu...           0.0  \n",
              "2       5                                       Very pleased           0.0  \n",
              "3       4  It works good but it goes slow sometimes but i...           0.0  \n",
              "4       4  Great phone to replace my lost phone. The only...           0.0  "
            ],
            "text/html": [
              "\n",
              "  <div id=\"df-1528e267-a64a-4dd9-9a36-1e322c7dd60b\" class=\"colab-df-container\">\n",
              "    <div>\n",
              "<style scoped>\n",
              "    .dataframe tbody tr th:only-of-type {\n",
              "        vertical-align: middle;\n",
              "    }\n",
              "\n",
              "    .dataframe tbody tr th {\n",
              "        vertical-align: top;\n",
              "    }\n",
              "\n",
              "    .dataframe thead th {\n",
              "        text-align: right;\n",
              "    }\n",
              "</style>\n",
              "<table border=\"1\" class=\"dataframe\">\n",
              "  <thead>\n",
              "    <tr style=\"text-align: right;\">\n",
              "      <th></th>\n",
              "      <th>Product Name</th>\n",
              "      <th>Brand Name</th>\n",
              "      <th>Price</th>\n",
              "      <th>Rating</th>\n",
              "      <th>Reviews</th>\n",
              "      <th>Review Votes</th>\n",
              "    </tr>\n",
              "  </thead>\n",
              "  <tbody>\n",
              "    <tr>\n",
              "      <th>0</th>\n",
              "      <td>\"CLEAR CLEAN ESN\" Sprint EPIC 4G Galaxy SPH-D7...</td>\n",
              "      <td>Samsung</td>\n",
              "      <td>199.99</td>\n",
              "      <td>5</td>\n",
              "      <td>I feel so LUCKY to have found this used (phone...</td>\n",
              "      <td>1.0</td>\n",
              "    </tr>\n",
              "    <tr>\n",
              "      <th>1</th>\n",
              "      <td>\"CLEAR CLEAN ESN\" Sprint EPIC 4G Galaxy SPH-D7...</td>\n",
              "      <td>Samsung</td>\n",
              "      <td>199.99</td>\n",
              "      <td>4</td>\n",
              "      <td>nice phone, nice up grade from my pantach revu...</td>\n",
              "      <td>0.0</td>\n",
              "    </tr>\n",
              "    <tr>\n",
              "      <th>2</th>\n",
              "      <td>\"CLEAR CLEAN ESN\" Sprint EPIC 4G Galaxy SPH-D7...</td>\n",
              "      <td>Samsung</td>\n",
              "      <td>199.99</td>\n",
              "      <td>5</td>\n",
              "      <td>Very pleased</td>\n",
              "      <td>0.0</td>\n",
              "    </tr>\n",
              "    <tr>\n",
              "      <th>3</th>\n",
              "      <td>\"CLEAR CLEAN ESN\" Sprint EPIC 4G Galaxy SPH-D7...</td>\n",
              "      <td>Samsung</td>\n",
              "      <td>199.99</td>\n",
              "      <td>4</td>\n",
              "      <td>It works good but it goes slow sometimes but i...</td>\n",
              "      <td>0.0</td>\n",
              "    </tr>\n",
              "    <tr>\n",
              "      <th>4</th>\n",
              "      <td>\"CLEAR CLEAN ESN\" Sprint EPIC 4G Galaxy SPH-D7...</td>\n",
              "      <td>Samsung</td>\n",
              "      <td>199.99</td>\n",
              "      <td>4</td>\n",
              "      <td>Great phone to replace my lost phone. The only...</td>\n",
              "      <td>0.0</td>\n",
              "    </tr>\n",
              "  </tbody>\n",
              "</table>\n",
              "</div>\n",
              "    <div class=\"colab-df-buttons\">\n",
              "\n",
              "  <div class=\"colab-df-container\">\n",
              "    <button class=\"colab-df-convert\" onclick=\"convertToInteractive('df-1528e267-a64a-4dd9-9a36-1e322c7dd60b')\"\n",
              "            title=\"Convert this dataframe to an interactive table.\"\n",
              "            style=\"display:none;\">\n",
              "\n",
              "  <svg xmlns=\"http://www.w3.org/2000/svg\" height=\"24px\" viewBox=\"0 -960 960 960\">\n",
              "    <path d=\"M120-120v-720h720v720H120Zm60-500h600v-160H180v160Zm220 220h160v-160H400v160Zm0 220h160v-160H400v160ZM180-400h160v-160H180v160Zm440 0h160v-160H620v160ZM180-180h160v-160H180v160Zm440 0h160v-160H620v160Z\"/>\n",
              "  </svg>\n",
              "    </button>\n",
              "\n",
              "  <style>\n",
              "    .colab-df-container {\n",
              "      display:flex;\n",
              "      gap: 12px;\n",
              "    }\n",
              "\n",
              "    .colab-df-convert {\n",
              "      background-color: #E8F0FE;\n",
              "      border: none;\n",
              "      border-radius: 50%;\n",
              "      cursor: pointer;\n",
              "      display: none;\n",
              "      fill: #1967D2;\n",
              "      height: 32px;\n",
              "      padding: 0 0 0 0;\n",
              "      width: 32px;\n",
              "    }\n",
              "\n",
              "    .colab-df-convert:hover {\n",
              "      background-color: #E2EBFA;\n",
              "      box-shadow: 0px 1px 2px rgba(60, 64, 67, 0.3), 0px 1px 3px 1px rgba(60, 64, 67, 0.15);\n",
              "      fill: #174EA6;\n",
              "    }\n",
              "\n",
              "    .colab-df-buttons div {\n",
              "      margin-bottom: 4px;\n",
              "    }\n",
              "\n",
              "    [theme=dark] .colab-df-convert {\n",
              "      background-color: #3B4455;\n",
              "      fill: #D2E3FC;\n",
              "    }\n",
              "\n",
              "    [theme=dark] .colab-df-convert:hover {\n",
              "      background-color: #434B5C;\n",
              "      box-shadow: 0px 1px 3px 1px rgba(0, 0, 0, 0.15);\n",
              "      filter: drop-shadow(0px 1px 2px rgba(0, 0, 0, 0.3));\n",
              "      fill: #FFFFFF;\n",
              "    }\n",
              "  </style>\n",
              "\n",
              "    <script>\n",
              "      const buttonEl =\n",
              "        document.querySelector('#df-1528e267-a64a-4dd9-9a36-1e322c7dd60b button.colab-df-convert');\n",
              "      buttonEl.style.display =\n",
              "        google.colab.kernel.accessAllowed ? 'block' : 'none';\n",
              "\n",
              "      async function convertToInteractive(key) {\n",
              "        const element = document.querySelector('#df-1528e267-a64a-4dd9-9a36-1e322c7dd60b');\n",
              "        const dataTable =\n",
              "          await google.colab.kernel.invokeFunction('convertToInteractive',\n",
              "                                                    [key], {});\n",
              "        if (!dataTable) return;\n",
              "\n",
              "        const docLinkHtml = 'Like what you see? Visit the ' +\n",
              "          '<a target=\"_blank\" href=https://colab.research.google.com/notebooks/data_table.ipynb>data table notebook</a>'\n",
              "          + ' to learn more about interactive tables.';\n",
              "        element.innerHTML = '';\n",
              "        dataTable['output_type'] = 'display_data';\n",
              "        await google.colab.output.renderOutput(dataTable, element);\n",
              "        const docLink = document.createElement('div');\n",
              "        docLink.innerHTML = docLinkHtml;\n",
              "        element.appendChild(docLink);\n",
              "      }\n",
              "    </script>\n",
              "  </div>\n",
              "\n",
              "\n",
              "<div id=\"df-2d08419a-e804-47a5-b69d-e14734e2adc7\">\n",
              "  <button class=\"colab-df-quickchart\" onclick=\"quickchart('df-2d08419a-e804-47a5-b69d-e14734e2adc7')\"\n",
              "            title=\"Suggest charts\"\n",
              "            style=\"display:none;\">\n",
              "\n",
              "<svg xmlns=\"http://www.w3.org/2000/svg\" height=\"24px\"viewBox=\"0 0 24 24\"\n",
              "     width=\"24px\">\n",
              "    <g>\n",
              "        <path d=\"M19 3H5c-1.1 0-2 .9-2 2v14c0 1.1.9 2 2 2h14c1.1 0 2-.9 2-2V5c0-1.1-.9-2-2-2zM9 17H7v-7h2v7zm4 0h-2V7h2v10zm4 0h-2v-4h2v4z\"/>\n",
              "    </g>\n",
              "</svg>\n",
              "  </button>\n",
              "\n",
              "<style>\n",
              "  .colab-df-quickchart {\n",
              "      --bg-color: #E8F0FE;\n",
              "      --fill-color: #1967D2;\n",
              "      --hover-bg-color: #E2EBFA;\n",
              "      --hover-fill-color: #174EA6;\n",
              "      --disabled-fill-color: #AAA;\n",
              "      --disabled-bg-color: #DDD;\n",
              "  }\n",
              "\n",
              "  [theme=dark] .colab-df-quickchart {\n",
              "      --bg-color: #3B4455;\n",
              "      --fill-color: #D2E3FC;\n",
              "      --hover-bg-color: #434B5C;\n",
              "      --hover-fill-color: #FFFFFF;\n",
              "      --disabled-bg-color: #3B4455;\n",
              "      --disabled-fill-color: #666;\n",
              "  }\n",
              "\n",
              "  .colab-df-quickchart {\n",
              "    background-color: var(--bg-color);\n",
              "    border: none;\n",
              "    border-radius: 50%;\n",
              "    cursor: pointer;\n",
              "    display: none;\n",
              "    fill: var(--fill-color);\n",
              "    height: 32px;\n",
              "    padding: 0;\n",
              "    width: 32px;\n",
              "  }\n",
              "\n",
              "  .colab-df-quickchart:hover {\n",
              "    background-color: var(--hover-bg-color);\n",
              "    box-shadow: 0 1px 2px rgba(60, 64, 67, 0.3), 0 1px 3px 1px rgba(60, 64, 67, 0.15);\n",
              "    fill: var(--button-hover-fill-color);\n",
              "  }\n",
              "\n",
              "  .colab-df-quickchart-complete:disabled,\n",
              "  .colab-df-quickchart-complete:disabled:hover {\n",
              "    background-color: var(--disabled-bg-color);\n",
              "    fill: var(--disabled-fill-color);\n",
              "    box-shadow: none;\n",
              "  }\n",
              "\n",
              "  .colab-df-spinner {\n",
              "    border: 2px solid var(--fill-color);\n",
              "    border-color: transparent;\n",
              "    border-bottom-color: var(--fill-color);\n",
              "    animation:\n",
              "      spin 1s steps(1) infinite;\n",
              "  }\n",
              "\n",
              "  @keyframes spin {\n",
              "    0% {\n",
              "      border-color: transparent;\n",
              "      border-bottom-color: var(--fill-color);\n",
              "      border-left-color: var(--fill-color);\n",
              "    }\n",
              "    20% {\n",
              "      border-color: transparent;\n",
              "      border-left-color: var(--fill-color);\n",
              "      border-top-color: var(--fill-color);\n",
              "    }\n",
              "    30% {\n",
              "      border-color: transparent;\n",
              "      border-left-color: var(--fill-color);\n",
              "      border-top-color: var(--fill-color);\n",
              "      border-right-color: var(--fill-color);\n",
              "    }\n",
              "    40% {\n",
              "      border-color: transparent;\n",
              "      border-right-color: var(--fill-color);\n",
              "      border-top-color: var(--fill-color);\n",
              "    }\n",
              "    60% {\n",
              "      border-color: transparent;\n",
              "      border-right-color: var(--fill-color);\n",
              "    }\n",
              "    80% {\n",
              "      border-color: transparent;\n",
              "      border-right-color: var(--fill-color);\n",
              "      border-bottom-color: var(--fill-color);\n",
              "    }\n",
              "    90% {\n",
              "      border-color: transparent;\n",
              "      border-bottom-color: var(--fill-color);\n",
              "    }\n",
              "  }\n",
              "</style>\n",
              "\n",
              "  <script>\n",
              "    async function quickchart(key) {\n",
              "      const quickchartButtonEl =\n",
              "        document.querySelector('#' + key + ' button');\n",
              "      quickchartButtonEl.disabled = true;  // To prevent multiple clicks.\n",
              "      quickchartButtonEl.classList.add('colab-df-spinner');\n",
              "      try {\n",
              "        const charts = await google.colab.kernel.invokeFunction(\n",
              "            'suggestCharts', [key], {});\n",
              "      } catch (error) {\n",
              "        console.error('Error during call to suggestCharts:', error);\n",
              "      }\n",
              "      quickchartButtonEl.classList.remove('colab-df-spinner');\n",
              "      quickchartButtonEl.classList.add('colab-df-quickchart-complete');\n",
              "    }\n",
              "    (() => {\n",
              "      let quickchartButtonEl =\n",
              "        document.querySelector('#df-2d08419a-e804-47a5-b69d-e14734e2adc7 button');\n",
              "      quickchartButtonEl.style.display =\n",
              "        google.colab.kernel.accessAllowed ? 'block' : 'none';\n",
              "    })();\n",
              "  </script>\n",
              "</div>\n",
              "    </div>\n",
              "  </div>\n"
            ]
          },
          "metadata": {},
          "execution_count": 79
        }
      ]
    },
    {
      "cell_type": "code",
      "source": [
        "frequency = df['Rating'].value_counts()"
      ],
      "metadata": {
        "id": "FsiS9gi2k-TK"
      },
      "execution_count": null,
      "outputs": []
    },
    {
      "cell_type": "code",
      "source": [
        "labels = [5,4,3,2,1]\n",
        "plt.bar(labels, frequency, width=0.8,  bottom=None, align='center')\n",
        "\n",
        "plt.xlabel('Rating')\n",
        "plt.ylabel('Frequency')\n",
        "plt.title('Count Number Of Reviews By Ratings')\n",
        "plt.show()"
      ],
      "metadata": {
        "colab": {
          "base_uri": "https://localhost:8080/"
        },
        "id": "tA1H2QEd6V_i",
        "outputId": "b4d191b3-f0cd-4ef2-9411-5c9fd6fe7f1d"
      },
      "execution_count": null,
      "outputs": [
        {
          "output_type": "display_data",
          "data": {
            "text/plain": [
              "<Figure size 640x480 with 1 Axes>"
            ],
            "image/png": "[encoded data removed]"
          },
          "metadata": {}
        }
      ]
    },
    {
      "cell_type": "markdown",
      "source": [
        "# Read GloVe Embedding"
      ],
      "metadata": {
        "id": "73nTDwMpG_aD"
      }
    },
    {
      "cell_type": "code",
      "source": [
        "# Load GloVe word embeddings and create an Embeddings Dictionary\n",
        "filepath = '/content/drive/MyDrive/Sheffield_Hallam_University/Final Year/Development Project/Sentiment_Analysis_Project/a2_glove.6B.100d.txt'\n",
        "\n",
        "embeddings_index = dict()\n",
        "f = open(filepath)\n",
        "for line in f:\n",
        "    values = line.split()\n",
        "    word = values[0]\n",
        "    coefs = np.asarray(values[1:], dtype='float32')\n",
        "    embeddings_index[word] = coefs\n",
        "f.close()"
      ],
      "metadata": {
        "id": "-X9KgpypHBf9"
      },
      "execution_count": null,
      "outputs": []
    },
    {
      "cell_type": "markdown",
      "source": [
        "# Preprocessing Text"
      ],
      "metadata": {
        "id": "Lfqy9sPr4XPn"
      }
    },
    {
      "cell_type": "code",
      "source": [
        "df = df.dropna()"
      ],
      "metadata": {
        "id": "hgW8OYZA_RGT"
      },
      "execution_count": null,
      "outputs": []
    },
    {
      "cell_type": "code",
      "source": [
        "reviews = df['Reviews']\n",
        "\n",
        "ratings = df['Rating']"
      ],
      "metadata": {
        "id": "H1lkpsvuQ9ws"
      },
      "execution_count": null,
      "outputs": []
    },
    {
      "cell_type": "code",
      "source": [
        "#Remove stopwords 'n punctuation\n",
        "sw = stopwords.words('english')\n",
        "\n",
        "def preprocess_text(review):\n",
        "    review = review.lower() # Convert to lowercase\n",
        "    review = re.sub(r'[^\\x00-\\x7F]+',' ', review) # Remove words with non-ASCII characters\n",
        "    words = review.split()\n",
        "    words = [word for word in words if word not in set(stopwords.words('english'))] # Remove stop words\n",
        "    review = \" \".join(words)\n",
        "    return review"
      ],
      "metadata": {
        "id": "QqtLGRIkSp7H"
      },
      "execution_count": null,
      "outputs": []
    },
    {
      "cell_type": "code",
      "source": [
        "reviews = reviews.apply(preprocess_text)"
      ],
      "metadata": {
        "id": "RRZTSASJyA0J"
      },
      "execution_count": null,
      "outputs": []
    },
    {
      "cell_type": "markdown",
      "source": [
        "# Tokenize"
      ],
      "metadata": {
        "id": "9-5W3sfOH5fR"
      }
    },
    {
      "cell_type": "code",
      "source": [
        "def encode_pad(review):\n",
        "  # Convert text to sequences\n",
        "  encoded_review = t.texts_to_sequences(review)\n",
        "\n",
        "  # Pad reviews\n",
        "  padded_review = pad_sequences(encoded_review, maxlen=max_length, padding='post')\n",
        "\n",
        "  return padded_review"
      ],
      "metadata": {
        "id": "AUHDD_eZYHUq"
      },
      "execution_count": null,
      "outputs": []
    },
    {
      "cell_type": "code",
      "source": [
        "# Find the length of longest review\n",
        "max_length = reviews.apply(lambda x: len(x.split())).max()\n",
        "\n",
        "\n",
        "t = Tokenizer()\n",
        "t.fit_on_texts(reviews)\n",
        "\n",
        "vocab_size = len(t.word_index) + 1\n",
        "\n",
        "# Convert text to sequences\n",
        "padded_reviews = encode_pad(reviews)"
      ],
      "metadata": {
        "id": "Ax4VQSonH6e9"
      },
      "execution_count": null,
      "outputs": []
    },
    {
      "cell_type": "code",
      "source": [
        "# Map each unique word index with its GloVe vector\n",
        "\n",
        "embedding_dim = 100\n",
        "\n",
        "# Initialize an empty matrix with zeros, where the number of rows is determined by the vocabulary size (vocab_size),\n",
        "# and the number of columns is set to 100, matching the dimensionality of the GloVe word embeddings.\n",
        "embedding_matrix = np.zeros((vocab_size, 100))\n",
        "\n",
        "# Iterate through each word in the tokenizer's word index\n",
        "for word, i in t.word_index.items():\n",
        "  # Retrieve the GloVe word embedding vector for the current word\n",
        "    embedding_vector = embeddings_index.get(word)\n",
        "    # Check if the word has a corresponding embedding in the GloVe model\n",
        "    if embedding_vector is not None:\n",
        "      # If an embedding exists, update the corresponding row in the embedding matrix\n",
        "        # with the GloVe word embedding vector for the current word.\n",
        "        embedding_matrix[i] = embedding_vector"
      ],
      "metadata": {
        "id": "RNrK91rhIma8"
      },
      "execution_count": null,
      "outputs": []
    },
    {
      "cell_type": "code",
      "source": [
        "print(embedding_matrix[:5])"
      ],
      "metadata": {
        "colab": {
          "base_uri": "https://localhost:8080/"
        },
        "id": "EGq7eqmeJFWP",
        "outputId": "2c9c8733-5982-472e-d931-de53bc15f9fd"
      },
      "execution_count": null,
      "outputs": [
        {
          "output_type": "stream",
          "name": "stdout",
          "text": [
            "[[ 0.00000000e+00  0.00000000e+00  0.00000000e+00  0.00000000e+00\n",
            "   0.00000000e+00  0.00000000e+00  0.00000000e+00  0.00000000e+00\n",
            "   0.00000000e+00  0.00000000e+00  0.00000000e+00  0.00000000e+00\n",
            "   0.00000000e+00  0.00000000e+00  0.00000000e+00  0.00000000e+00\n",
            "   0.00000000e+00  0.00000000e+00  0.00000000e+00  0.00000000e+00\n",
            "   0.00000000e+00  0.00000000e+00  0.00000000e+00  0.00000000e+00\n",
            "   0.00000000e+00  0.00000000e+00  0.00000000e+00  0.00000000e+00\n",
            "   0.00000000e+00  0.00000000e+00  0.00000000e+00  0.00000000e+00\n",
            "   0.00000000e+00  0.00000000e+00  0.00000000e+00  0.00000000e+00\n",
            "   0.00000000e+00  0.00000000e+00  0.00000000e+00  0.00000000e+00\n",
            "   0.00000000e+00  0.00000000e+00  0.00000000e+00  0.00000000e+00\n",
            "   0.00000000e+00  0.00000000e+00  0.00000000e+00  0.00000000e+00\n",
            "   0.00000000e+00  0.00000000e+00  0.00000000e+00  0.00000000e+00\n",
            "   0.00000000e+00  0.00000000e+00  0.00000000e+00  0.00000000e+00\n",
            "   0.00000000e+00  0.00000000e+00  0.00000000e+00  0.00000000e+00\n",
            "   0.00000000e+00  0.00000000e+00  0.00000000e+00  0.00000000e+00\n",
            "   0.00000000e+00  0.00000000e+00  0.00000000e+00  0.00000000e+00\n",
            "   0.00000000e+00  0.00000000e+00  0.00000000e+00  0.00000000e+00\n",
            "   0.00000000e+00  0.00000000e+00  0.00000000e+00  0.00000000e+00\n",
            "   0.00000000e+00  0.00000000e+00  0.00000000e+00  0.00000000e+00\n",
            "   0.00000000e+00  0.00000000e+00  0.00000000e+00  0.00000000e+00\n",
            "   0.00000000e+00  0.00000000e+00  0.00000000e+00  0.00000000e+00\n",
            "   0.00000000e+00  0.00000000e+00  0.00000000e+00  0.00000000e+00\n",
            "   0.00000000e+00  0.00000000e+00  0.00000000e+00  0.00000000e+00\n",
            "   0.00000000e+00  0.00000000e+00  0.00000000e+00  0.00000000e+00]\n",
            " [ 3.17640007e-02 -6.07680023e-01  5.22329986e-01 -1.15329996e-02\n",
            "   3.60089988e-01  3.64600003e-01 -4.97280015e-03 -3.37689999e-04\n",
            "   6.60109997e-01 -1.26019999e-01  2.38319993e-01  5.61130010e-02\n",
            "  -1.13279998e-01  3.51990014e-01  2.40700006e-01 -2.95879990e-01\n",
            "  -3.18109989e-01  7.95090012e-03  3.29959989e-01 -1.03830002e-01\n",
            "  -4.02300000e-01 -3.73509992e-03  4.70880002e-01  2.21410006e-01\n",
            "   3.30430001e-01 -4.50480014e-01  3.53760004e-01  5.59430003e-01\n",
            "   2.35090002e-01  5.01900017e-02  5.73840022e-01  9.11369979e-01\n",
            "   8.93599987e-01  1.29999995e-01  6.78070009e-01  4.17869985e-01\n",
            "  -6.98119998e-01 -6.05809987e-01  1.11469996e+00 -4.34549991e-03\n",
            "   4.64390010e-01 -3.86629999e-01  9.20780003e-02 -3.52780014e-01\n",
            "  -9.23020005e-01  3.74229997e-02 -4.94809985e-01 -2.04030007e-01\n",
            "   8.06089997e-01 -6.70629978e-01  1.93240002e-01  6.93289995e-01\n",
            "   8.17430019e-01  3.77620012e-01  2.69510001e-01 -1.76689994e+00\n",
            "  -7.08249986e-01  2.70240009e-01  1.94550002e+00  7.23760009e-01\n",
            "   1.75579995e-01 -1.74750000e-01  1.70039997e-01 -6.79820001e-01\n",
            "  -2.30570003e-01  8.57329965e-02  7.81840026e-01  3.44099998e-01\n",
            "   8.36899996e-01  2.77139992e-01 -4.19110000e-01 -1.39960004e-02\n",
            "   3.62989992e-01 -1.24300003e+00  4.09350008e-01  8.28050017e-01\n",
            "   6.83550000e-01 -2.01460004e-01 -9.28499997e-01 -7.18920007e-02\n",
            "   1.41949999e+00 -1.03190005e+00 -1.11429997e-01 -2.43939996e-01\n",
            "  -2.16739988e+00 -2.78230011e-01  4.85430002e-01 -1.18309997e-01\n",
            "  -1.09660000e-01 -2.08110005e-01  4.41190004e-01  9.37650025e-01\n",
            "   6.79849982e-01 -5.21939993e-01 -4.17100012e-01  2.72980005e-01\n",
            "   3.74040008e-02  1.07260004e-01  8.08929980e-01  2.44079996e-02]\n",
            " [-3.07689998e-02  1.19929999e-01  5.39089978e-01 -4.36960012e-01\n",
            "  -7.39369988e-01 -1.53449997e-01  8.11259970e-02 -3.85589987e-01\n",
            "  -6.87969983e-01 -4.16319996e-01 -1.31830007e-01 -2.49219999e-01\n",
            "   4.41000015e-01  8.59190002e-02  2.08710000e-01 -6.35820031e-02\n",
            "   6.22280017e-02 -5.12339994e-02 -1.33980006e-01  1.14180005e+00\n",
            "   3.65259983e-02  4.90289986e-01 -2.45670006e-01 -4.12000000e-01\n",
            "   1.23489998e-01  4.13360000e-01 -4.83969986e-01 -5.42429984e-01\n",
            "  -2.77869999e-01 -2.60149986e-01 -3.84849995e-01  7.86559999e-01\n",
            "   1.02300003e-01 -2.07120001e-01  4.07510012e-01  3.20259988e-01\n",
            "  -5.10519981e-01  4.83619988e-01 -9.94979963e-03 -3.86849999e-01\n",
            "   3.49749997e-02 -1.66999996e-01  4.23700005e-01 -5.41639984e-01\n",
            "  -3.03229988e-01 -3.69830012e-01  8.28360021e-02 -5.25380015e-01\n",
            "  -6.45309985e-02 -1.39800000e+00 -1.48729995e-01 -3.53269994e-01\n",
            "  -1.11800000e-01  1.09119999e+00  9.58639979e-02 -2.81290007e+00\n",
            "   4.52380002e-01  4.62130010e-01  1.60119998e+00 -2.08370000e-01\n",
            "  -2.73770005e-01  7.11969972e-01 -1.07539999e+00 -4.69739996e-02\n",
            "   6.74790025e-01 -6.58390000e-02  7.58239985e-01  3.94050002e-01\n",
            "   1.55070007e-01 -6.47189975e-01  3.27960014e-01 -3.17480005e-02\n",
            "   5.28989971e-01 -4.38859999e-01  6.74049973e-01  4.21359986e-01\n",
            "  -1.19810000e-01 -2.17769995e-01 -2.97560006e-01 -1.35100007e-01\n",
            "   5.98980010e-01  4.65290010e-01 -5.82579970e-01 -2.32299995e-02\n",
            "  -1.54419994e+00  1.90099999e-02 -1.58769991e-02  2.44989991e-02\n",
            "  -5.80169976e-01 -6.76590025e-01 -4.03789990e-02 -4.40429986e-01\n",
            "   8.32920000e-02  2.00350001e-01 -7.54989982e-01  1.69180006e-01\n",
            "  -2.65729994e-01 -5.28779984e-01  1.75840005e-01  1.06500006e+00]\n",
            " [-3.65310013e-01  3.17849994e-01 -3.20470005e-01  5.16390018e-02\n",
            "  -1.24380000e-01  1.25440001e-01 -4.14380014e-01  1.31659999e-01\n",
            "   7.58650005e-02  4.32980001e-01 -5.42360008e-01 -5.18809974e-01\n",
            "  -2.71220002e-02  4.44099993e-01  4.40919995e-01 -1.44250005e-01\n",
            "   8.85060012e-01  4.52459991e-01 -3.33160013e-01 -1.25700003e-02\n",
            "   9.75190029e-02 -3.03229988e-01  2.50970006e-01  1.06179997e-01\n",
            "  -2.54610002e-01 -2.92409994e-02 -1.97710007e-01 -4.59840000e-01\n",
            "  -4.97649983e-02  2.99279988e-01 -3.12770009e-02  1.06379998e+00\n",
            "  -1.18929994e+00  1.82820000e-02  4.77270007e-01  4.67570007e-01\n",
            "  -1.57110006e-01  7.66159967e-02  3.29279989e-01  4.31489982e-02\n",
            "  -2.66669989e-01 -3.84380013e-01 -3.35159987e-01 -2.57369995e-01\n",
            "  -1.69170007e-01 -2.12919991e-02  7.37959966e-02 -7.63740003e-01\n",
            "  -1.03720002e-01 -9.56700027e-01  1.79930001e-01  9.83340025e-01\n",
            "  -9.80110019e-02  1.28849995e+00 -3.54860001e-03 -2.10310006e+00\n",
            "   1.60699993e-01 -4.63699996e-01  2.10130000e+00 -3.20360005e-01\n",
            "  -2.39910007e-01  5.13329983e-01  3.35830003e-01  5.17709970e-01\n",
            "   1.14150000e+00 -2.54229993e-01  5.93529999e-01 -2.90840000e-01\n",
            "   1.04960002e-01 -5.39619982e-01 -5.26069999e-01 -4.12400007e-01\n",
            "   2.44959995e-01 -1.62560001e-01 -1.69780001e-01 -1.76330000e-01\n",
            "  -3.11869998e-02  2.20009997e-01 -8.30470026e-01  1.55070007e-01\n",
            "   1.11269999e+00 -8.14390004e-01 -6.50089979e-01  1.86130002e-01\n",
            "  -1.77219999e+00  6.28180027e-01  7.02740014e-01  1.52940005e-01\n",
            "   6.34429976e-02 -1.68769993e-02 -2.55860001e-01 -7.96509981e-02\n",
            "   1.15199998e-01 -3.93819988e-01 -2.85789996e-01 -6.63550019e-01\n",
            "  -5.52209973e-01 -7.03639984e-01  9.69089985e-01  2.11529993e-02]\n",
            " [-2.44299993e-01  3.17360014e-01  3.73160005e-01  2.47280002e-02\n",
            "   4.75930005e-01  4.62370008e-01 -5.28779984e-01 -2.30900005e-01\n",
            "   2.90019989e-01 -2.60010004e-01  1.30850002e-01 -7.16149986e-01\n",
            "  -9.51809995e-03 -7.97479972e-02  5.44650018e-01  2.17969999e-01\n",
            "   3.20600003e-01  7.64029980e-01  9.26029980e-01 -8.79219994e-02\n",
            "  -4.30110008e-01 -6.77060008e-01  1.62479997e-01 -5.17629981e-01\n",
            "   1.55610001e+00 -3.22759986e-01  9.21780020e-02  1.86260000e-01\n",
            "  -6.24880008e-02 -4.94080007e-01  7.88139999e-01  5.39600015e-01\n",
            "   5.49639985e-02  1.55870005e-01  1.10029995e+00 -1.58969998e-01\n",
            "  -2.35839993e-01  5.09110019e-02  1.52689993e-01 -2.53910005e-01\n",
            "   2.34249994e-01 -1.33169994e-01 -7.92850018e-01  3.41199994e-01\n",
            "  -3.49729992e-02  2.07159996e-01 -5.54899991e-01 -6.32089972e-01\n",
            "   7.88760036e-02 -2.22859994e-01  3.34490001e-01 -6.33570030e-02\n",
            "   3.42020005e-01  1.15670002e+00  2.41830006e-01 -2.27760005e+00\n",
            "  -6.82730019e-01  2.23769993e-01  1.32420003e+00 -3.63499999e-01\n",
            "   2.29680003e-03  1.71039999e+00 -1.62599996e-01  3.50410014e-01\n",
            "   1.14670001e-01  2.68610001e-01  5.39550006e-01  1.46559998e-01\n",
            "  -5.38139999e-01  4.00440007e-01  4.98730004e-01  3.25520009e-01\n",
            "   4.56640005e-01 -1.42600000e-01 -8.69240016e-02  1.02729999e-01\n",
            "  -2.81839997e-01  2.06939995e-01  5.68409979e-01 -4.54149991e-01\n",
            "  -2.60150004e-02 -6.34000003e-01  3.34969997e-01  2.75649995e-01\n",
            "  -1.81410003e+00 -3.45360011e-01  6.18239999e-01 -2.80750006e-01\n",
            "   3.12920004e-01 -2.44929999e-01  1.20020002e-01  7.68090010e-01\n",
            "   1.98009998e-01 -2.39240006e-01  3.83879989e-02  1.61660001e-01\n",
            "   9.80160013e-02 -1.67129993e-01  5.81300020e-01 -6.92709982e-02]]\n"
          ]
        }
      ]
    },
    {
      "cell_type": "markdown",
      "source": [
        "# Define Training, Validation and Testing Dataset"
      ],
      "metadata": {
        "id": "NEb8qaOdyBb3"
      }
    },
    {
      "cell_type": "code",
      "source": [
        "one_hot_encoded_Y = pd.get_dummies(ratings).values"
      ],
      "metadata": {
        "id": "57UUxionUcd0"
      },
      "execution_count": null,
      "outputs": []
    },
    {
      "cell_type": "code",
      "source": [
        "# Firstly split them into the training dataset and the rest as remaining dataset for validation and testing\n",
        "train_reviews, remain_reviews, y_train, y_rem = train_test_split(reviews, one_hot_encoded_Y, train_size=0.8, random_state=42)\n",
        "\n",
        "# Split the remaining dataset for validation and testing\n",
        "valid_reviews, test_reviews, y_valid, y_test = train_test_split(remain_reviews, y_rem, train_size=0.5)"
      ],
      "metadata": {
        "id": "I_0UpA_7YfDO"
      },
      "execution_count": null,
      "outputs": []
    },
    {
      "cell_type": "code",
      "source": [
        "print(train_reviews[:5])"
      ],
      "metadata": {
        "colab": {
          "base_uri": "https://localhost:8080/"
        },
        "id": "fdeVDKl1oM14",
        "outputId": "4b322fb7-ec77-4118-8fad-1a82709f75a0"
      },
      "execution_count": null,
      "outputs": [
        {
          "output_type": "stream",
          "name": "stdout",
          "text": [
            "294    good thing order 3 pack. poor quality already ...\n",
            "524      good phone, good qualty, better camera, night..\n",
            "617    really bad pay conection fee cel charge part w...\n",
            "598                           lousy phone, speakers work\n",
            "157    husband loves it!! simple use large numbers. s...\n",
            "Name: Reviews, dtype: object\n"
          ]
        }
      ]
    },
    {
      "cell_type": "code",
      "source": [
        "train_reviews_padded = encode_pad(train_reviews)\n",
        "\n",
        "valid_reviews_padded = encode_pad(valid_reviews)"
      ],
      "metadata": {
        "id": "ZT5efdITZF-I"
      },
      "execution_count": null,
      "outputs": []
    },
    {
      "cell_type": "markdown",
      "source": [
        "# Train The Models"
      ],
      "metadata": {
        "id": "fwtlV9TnInw2"
      }
    },
    {
      "cell_type": "code",
      "source": [
        "EPOCHS = 20"
      ],
      "metadata": {
        "id": "_kUYQRSzfiiI"
      },
      "execution_count": null,
      "outputs": []
    },
    {
      "cell_type": "markdown",
      "source": [
        "**Simple Neural Network (SNN)**"
      ],
      "metadata": {
        "id": "NYNfgRgrVi4W"
      }
    },
    {
      "cell_type": "code",
      "source": [
        "SNN = Sequential([\n",
        "    Embedding(vocab_size, embedding_dim, weights=[embedding_matrix], input_length=max_length , trainable=False),\n",
        "    Flatten(),\n",
        "    Dense(5, activation='softmax')\n",
        "])"
      ],
      "metadata": {
        "id": "LrspxAscffUT"
      },
      "execution_count": null,
      "outputs": []
    },
    {
      "cell_type": "code",
      "source": [
        "# Define optimiser for Simple Neural Network model\n",
        "optimiser = keras.optimizers.RMSprop(learning_rate=2e-4)\n",
        "\n",
        "# Compile model\n",
        "SNN.compile(optimizer=optimiser, loss='categorical_crossentropy', metrics=['acc'])"
      ],
      "metadata": {
        "id": "oiNkdGmuf8Ww"
      },
      "execution_count": null,
      "outputs": []
    },
    {
      "cell_type": "code",
      "source": [
        "SNN_history = SNN.fit(train_reviews_padded, y_train, epochs=EPOCHS, validation_data=(valid_reviews_padded, y_valid))"
      ],
      "metadata": {
        "id": "gQPlKATOgG9W",
        "colab": {
          "base_uri": "https://localhost:8080/"
        },
        "outputId": "0f4c6d9e-54a0-4f1f-9a23-e350a0405245"
      },
      "execution_count": null,
      "outputs": [
        {
          "output_type": "stream",
          "name": "stdout",
          "text": [
            "Epoch 1/20\n",
            "14/14 [==============================] - 2s 18ms/step - loss: 1.3931 - acc: 0.4369 - val_loss: 1.5986 - val_acc: 0.3774\n",
            "Epoch 2/20\n",
            "14/14 [==============================] - 0s 6ms/step - loss: 1.1727 - acc: 0.5911 - val_loss: 1.5505 - val_acc: 0.4528\n",
            "Epoch 3/20\n",
            "14/14 [==============================] - 0s 5ms/step - loss: 1.0715 - acc: 0.6542 - val_loss: 1.5297 - val_acc: 0.4717\n",
            "Epoch 4/20\n",
            "14/14 [==============================] - 0s 7ms/step - loss: 0.9931 - acc: 0.6963 - val_loss: 1.5385 - val_acc: 0.4906\n",
            "Epoch 5/20\n",
            "14/14 [==============================] - 0s 6ms/step - loss: 0.9294 - acc: 0.7220 - val_loss: 1.5051 - val_acc: 0.5094\n",
            "Epoch 6/20\n",
            "14/14 [==============================] - 0s 5ms/step - loss: 0.8746 - acc: 0.7547 - val_loss: 1.5206 - val_acc: 0.4906\n",
            "Epoch 7/20\n",
            "14/14 [==============================] - 0s 6ms/step - loss: 0.8283 - acc: 0.7617 - val_loss: 1.5206 - val_acc: 0.4906\n",
            "Epoch 8/20\n",
            "14/14 [==============================] - 0s 6ms/step - loss: 0.7867 - acc: 0.7757 - val_loss: 1.5045 - val_acc: 0.5094\n",
            "Epoch 9/20\n",
            "14/14 [==============================] - 0s 6ms/step - loss: 0.7490 - acc: 0.7827 - val_loss: 1.5060 - val_acc: 0.5283\n",
            "Epoch 10/20\n",
            "14/14 [==============================] - 0s 5ms/step - loss: 0.7145 - acc: 0.7944 - val_loss: 1.5069 - val_acc: 0.5283\n",
            "Epoch 11/20\n",
            "14/14 [==============================] - 0s 5ms/step - loss: 0.6833 - acc: 0.8178 - val_loss: 1.5054 - val_acc: 0.5283\n",
            "Epoch 12/20\n",
            "14/14 [==============================] - 0s 5ms/step - loss: 0.6544 - acc: 0.8318 - val_loss: 1.5081 - val_acc: 0.5660\n",
            "Epoch 13/20\n",
            "14/14 [==============================] - 0s 6ms/step - loss: 0.6280 - acc: 0.8458 - val_loss: 1.4933 - val_acc: 0.5283\n",
            "Epoch 14/20\n",
            "14/14 [==============================] - 0s 6ms/step - loss: 0.6030 - acc: 0.8598 - val_loss: 1.4871 - val_acc: 0.5283\n",
            "Epoch 15/20\n",
            "14/14 [==============================] - 0s 6ms/step - loss: 0.5801 - acc: 0.8621 - val_loss: 1.4936 - val_acc: 0.5283\n",
            "Epoch 16/20\n",
            "14/14 [==============================] - 0s 7ms/step - loss: 0.5592 - acc: 0.8668 - val_loss: 1.4758 - val_acc: 0.5283\n",
            "Epoch 17/20\n",
            "14/14 [==============================] - 0s 5ms/step - loss: 0.5387 - acc: 0.8762 - val_loss: 1.4858 - val_acc: 0.5283\n",
            "Epoch 18/20\n",
            "14/14 [==============================] - 0s 5ms/step - loss: 0.5194 - acc: 0.8808 - val_loss: 1.4805 - val_acc: 0.5283\n",
            "Epoch 19/20\n",
            "14/14 [==============================] - 0s 6ms/step - loss: 0.5016 - acc: 0.8925 - val_loss: 1.4771 - val_acc: 0.5472\n",
            "Epoch 20/20\n",
            "14/14 [==============================] - 0s 5ms/step - loss: 0.4844 - acc: 0.8925 - val_loss: 1.4763 - val_acc: 0.5472\n"
          ]
        }
      ]
    },
    {
      "cell_type": "code",
      "source": [
        "SNN.summary()"
      ],
      "metadata": {
        "id": "VGdhap-I_XOu",
        "colab": {
          "base_uri": "https://localhost:8080/"
        },
        "outputId": "e1aacc05-148c-4565-b2b5-22f490408459"
      },
      "execution_count": null,
      "outputs": [
        {
          "output_type": "stream",
          "name": "stdout",
          "text": [
            "Model: \"sequential\"\n",
            "_________________________________________________________________\n",
            " Layer (type)                Output Shape              Param #   \n",
            "=================================================================\n",
            " embedding (Embedding)       (None, 398, 100)          275300    \n",
            "                                                                 \n",
            " flatten (Flatten)           (None, 39800)             0         \n",
            "                                                                 \n",
            " dense (Dense)               (None, 5)                 199005    \n",
            "                                                                 \n",
            "=================================================================\n",
            "Total params: 474305 (1.81 MB)\n",
            "Trainable params: 199005 (777.36 KB)\n",
            "Non-trainable params: 275300 (1.05 MB)\n",
            "_________________________________________________________________\n"
          ]
        }
      ]
    },
    {
      "cell_type": "code",
      "source": [
        "plot_model(\n",
        "    SNN,\n",
        "    show_shapes = True,\n",
        "    show_dtype = True,\n",
        "    show_layer_activations = True\n",
        ")"
      ],
      "metadata": {
        "id": "ATMeZg2s_a7q",
        "colab": {
          "base_uri": "https://localhost:8080/",
          "height": 545
        },
        "outputId": "82740a76-462b-4fc2-c3a7-9831a63f54ea"
      },
      "execution_count": null,
      "outputs": [
        {
          "output_type": "execute_result",
          "data": {
            "image/png": "[encoded data removed]",
            "text/plain": [
              "<IPython.core.display.Image object>"
            ]
          },
          "metadata": {},
          "execution_count": 26
        }
      ]
    },
    {
      "cell_type": "code",
      "source": [
        "def display_graphs(history):\n",
        "  plt.plot(history.history['acc'])\n",
        "  plt.plot(history.history['val_acc'])\n",
        "\n",
        "  plt.title('Model Accuracy')\n",
        "  plt.ylabel('Accuracy')\n",
        "  plt.xlabel('Epochs')\n",
        "  plt.legend(['train','test'], loc='upper left')\n",
        "  plt.show()\n",
        "\n",
        "  plt.plot(history.history['loss'])\n",
        "  plt.plot(history.history['val_loss'])\n",
        "\n",
        "  plt.title('Model Loss')\n",
        "  plt.ylabel('Loss')\n",
        "  plt.xlabel('Epochs')\n",
        "  plt.legend(['train','test'], loc='upper left')\n",
        "  plt.show()\n"
      ],
      "metadata": {
        "id": "7Uc4EsnShaSI"
      },
      "execution_count": null,
      "outputs": []
    },
    {
      "cell_type": "code",
      "source": [
        "display_graphs(SNN_history)"
      ],
      "metadata": {
        "id": "4dWzXti4g2Nm",
        "colab": {
          "base_uri": "https://localhost:8080/",
          "height": 927
        },
        "outputId": "ab17c4dc-d053-4b7d-a969-06a7ef26f94a"
      },
      "execution_count": null,
      "outputs": [
        {
          "output_type": "display_data",
          "data": {
            "text/plain": [
              "<Figure size 640x480 with 1 Axes>"
            ],
            "image/png": "[encoded data removed]"
          },
          "metadata": {}
        },
        {
          "output_type": "display_data",
          "data": {
            "text/plain": [
              "<Figure size 640x480 with 1 Axes>"
            ],
            "image/png": "[encoded data removed]"
          },
          "metadata": {}
        }
      ]
    },
    {
      "cell_type": "code",
      "source": [
        "# Define file path to save/load SNN model\n",
        "filepath_SNN = '/content/drive/MyDrive/Sheffield_Hallam_University/Final Year/Development Project/Sentiment_Analysis_Project/SNN_rating_predictor.keras'"
      ],
      "metadata": {
        "id": "WEN8n2IM-7pm"
      },
      "execution_count": null,
      "outputs": []
    },
    {
      "cell_type": "code",
      "source": [
        "# save SNN model\n",
        "keras.saving.save_model(SNN, filepath_SNN)"
      ],
      "metadata": {
        "id": "_oWouc5O_Dbm"
      },
      "execution_count": null,
      "outputs": []
    },
    {
      "cell_type": "markdown",
      "source": [
        "**Convolutional Neural Network (CNN)**"
      ],
      "metadata": {
        "id": "YsZQxdY6gKzx"
      }
    },
    {
      "cell_type": "code",
      "source": [
        "CNN = Sequential([\n",
        "    Embedding(vocab_size, embedding_dim, weights=[embedding_matrix], input_length=max_length, trainable=False),\n",
        "    Conv1D(128, 5, activation='relu'),\n",
        "    GlobalMaxPooling1D(),\n",
        "    Dense(5, activation='softmax')\n",
        "])"
      ],
      "metadata": {
        "id": "pGspzk61gOD-"
      },
      "execution_count": null,
      "outputs": []
    },
    {
      "cell_type": "code",
      "source": [
        "# Define optimiser for ResNet50V2 model\n",
        "optimiser = keras.optimizers.RMSprop(learning_rate=2e-4)\n",
        "\n",
        "# Compile model\n",
        "CNN.compile(optimizer=optimiser, loss='categorical_crossentropy', metrics=['acc'])"
      ],
      "metadata": {
        "id": "k7-_sHY8g5eR"
      },
      "execution_count": null,
      "outputs": []
    },
    {
      "cell_type": "code",
      "source": [
        "CNN_history = CNN.fit(train_reviews_padded, y_train, epochs=EPOCHS, validation_data=(valid_reviews_padded, y_valid))"
      ],
      "metadata": {
        "id": "GeJOrhsCg6dm",
        "colab": {
          "base_uri": "https://localhost:8080/"
        },
        "outputId": "ae90ad6f-571f-4ae9-a1dc-c91cb83e24ea"
      },
      "execution_count": null,
      "outputs": [
        {
          "output_type": "stream",
          "name": "stdout",
          "text": [
            "Epoch 1/20\n",
            "14/14 [==============================] - 2s 37ms/step - loss: 1.3709 - acc: 0.4930 - val_loss: 1.5103 - val_acc: 0.4151\n",
            "Epoch 2/20\n",
            "14/14 [==============================] - 0s 7ms/step - loss: 1.1784 - acc: 0.6145 - val_loss: 1.4476 - val_acc: 0.3774\n",
            "Epoch 3/20\n",
            "14/14 [==============================] - 0s 9ms/step - loss: 1.0752 - acc: 0.6542 - val_loss: 1.4063 - val_acc: 0.4717\n",
            "Epoch 4/20\n",
            "14/14 [==============================] - 0s 8ms/step - loss: 0.9825 - acc: 0.6939 - val_loss: 1.3614 - val_acc: 0.5283\n",
            "Epoch 5/20\n",
            "14/14 [==============================] - 0s 7ms/step - loss: 0.9099 - acc: 0.7290 - val_loss: 1.3062 - val_acc: 0.5660\n",
            "Epoch 6/20\n",
            "14/14 [==============================] - 0s 8ms/step - loss: 0.8345 - acc: 0.7734 - val_loss: 1.3015 - val_acc: 0.5472\n",
            "Epoch 7/20\n",
            "14/14 [==============================] - 0s 8ms/step - loss: 0.7800 - acc: 0.7687 - val_loss: 1.2508 - val_acc: 0.5660\n",
            "Epoch 8/20\n",
            "14/14 [==============================] - 0s 7ms/step - loss: 0.7204 - acc: 0.8061 - val_loss: 1.2076 - val_acc: 0.5283\n",
            "Epoch 9/20\n",
            "14/14 [==============================] - 0s 8ms/step - loss: 0.6712 - acc: 0.8364 - val_loss: 1.2142 - val_acc: 0.5849\n",
            "Epoch 10/20\n",
            "14/14 [==============================] - 0s 9ms/step - loss: 0.6260 - acc: 0.8528 - val_loss: 1.1810 - val_acc: 0.6038\n",
            "Epoch 11/20\n",
            "14/14 [==============================] - 0s 8ms/step - loss: 0.5850 - acc: 0.8692 - val_loss: 1.1527 - val_acc: 0.5660\n",
            "Epoch 12/20\n",
            "14/14 [==============================] - 0s 7ms/step - loss: 0.5445 - acc: 0.8972 - val_loss: 1.1898 - val_acc: 0.5849\n",
            "Epoch 13/20\n",
            "14/14 [==============================] - 0s 7ms/step - loss: 0.5115 - acc: 0.9042 - val_loss: 1.1447 - val_acc: 0.5660\n",
            "Epoch 14/20\n",
            "14/14 [==============================] - 0s 8ms/step - loss: 0.4777 - acc: 0.9182 - val_loss: 1.1368 - val_acc: 0.6038\n",
            "Epoch 15/20\n",
            "14/14 [==============================] - 0s 11ms/step - loss: 0.4478 - acc: 0.9276 - val_loss: 1.0899 - val_acc: 0.6226\n",
            "Epoch 16/20\n",
            "14/14 [==============================] - 0s 11ms/step - loss: 0.4196 - acc: 0.9369 - val_loss: 1.1147 - val_acc: 0.6226\n",
            "Epoch 17/20\n",
            "14/14 [==============================] - 0s 10ms/step - loss: 0.3938 - acc: 0.9439 - val_loss: 1.0767 - val_acc: 0.6226\n",
            "Epoch 18/20\n",
            "14/14 [==============================] - 0s 9ms/step - loss: 0.3672 - acc: 0.9556 - val_loss: 1.0639 - val_acc: 0.6604\n",
            "Epoch 19/20\n",
            "14/14 [==============================] - 0s 11ms/step - loss: 0.3439 - acc: 0.9603 - val_loss: 1.0749 - val_acc: 0.6415\n",
            "Epoch 20/20\n",
            "14/14 [==============================] - 0s 11ms/step - loss: 0.3219 - acc: 0.9650 - val_loss: 1.0672 - val_acc: 0.6604\n"
          ]
        }
      ]
    },
    {
      "cell_type": "code",
      "source": [
        "CNN.summary()"
      ],
      "metadata": {
        "id": "q9rMBkWr_mRd",
        "colab": {
          "base_uri": "https://localhost:8080/"
        },
        "outputId": "f63a1c71-6739-4bcc-9024-9c095b460950"
      },
      "execution_count": null,
      "outputs": [
        {
          "output_type": "stream",
          "name": "stdout",
          "text": [
            "Model: \"sequential_1\"\n",
            "_________________________________________________________________\n",
            " Layer (type)                Output Shape              Param #   \n",
            "=================================================================\n",
            " embedding_1 (Embedding)     (None, 398, 100)          275300    \n",
            "                                                                 \n",
            " conv1d (Conv1D)             (None, 394, 128)          64128     \n",
            "                                                                 \n",
            " global_max_pooling1d (Glob  (None, 128)               0         \n",
            " alMaxPooling1D)                                                 \n",
            "                                                                 \n",
            " dense_1 (Dense)             (None, 5)                 645       \n",
            "                                                                 \n",
            "=================================================================\n",
            "Total params: 340073 (1.30 MB)\n",
            "Trainable params: 64773 (253.02 KB)\n",
            "Non-trainable params: 275300 (1.05 MB)\n",
            "_________________________________________________________________\n"
          ]
        }
      ]
    },
    {
      "cell_type": "code",
      "source": [
        "plot_model(\n",
        "    CNN,\n",
        "    show_shapes = True,\n",
        "    show_dtype = True,\n",
        "    show_layer_activations = True\n",
        ")"
      ],
      "metadata": {
        "id": "_sCR4q9p_o75",
        "colab": {
          "base_uri": "https://localhost:8080/",
          "height": 686
        },
        "outputId": "7ca7c22a-291a-4d4d-b55d-0688cdc97ca2"
      },
      "execution_count": null,
      "outputs": [
        {
          "output_type": "execute_result",
          "data": {
            "image/png": "[encoded data removed]",
            "text/plain": [
              "<IPython.core.display.Image object>"
            ]
          },
          "metadata": {},
          "execution_count": 35
        }
      ]
    },
    {
      "cell_type": "code",
      "source": [
        "display_graphs(CNN.history)"
      ],
      "metadata": {
        "id": "-AZFQWedkZD5",
        "colab": {
          "base_uri": "https://localhost:8080/",
          "height": 927
        },
        "outputId": "702f705f-c950-4b66-88ab-22d11ed83e10"
      },
      "execution_count": null,
      "outputs": [
        {
          "output_type": "display_data",
          "data": {
            "text/plain": [
              "<Figure size 640x480 with 1 Axes>"
            ],
            "image/png": "[encoded data removed]"
          },
          "metadata": {}
        },
        {
          "output_type": "display_data",
          "data": {
            "text/plain": [
              "<Figure size 640x480 with 1 Axes>"
            ],
            "image/png": "[encoded data removed]"
          },
          "metadata": {}
        }
      ]
    },
    {
      "cell_type": "code",
      "source": [
        "# Define file path to save/load CNN model\n",
        "filepath_CNN = '/content/drive/MyDrive/Sheffield_Hallam_University/Final Year/Development Project/Sentiment_Analysis_Project/CNN_rating_predictor.keras'"
      ],
      "metadata": {
        "id": "PHMQ5MRJYwcB"
      },
      "execution_count": null,
      "outputs": []
    },
    {
      "cell_type": "code",
      "source": [
        "# save CNN model\n",
        "keras.saving.save_model(CNN, filepath_CNN)"
      ],
      "metadata": {
        "id": "xwHzTa6r_xJj"
      },
      "execution_count": null,
      "outputs": []
    },
    {
      "cell_type": "markdown",
      "source": [
        "**Long-Short Term Memory (LSTM)**"
      ],
      "metadata": {
        "id": "8VgjF6FaJg6g"
      }
    },
    {
      "cell_type": "code",
      "source": [
        "# Build an LSTM model\n",
        "LSTM = Sequential([\n",
        "    Embedding(vocab_size, embedding_dim, weights=[embedding_matrix], input_length=max_length, trainable=False),\n",
        "    SpatialDropout1D(0.2),\n",
        "    LSTM(64, dropout=0.2, recurrent_dropout=0.2),\n",
        "    Dense(5, activation='softmax')\n",
        "])\n"
      ],
      "metadata": {
        "id": "b1AmbU7dIqA3",
        "colab": {
          "base_uri": "https://localhost:8080/"
        },
        "outputId": "4838b705-ea78-402a-c57d-4ce0e00c5322"
      },
      "execution_count": null,
      "outputs": [
        {
          "output_type": "stream",
          "name": "stderr",
          "text": [
            "WARNING:tensorflow:Layer lstm will not use cuDNN kernels since it doesn't meet the criteria. It will use a generic GPU kernel as fallback when running on GPU.\n"
          ]
        }
      ]
    },
    {
      "cell_type": "code",
      "source": [
        "# Define optimiser for LSTM model\n",
        "optimiser = keras.optimizers.RMSprop(learning_rate=2e-4)\n",
        "\n",
        "# Compile model\n",
        "LSTM.compile(optimizer=optimiser, loss='categorical_crossentropy', metrics=['acc'])"
      ],
      "metadata": {
        "id": "9EylqLtJR33B"
      },
      "execution_count": null,
      "outputs": []
    },
    {
      "cell_type": "code",
      "source": [
        "# Train the model\n",
        "LSTM_history = LSTM.fit(train_reviews_padded, y_train, epochs=EPOCHS, validation_data=(valid_reviews_padded, y_valid))"
      ],
      "metadata": {
        "id": "SPonXcP3V0K8",
        "colab": {
          "base_uri": "https://localhost:8080/"
        },
        "outputId": "47adb3bf-d5fc-460b-9fad-4d0519b0b76a"
      },
      "execution_count": null,
      "outputs": [
        {
          "output_type": "stream",
          "name": "stdout",
          "text": [
            "Epoch 1/20\n",
            "14/14 [==============================] - 22s 1s/step - loss: 1.6018 - acc: 0.4673 - val_loss: 1.6031 - val_acc: 0.3019\n",
            "Epoch 2/20\n",
            "14/14 [==============================] - 17s 1s/step - loss: 1.5875 - acc: 0.4626 - val_loss: 1.5961 - val_acc: 0.3019\n",
            "Epoch 3/20\n",
            "14/14 [==============================] - 17s 1s/step - loss: 1.5639 - acc: 0.4603 - val_loss: 1.5808 - val_acc: 0.3019\n",
            "Epoch 4/20\n",
            "14/14 [==============================] - 18s 1s/step - loss: 1.4618 - acc: 0.4626 - val_loss: 1.6459 - val_acc: 0.3019\n",
            "Epoch 5/20\n",
            "14/14 [==============================] - 18s 1s/step - loss: 1.3840 - acc: 0.4626 - val_loss: 1.6785 - val_acc: 0.3019\n",
            "Epoch 6/20\n",
            "14/14 [==============================] - 17s 1s/step - loss: 1.3778 - acc: 0.4626 - val_loss: 1.6655 - val_acc: 0.3019\n",
            "Epoch 7/20\n",
            "14/14 [==============================] - 18s 1s/step - loss: 1.3718 - acc: 0.4626 - val_loss: 1.6418 - val_acc: 0.3019\n",
            "Epoch 8/20\n",
            "14/14 [==============================] - 17s 1s/step - loss: 1.3775 - acc: 0.4626 - val_loss: 1.6360 - val_acc: 0.3019\n",
            "Epoch 9/20\n",
            "14/14 [==============================] - 17s 1s/step - loss: 1.3696 - acc: 0.4626 - val_loss: 1.6563 - val_acc: 0.3019\n",
            "Epoch 10/20\n",
            "14/14 [==============================] - 18s 1s/step - loss: 1.3751 - acc: 0.4626 - val_loss: 1.6383 - val_acc: 0.3019\n",
            "Epoch 11/20\n",
            "14/14 [==============================] - 17s 1s/step - loss: 1.3763 - acc: 0.4626 - val_loss: 1.6578 - val_acc: 0.3019\n",
            "Epoch 12/20\n",
            "14/14 [==============================] - 17s 1s/step - loss: 1.3718 - acc: 0.4626 - val_loss: 1.6678 - val_acc: 0.3019\n",
            "Epoch 13/20\n",
            "14/14 [==============================] - 17s 1s/step - loss: 1.3710 - acc: 0.4626 - val_loss: 1.6497 - val_acc: 0.3019\n",
            "Epoch 14/20\n",
            "14/14 [==============================] - 17s 1s/step - loss: 1.3700 - acc: 0.4626 - val_loss: 1.6337 - val_acc: 0.3019\n",
            "Epoch 15/20\n",
            "14/14 [==============================] - 17s 1s/step - loss: 1.3724 - acc: 0.4626 - val_loss: 1.6261 - val_acc: 0.3019\n",
            "Epoch 16/20\n",
            "14/14 [==============================] - 17s 1s/step - loss: 1.3728 - acc: 0.4626 - val_loss: 1.6400 - val_acc: 0.3019\n",
            "Epoch 17/20\n",
            "14/14 [==============================] - 18s 1s/step - loss: 1.3702 - acc: 0.4626 - val_loss: 1.6260 - val_acc: 0.3019\n",
            "Epoch 18/20\n",
            "14/14 [==============================] - 17s 1s/step - loss: 1.3699 - acc: 0.4626 - val_loss: 1.6635 - val_acc: 0.3019\n",
            "Epoch 19/20\n",
            "14/14 [==============================] - 17s 1s/step - loss: 1.3687 - acc: 0.4626 - val_loss: 1.6253 - val_acc: 0.3019\n",
            "Epoch 20/20\n",
            "14/14 [==============================] - 17s 1s/step - loss: 1.3707 - acc: 0.4626 - val_loss: 1.6634 - val_acc: 0.3019\n"
          ]
        }
      ]
    },
    {
      "cell_type": "code",
      "source": [
        "LSTM.summary()"
      ],
      "metadata": {
        "id": "9qNOJUMSAMRo",
        "colab": {
          "base_uri": "https://localhost:8080/"
        },
        "outputId": "4cbc6150-3729-42a8-baf8-de6c0f37d9b1"
      },
      "execution_count": null,
      "outputs": [
        {
          "output_type": "stream",
          "name": "stdout",
          "text": [
            "Model: \"sequential_2\"\n",
            "_________________________________________________________________\n",
            " Layer (type)                Output Shape              Param #   \n",
            "=================================================================\n",
            " embedding_2 (Embedding)     (None, 398, 100)          275300    \n",
            "                                                                 \n",
            " spatial_dropout1d (Spatial  (None, 398, 100)          0         \n",
            " Dropout1D)                                                      \n",
            "                                                                 \n",
            " lstm (LSTM)                 (None, 64)                42240     \n",
            "                                                                 \n",
            " dense_2 (Dense)             (None, 5)                 325       \n",
            "                                                                 \n",
            "=================================================================\n",
            "Total params: 317865 (1.21 MB)\n",
            "Trainable params: 42565 (166.27 KB)\n",
            "Non-trainable params: 275300 (1.05 MB)\n",
            "_________________________________________________________________\n"
          ]
        }
      ]
    },
    {
      "cell_type": "code",
      "source": [
        "plot_model(\n",
        "    LSTM,\n",
        "    show_shapes = True,\n",
        "    show_dtype = True,\n",
        "    show_layer_activations = True\n",
        ")"
      ],
      "metadata": {
        "id": "RANkg1RvAPXU",
        "colab": {
          "base_uri": "https://localhost:8080/",
          "height": 686
        },
        "outputId": "c7d5870e-ac55-4496-c2b8-c05a2777cc8e"
      },
      "execution_count": null,
      "outputs": [
        {
          "output_type": "execute_result",
          "data": {
            "image/png": "[encoded data removed]",
            "text/plain": [
              "<IPython.core.display.Image object>"
            ]
          },
          "metadata": {},
          "execution_count": 43
        }
      ]
    },
    {
      "cell_type": "code",
      "source": [
        "display_graphs(LSTM.history)"
      ],
      "metadata": {
        "id": "TCFJKFP7kcza",
        "colab": {
          "base_uri": "https://localhost:8080/",
          "height": 927
        },
        "outputId": "65fad0cb-85e3-4c98-fb97-ea42ffcceaaa"
      },
      "execution_count": null,
      "outputs": [
        {
          "output_type": "display_data",
          "data": {
            "text/plain": [
              "<Figure size 640x480 with 1 Axes>"
            ],
            "image/png": "[encoded data removed]"
          },
          "metadata": {}
        },
        {
          "output_type": "display_data",
          "data": {
            "text/plain": [
              "<Figure size 640x480 with 1 Axes>"
            ],
            "image/png": "[encoded data removed]"
          },
          "metadata": {}
        }
      ]
    },
    {
      "cell_type": "code",
      "source": [
        "# Define file path to save/load LSTM model\n",
        "filepath_LSTM = '/content/drive/MyDrive/Sheffield_Hallam_University/Final Year/Development Project/Sentiment_Analysis_Project/LSTM_rating_predictor.keras'"
      ],
      "metadata": {
        "id": "6B3oWjvkATt7"
      },
      "execution_count": null,
      "outputs": []
    },
    {
      "cell_type": "code",
      "source": [
        "# save LSTM model\n",
        "keras.saving.save_model(LSTM, filepath_LSTM)"
      ],
      "metadata": {
        "id": "ok0vorVhAX3A"
      },
      "execution_count": null,
      "outputs": []
    },
    {
      "cell_type": "markdown",
      "source": [
        "# Load Trained Models"
      ],
      "metadata": {
        "id": "GnK2yCQHYYLB"
      }
    },
    {
      "cell_type": "code",
      "source": [
        "# Define file path to save/load SNN model\n",
        "filepath_SNN = '/content/drive/MyDrive/Sheffield_Hallam_University/Final Year/Development Project/Sentiment_Analysis_Project/SNN_rating_predictor.keras'\n",
        "\n",
        "# Define file path to save/load CNN model\n",
        "filepath_CNN = '/content/drive/MyDrive/Sheffield_Hallam_University/Final Year/Development Project/Sentiment_Analysis_Project/CNN_rating_predictor.keras'\n",
        "\n",
        "# Define file path to save/load LSTM model\n",
        "filepath_LSTM = '/content/drive/MyDrive/Sheffield_Hallam_University/Final Year/Development Project/Sentiment_Analysis_Project/LSTM_rating_predictor.keras'"
      ],
      "metadata": {
        "id": "XGAlybTsYsGi"
      },
      "execution_count": null,
      "outputs": []
    },
    {
      "cell_type": "code",
      "source": [
        "# load SNN model\n",
        "SNN = tf.keras.saving.load_model(\n",
        "    filepath_SNN, custom_objects=None, compile=True\n",
        ")"
      ],
      "metadata": {
        "id": "J0kDBbwvYgM4"
      },
      "execution_count": null,
      "outputs": []
    },
    {
      "cell_type": "code",
      "source": [
        "# load CNN model\n",
        "CNN = tf.keras.saving.load_model(\n",
        "    filepath_CNN, custom_objects=None, compile=True\n",
        ")"
      ],
      "metadata": {
        "id": "hW5vYeudYcu4"
      },
      "execution_count": null,
      "outputs": []
    },
    {
      "cell_type": "code",
      "source": [
        "# load LSTM model\n",
        "LSTM = tf.keras.saving.load_model(\n",
        "    filepath_LSTM, custom_objects=None, compile=True\n",
        ")"
      ],
      "metadata": {
        "colab": {
          "base_uri": "https://localhost:8080/"
        },
        "id": "ha1OLY7SYbnK",
        "outputId": "d23a0192-a240-4654-c826-99ed6b995d3b"
      },
      "execution_count": null,
      "outputs": [
        {
          "output_type": "stream",
          "name": "stderr",
          "text": [
            "WARNING:tensorflow:Layer lstm_1 will not use cuDNN kernels since it doesn't meet the criteria. It will use a generic GPU kernel as fallback when running on GPU.\n"
          ]
        }
      ]
    },
    {
      "cell_type": "markdown",
      "source": [
        "# Evaluation"
      ],
      "metadata": {
        "id": "Cwufbb3Pia2_"
      }
    },
    {
      "cell_type": "code",
      "source": [
        "test_reviews_padded = encode_pad(test_reviews)"
      ],
      "metadata": {
        "id": "7lgL7duZOAri"
      },
      "execution_count": null,
      "outputs": []
    },
    {
      "cell_type": "code",
      "source": [
        "def score_accuracy(model):\n",
        "  # Predictions on the Test Set\n",
        "  score = model.evaluate(test_reviews_padded, y_test, verbose=1)\n",
        "\n",
        "  # Model Performance\n",
        "  print(\"Test Score:\", score[0])\n",
        "  print(\"Test Accuracy:\", score[1])"
      ],
      "metadata": {
        "id": "xJ7ZwVVFZALQ"
      },
      "execution_count": null,
      "outputs": []
    },
    {
      "cell_type": "code",
      "source": [
        "score_accuracy(SNN)"
      ],
      "metadata": {
        "colab": {
          "base_uri": "https://localhost:8080/"
        },
        "id": "tmFQGxsmbdyY",
        "outputId": "74bbc853-b6dc-4386-813d-d25dea563b34"
      },
      "execution_count": null,
      "outputs": [
        {
          "output_type": "stream",
          "name": "stdout",
          "text": [
            "2/2 [==============================] - 0s 8ms/step - loss: 1.1783 - acc: 0.6481\n",
            "Test Score: 1.178281545639038\n",
            "Test Accuracy: 0.6481481194496155\n"
          ]
        }
      ]
    },
    {
      "cell_type": "code",
      "source": [
        "score_accuracy(CNN)"
      ],
      "metadata": {
        "colab": {
          "base_uri": "https://localhost:8080/"
        },
        "id": "9TmtdSxTbpfr",
        "outputId": "83a2b404-1015-4c77-e9d9-77d9dbb81597"
      },
      "execution_count": null,
      "outputs": [
        {
          "output_type": "stream",
          "name": "stdout",
          "text": [
            "2/2 [==============================] - 0s 35ms/step - loss: 0.8411 - acc: 0.7222\n",
            "Test Score: 0.8411054015159607\n",
            "Test Accuracy: 0.7222222089767456\n"
          ]
        }
      ]
    },
    {
      "cell_type": "code",
      "source": [
        "score_accuracy(LSTM)"
      ],
      "metadata": {
        "colab": {
          "base_uri": "https://localhost:8080/"
        },
        "id": "XvFJTVE4brDW",
        "outputId": "f150c4c0-9eb2-4c18-8d1c-3bea90df7461"
      },
      "execution_count": null,
      "outputs": [
        {
          "output_type": "stream",
          "name": "stdout",
          "text": [
            "2/2 [==============================] - 0s 130ms/step - loss: 1.3806 - acc: 0.4630\n",
            "Test Score: 1.380647897720337\n",
            "Test Accuracy: 0.46296295523643494\n"
          ]
        }
      ]
    },
    {
      "cell_type": "markdown",
      "source": [
        "**Confusion Matrices**"
      ],
      "metadata": {
        "id": "XJ24DMhajiIX"
      }
    },
    {
      "cell_type": "code",
      "source": [
        "# Convert multidimensional y array to a one-dimensional array\n",
        "def convert_y_to_1D(y):\n",
        "  return np.argmax(y, axis=1)"
      ],
      "metadata": {
        "id": "6P3XcZW5Vmb5"
      },
      "execution_count": null,
      "outputs": []
    },
    {
      "cell_type": "code",
      "source": [
        "#Create a confusion matrix for a model from the feature space and true labels\n",
        "def create_confusion_matrix(model, X_fold, y_true):\n",
        "  # Calculate predicted values\n",
        "  y_pred = model.predict(X_fold)\n",
        "\n",
        "  # Convert y_true and y_pred to one-dimensional arrays\n",
        "  y_true, y_pred = convert_y_to_1D(y_true), convert_y_to_1D(y_pred)\n",
        "\n",
        "  # Generate matrix\n",
        "  conf_matrix = confusion_matrix(y_true, y_pred)\n",
        "\n",
        "  # Normalise confusion matrix rounded to a percentage up to 2 d.p.\n",
        "  conf_matrix = conf_matrix/ conf_matrix.astype(np.float).sum(axis=1)\n",
        "\n",
        "  return conf_matrix"
      ],
      "metadata": {
        "id": "DnWd9qlRjkFY"
      },
      "execution_count": null,
      "outputs": []
    },
    {
      "cell_type": "code",
      "source": [
        "# Display confusion matrix in a seaborn graph\n",
        "def display_conf_matrix(conf_matrix, ax):\n",
        "\n",
        "  # Display column with predicted labels\n",
        "  columns_ = [f'Predicted: {label}' for label in labels]\n",
        "\n",
        "  # Display X-axis with actual labels\n",
        "  index_ = [f'Actual: {label}' for label in labels]\n",
        "\n",
        "  # Convert confusion matrix object to dataframe for display\n",
        "  conf_matrix_pd = pd.DataFrame(conf_matrix, columns=columns_, index=index_)\n",
        "\n",
        "  return sns.heatmap(conf_matrix_pd, ax=ax, annot=True, cmap='magma')"
      ],
      "metadata": {
        "id": "AxEhpMh8jlut"
      },
      "execution_count": null,
      "outputs": []
    },
    {
      "cell_type": "code",
      "source": [
        "# Create confusion matrix of the training dataset for the SNN model\n",
        "cm_train_SNN = create_confusion_matrix(SNN, train_reviews_padded, y_train)\n",
        "\n",
        "# Create confusion matrix of the training dataset for the CNN model\n",
        "cm_train_CNN = create_confusion_matrix(CNN, train_reviews_padded, y_train)\n",
        "\n",
        "# Create confusion matrix of the training dataset for the LSTM model\n",
        "cm_train_LSTM = create_confusion_matrix(LSTM, train_reviews_padded, y_train)\n",
        "\n",
        "# Create confusion matrix of the validation dataset for the SNN model\n",
        "cm_valid_SNN = create_confusion_matrix(SNN, valid_reviews_padded, y_valid)\n",
        "\n",
        "# Create confusion matrix of the validation dataset for the CNN model\n",
        "cm_valid_CNN = create_confusion_matrix(CNN, valid_reviews_padded, y_valid)\n",
        "\n",
        "# Create confusion matrix of the validation dataset for the LSTM model\n",
        "cm_valid_LSTM = create_confusion_matrix(LSTM, valid_reviews_padded, y_valid)"
      ],
      "metadata": {
        "id": "Vp0hZldX-EfS",
        "colab": {
          "base_uri": "https://localhost:8080/"
        },
        "outputId": "48d3c57c-c18d-4b8a-f513-bc197d59ec63"
      },
      "execution_count": null,
      "outputs": [
        {
          "output_type": "stream",
          "name": "stdout",
          "text": [
            "14/14 [==============================] - 0s 2ms/step\n",
            "14/14 [==============================] - 0s 2ms/step\n"
          ]
        },
        {
          "output_type": "stream",
          "name": "stderr",
          "text": [
            "<ipython-input-53-4a3c6e293d99>:13: DeprecationWarning: `np.float` is a deprecated alias for the builtin `float`. To silence this warning, use `float` by itself. Doing this will not modify any behavior and is safe. If you specifically wanted the numpy scalar type, use `np.float64` here.\n",
            "Deprecated in NumPy 1.20; for more details and guidance: https://numpy.org/devdocs/release/1.20.0-notes.html#deprecations\n",
            "  conf_matrix = conf_matrix/ conf_matrix.astype(np.float).sum(axis=1)\n",
            "<ipython-input-53-4a3c6e293d99>:13: DeprecationWarning: `np.float` is a deprecated alias for the builtin `float`. To silence this warning, use `float` by itself. Doing this will not modify any behavior and is safe. If you specifically wanted the numpy scalar type, use `np.float64` here.\n",
            "Deprecated in NumPy 1.20; for more details and guidance: https://numpy.org/devdocs/release/1.20.0-notes.html#deprecations\n",
            "  conf_matrix = conf_matrix/ conf_matrix.astype(np.float).sum(axis=1)\n"
          ]
        },
        {
          "output_type": "stream",
          "name": "stdout",
          "text": [
            "14/14 [==============================] - 2s 123ms/step\n",
            "2/2 [==============================] - 0s 5ms/step\n",
            "2/2 [==============================] - 0s 10ms/step\n"
          ]
        },
        {
          "output_type": "stream",
          "name": "stderr",
          "text": [
            "<ipython-input-53-4a3c6e293d99>:13: DeprecationWarning: `np.float` is a deprecated alias for the builtin `float`. To silence this warning, use `float` by itself. Doing this will not modify any behavior and is safe. If you specifically wanted the numpy scalar type, use `np.float64` here.\n",
            "Deprecated in NumPy 1.20; for more details and guidance: https://numpy.org/devdocs/release/1.20.0-notes.html#deprecations\n",
            "  conf_matrix = conf_matrix/ conf_matrix.astype(np.float).sum(axis=1)\n",
            "<ipython-input-53-4a3c6e293d99>:13: DeprecationWarning: `np.float` is a deprecated alias for the builtin `float`. To silence this warning, use `float` by itself. Doing this will not modify any behavior and is safe. If you specifically wanted the numpy scalar type, use `np.float64` here.\n",
            "Deprecated in NumPy 1.20; for more details and guidance: https://numpy.org/devdocs/release/1.20.0-notes.html#deprecations\n",
            "  conf_matrix = conf_matrix/ conf_matrix.astype(np.float).sum(axis=1)\n",
            "<ipython-input-53-4a3c6e293d99>:13: DeprecationWarning: `np.float` is a deprecated alias for the builtin `float`. To silence this warning, use `float` by itself. Doing this will not modify any behavior and is safe. If you specifically wanted the numpy scalar type, use `np.float64` here.\n",
            "Deprecated in NumPy 1.20; for more details and guidance: https://numpy.org/devdocs/release/1.20.0-notes.html#deprecations\n",
            "  conf_matrix = conf_matrix/ conf_matrix.astype(np.float).sum(axis=1)\n"
          ]
        },
        {
          "output_type": "stream",
          "name": "stdout",
          "text": [
            "2/2 [==============================] - 0s 177ms/step\n"
          ]
        },
        {
          "output_type": "stream",
          "name": "stderr",
          "text": [
            "<ipython-input-53-4a3c6e293d99>:13: DeprecationWarning: `np.float` is a deprecated alias for the builtin `float`. To silence this warning, use `float` by itself. Doing this will not modify any behavior and is safe. If you specifically wanted the numpy scalar type, use `np.float64` here.\n",
            "Deprecated in NumPy 1.20; for more details and guidance: https://numpy.org/devdocs/release/1.20.0-notes.html#deprecations\n",
            "  conf_matrix = conf_matrix/ conf_matrix.astype(np.float).sum(axis=1)\n"
          ]
        }
      ]
    },
    {
      "cell_type": "markdown",
      "source": [
        "**Confusion Matrices For Training Dataset**"
      ],
      "metadata": {
        "id": "YSR-4edO-ii8"
      }
    },
    {
      "cell_type": "code",
      "source": [
        "fig, axes = plt.subplots(1,3, figsize=(24,6))\n",
        "fig.suptitle('Confusion Matrices For Training Dataset', fontsize=20)\n",
        "axes[0].set_title('SNN')\n",
        "axes[1].set_title('CNN')\n",
        "axes[2].set_title('LSTM')\n",
        "display_conf_matrix(cm_train_SNN, axes[0])\n",
        "display_conf_matrix(cm_train_CNN, axes[1])\n",
        "display_conf_matrix(cm_train_LSTM, axes[2])\n",
        "plt.show()"
      ],
      "metadata": {
        "id": "VegKk2Kp-bJn",
        "colab": {
          "base_uri": "https://localhost:8080/",
          "height": 483
        },
        "outputId": "fa7786b0-8125-42e6-f1da-42bcd07f023c"
      },
      "execution_count": null,
      "outputs": [
        {
          "output_type": "display_data",
          "data": {
            "text/plain": [
              "<Figure size 2400x600 with 6 Axes>"
            ],
            "image/png": "[encoded data removed]"
          },
          "metadata": {}
        }
      ]
    },
    {
      "cell_type": "markdown",
      "source": [
        "**Confusion Matrices For Validation Dataset**"
      ],
      "metadata": {
        "id": "YHVezhqN-qy7"
      }
    },
    {
      "cell_type": "code",
      "source": [
        "fig, axes = plt.subplots(1,3, figsize=(24,6))\n",
        "fig.suptitle('Confusion Matrices For Validation Dataset', fontsize=20)\n",
        "axes[0].set_title('SNN')\n",
        "axes[1].set_title('CNN')\n",
        "axes[2].set_title('LSTM')\n",
        "display_conf_matrix(cm_valid_SNN, axes[0])\n",
        "display_conf_matrix(cm_valid_CNN, axes[1])\n",
        "display_conf_matrix(cm_valid_LSTM, axes[2])\n",
        "plt.show()"
      ],
      "metadata": {
        "id": "txhOY-qk-uW1",
        "colab": {
          "base_uri": "https://localhost:8080/",
          "height": 483
        },
        "outputId": "bfaae279-0951-4943-e222-5d60db8c11cf"
      },
      "execution_count": null,
      "outputs": [
        {
          "output_type": "display_data",
          "data": {
            "text/plain": [
              "<Figure size 2400x600 with 6 Axes>"
            ],
            "image/png": "[encoded data removed]"
          },
          "metadata": {}
        }
      ]
    },
    {
      "cell_type": "markdown",
      "source": [
        "**Accuracy, precision, recall and f1 scores**"
      ],
      "metadata": {
        "id": "bLy84zIaWuVS"
      }
    },
    {
      "cell_type": "code",
      "source": [
        "#Calculates accuracy, precision, recall, f1 and specificity from predicted and true results\n",
        "def calc_scores(model, X_fold, y_true):\n",
        "  # Calculate predicted values\n",
        "  y_pred = model.predict(X_fold)\n",
        "\n",
        "  # Convert y_true and y_pred to one-dimensional arrays\n",
        "  y_true, y_pred = convert_y_to_1D(y_true), convert_y_to_1D(y_pred)\n",
        "\n",
        "  # Calculate accuracy score\n",
        "  accuracy = accuracy_score(y_true, y_pred)\n",
        "\n",
        "  # Calculate precision score\n",
        "  precision = precision_score(y_true, y_pred, average='weighted')\n",
        "\n",
        "  # Calculate recall score\n",
        "  recall = recall_score(y_true, y_pred, average='weighted')\n",
        "\n",
        "  # Calculate f1 score\n",
        "  f1 = f1_score(y_true, y_pred, average='weighted')\n",
        "\n",
        "  return [accuracy, precision, recall, f1]"
      ],
      "metadata": {
        "id": "1FO4aOmAWtgf"
      },
      "execution_count": null,
      "outputs": []
    },
    {
      "cell_type": "code",
      "source": [
        "#Define the accuracy, precision, recall and f1 scores of each model for the training dataset\n",
        "scores_train_SNN = calc_scores(SNN, train_reviews_padded, y_train)\n",
        "scores_train_CNN = calc_scores(CNN, train_reviews_padded, y_train)\n",
        "scores_train_LSTM = calc_scores(LSTM, train_reviews_padded, y_train)\n",
        "\n",
        "#Define the accuracy, precision, recall and f1 scores of each model for the validation dataset\n",
        "scores_valid_SNN = calc_scores(SNN, valid_reviews_padded, y_valid)\n",
        "scores_valid_CNN = calc_scores(CNN, valid_reviews_padded, y_valid)\n",
        "scores_valid_LSTM = calc_scores(LSTM, valid_reviews_padded, y_valid)"
      ],
      "metadata": {
        "colab": {
          "base_uri": "https://localhost:8080/"
        },
        "id": "6LHzlT2BWyCb",
        "outputId": "2363a726-502a-4e93-c666-cd3a056a0fcb"
      },
      "execution_count": null,
      "outputs": [
        {
          "output_type": "stream",
          "name": "stdout",
          "text": [
            "14/14 [==============================] - 0s 8ms/step\n",
            "14/14 [==============================] - 0s 5ms/step\n",
            "14/14 [==============================] - 3s 234ms/step\n",
            "2/2 [==============================] - 0s 11ms/step\n"
          ]
        },
        {
          "output_type": "stream",
          "name": "stderr",
          "text": [
            "/usr/local/lib/python3.10/dist-packages/sklearn/metrics/_classification.py:1344: UndefinedMetricWarning: Precision is ill-defined and being set to 0.0 in labels with no predicted samples. Use `zero_division` parameter to control this behavior.\n",
            "  _warn_prf(average, modifier, msg_start, len(result))\n"
          ]
        },
        {
          "output_type": "stream",
          "name": "stdout",
          "text": [
            "2/2 [==============================] - 0s 9ms/step\n",
            "2/2 [==============================] - 0s 205ms/step\n"
          ]
        },
        {
          "output_type": "stream",
          "name": "stderr",
          "text": [
            "/usr/local/lib/python3.10/dist-packages/sklearn/metrics/_classification.py:1344: UndefinedMetricWarning: Precision is ill-defined and being set to 0.0 in labels with no predicted samples. Use `zero_division` parameter to control this behavior.\n",
            "  _warn_prf(average, modifier, msg_start, len(result))\n"
          ]
        }
      ]
    },
    {
      "cell_type": "code",
      "source": [
        "# Define the model names and their scores for both training and validation set\n",
        "models = {'SNN' : {'Accuracy (Train)' : scores_train_SNN[0],\n",
        "                  'Accuracy (Valid)' : scores_valid_SNN[0],\n",
        "                   'Precision (Train)' : scores_train_SNN[1],\n",
        "                   'Precision (Valid)' : scores_valid_SNN[1],\n",
        "                   'Recall (Train)' : scores_train_SNN[2],\n",
        "                  'Recall (Valid)' : scores_valid_SNN[2],\n",
        "                   'F1 (Train)' : scores_train_SNN[3],\n",
        "                   'F1 (Valid)' : scores_valid_SNN[3]\n",
        "                   },\n",
        "          'CNN' : {'Accuracy (Train)' : scores_train_CNN[0],\n",
        "                  'Accuracy (Valid)' : scores_valid_CNN[0],\n",
        "                   'Precision (Train)' : scores_train_CNN[1],\n",
        "                   'Precision (Valid)' : scores_valid_CNN[1],\n",
        "                   'Recall (Train)' : scores_train_CNN[2],\n",
        "                  'Recall (Valid)' : scores_valid_CNN[2],\n",
        "                   'F1 (Train)' : scores_train_CNN[3],\n",
        "                   'F1 (Valid)' : scores_valid_CNN[3]\n",
        "                   },\n",
        "          'LSTM' : {'Accuracy (Train)' : scores_train_LSTM[0],\n",
        "                  'Accuracy (Valid)' : scores_valid_LSTM[0],\n",
        "                   'Precision (Train)' :  scores_train_LSTM[1],\n",
        "                   'Precision (Valid)' : scores_valid_LSTM[1],\n",
        "                   'Recall (Train)' :  scores_train_LSTM[2],\n",
        "                  'Recall (Valid)' : scores_valid_LSTM[2],\n",
        "                   'F1 (Train)' :  scores_train_LSTM[3],\n",
        "                   'F1 (Valid)' : scores_valid_LSTM[3]\n",
        "                   }\n",
        "          }\n",
        "#Create a dataframe table of the dictionary of the models\n",
        "scores = pd.DataFrame(models).T\n",
        "scores"
      ],
      "metadata": {
        "id": "cEdIEs1zW_gz",
        "colab": {
          "base_uri": "https://localhost:8080/",
          "height": 143
        },
        "outputId": "f026000d-2be7-48b5-c6dc-b843f3af53b3"
      },
      "execution_count": null,
      "outputs": [
        {
          "output_type": "execute_result",
          "data": {
            "text/plain": [
              "      Accuracy (Train)  Accuracy (Valid)  Precision (Train)  \\\n",
              "SNN           0.892523          0.547170           0.907943   \n",
              "CNN           0.971963          0.660377           0.972999   \n",
              "LSTM          0.462617          0.301887           0.214014   \n",
              "\n",
              "      Precision (Valid)  Recall (Train)  Recall (Valid)  F1 (Train)  \\\n",
              "SNN            0.731974        0.892523        0.547170    0.889355   \n",
              "CNN            0.728223        0.971963        0.660377    0.971847   \n",
              "LSTM           0.091136        0.462617        0.301887    0.292646   \n",
              "\n",
              "      F1 (Valid)  \n",
              "SNN     0.478787  \n",
              "CNN     0.602301  \n",
              "LSTM    0.140005  "
            ],
            "text/html": [
              "\n",
              "  <div id=\"df-457004c4-c466-4841-8452-2870dd1de4d3\" class=\"colab-df-container\">\n",
              "    <div>\n",
              "<style scoped>\n",
              "    .dataframe tbody tr th:only-of-type {\n",
              "        vertical-align: middle;\n",
              "    }\n",
              "\n",
              "    .dataframe tbody tr th {\n",
              "        vertical-align: top;\n",
              "    }\n",
              "\n",
              "    .dataframe thead th {\n",
              "        text-align: right;\n",
              "    }\n",
              "</style>\n",
              "<table border=\"1\" class=\"dataframe\">\n",
              "  <thead>\n",
              "    <tr style=\"text-align: right;\">\n",
              "      <th></th>\n",
              "      <th>Accuracy (Train)</th>\n",
              "      <th>Accuracy (Valid)</th>\n",
              "      <th>Precision (Train)</th>\n",
              "      <th>Precision (Valid)</th>\n",
              "      <th>Recall (Train)</th>\n",
              "      <th>Recall (Valid)</th>\n",
              "      <th>F1 (Train)</th>\n",
              "      <th>F1 (Valid)</th>\n",
              "    </tr>\n",
              "  </thead>\n",
              "  <tbody>\n",
              "    <tr>\n",
              "      <th>SNN</th>\n",
              "      <td>0.892523</td>\n",
              "      <td>0.547170</td>\n",
              "      <td>0.907943</td>\n",
              "      <td>0.731974</td>\n",
              "      <td>0.892523</td>\n",
              "      <td>0.547170</td>\n",
              "      <td>0.889355</td>\n",
              "      <td>0.478787</td>\n",
              "    </tr>\n",
              "    <tr>\n",
              "      <th>CNN</th>\n",
              "      <td>0.971963</td>\n",
              "      <td>0.660377</td>\n",
              "      <td>0.972999</td>\n",
              "      <td>0.728223</td>\n",
              "      <td>0.971963</td>\n",
              "      <td>0.660377</td>\n",
              "      <td>0.971847</td>\n",
              "      <td>0.602301</td>\n",
              "    </tr>\n",
              "    <tr>\n",
              "      <th>LSTM</th>\n",
              "      <td>0.462617</td>\n",
              "      <td>0.301887</td>\n",
              "      <td>0.214014</td>\n",
              "      <td>0.091136</td>\n",
              "      <td>0.462617</td>\n",
              "      <td>0.301887</td>\n",
              "      <td>0.292646</td>\n",
              "      <td>0.140005</td>\n",
              "    </tr>\n",
              "  </tbody>\n",
              "</table>\n",
              "</div>\n",
              "    <div class=\"colab-df-buttons\">\n",
              "\n",
              "  <div class=\"colab-df-container\">\n",
              "    <button class=\"colab-df-convert\" onclick=\"convertToInteractive('df-457004c4-c466-4841-8452-2870dd1de4d3')\"\n",
              "            title=\"Convert this dataframe to an interactive table.\"\n",
              "            style=\"display:none;\">\n",
              "\n",
              "  <svg xmlns=\"http://www.w3.org/2000/svg\" height=\"24px\" viewBox=\"0 -960 960 960\">\n",
              "    <path d=\"M120-120v-720h720v720H120Zm60-500h600v-160H180v160Zm220 220h160v-160H400v160Zm0 220h160v-160H400v160ZM180-400h160v-160H180v160Zm440 0h160v-160H620v160ZM180-180h160v-160H180v160Zm440 0h160v-160H620v160Z\"/>\n",
              "  </svg>\n",
              "    </button>\n",
              "\n",
              "  <style>\n",
              "    .colab-df-container {\n",
              "      display:flex;\n",
              "      gap: 12px;\n",
              "    }\n",
              "\n",
              "    .colab-df-convert {\n",
              "      background-color: #E8F0FE;\n",
              "      border: none;\n",
              "      border-radius: 50%;\n",
              "      cursor: pointer;\n",
              "      display: none;\n",
              "      fill: #1967D2;\n",
              "      height: 32px;\n",
              "      padding: 0 0 0 0;\n",
              "      width: 32px;\n",
              "    }\n",
              "\n",
              "    .colab-df-convert:hover {\n",
              "      background-color: #E2EBFA;\n",
              "      box-shadow: 0px 1px 2px rgba(60, 64, 67, 0.3), 0px 1px 3px 1px rgba(60, 64, 67, 0.15);\n",
              "      fill: #174EA6;\n",
              "    }\n",
              "\n",
              "    .colab-df-buttons div {\n",
              "      margin-bottom: 4px;\n",
              "    }\n",
              "\n",
              "    [theme=dark] .colab-df-convert {\n",
              "      background-color: #3B4455;\n",
              "      fill: #D2E3FC;\n",
              "    }\n",
              "\n",
              "    [theme=dark] .colab-df-convert:hover {\n",
              "      background-color: #434B5C;\n",
              "      box-shadow: 0px 1px 3px 1px rgba(0, 0, 0, 0.15);\n",
              "      filter: drop-shadow(0px 1px 2px rgba(0, 0, 0, 0.3));\n",
              "      fill: #FFFFFF;\n",
              "    }\n",
              "  </style>\n",
              "\n",
              "    <script>\n",
              "      const buttonEl =\n",
              "        document.querySelector('#df-457004c4-c466-4841-8452-2870dd1de4d3 button.colab-df-convert');\n",
              "      buttonEl.style.display =\n",
              "        google.colab.kernel.accessAllowed ? 'block' : 'none';\n",
              "\n",
              "      async function convertToInteractive(key) {\n",
              "        const element = document.querySelector('#df-457004c4-c466-4841-8452-2870dd1de4d3');\n",
              "        const dataTable =\n",
              "          await google.colab.kernel.invokeFunction('convertToInteractive',\n",
              "                                                    [key], {});\n",
              "        if (!dataTable) return;\n",
              "\n",
              "        const docLinkHtml = 'Like what you see? Visit the ' +\n",
              "          '<a target=\"_blank\" href=https://colab.research.google.com/notebooks/data_table.ipynb>data table notebook</a>'\n",
              "          + ' to learn more about interactive tables.';\n",
              "        element.innerHTML = '';\n",
              "        dataTable['output_type'] = 'display_data';\n",
              "        await google.colab.output.renderOutput(dataTable, element);\n",
              "        const docLink = document.createElement('div');\n",
              "        docLink.innerHTML = docLinkHtml;\n",
              "        element.appendChild(docLink);\n",
              "      }\n",
              "    </script>\n",
              "  </div>\n",
              "\n",
              "\n",
              "<div id=\"df-16265581-ed87-4b41-b58a-cdfdd98aa86e\">\n",
              "  <button class=\"colab-df-quickchart\" onclick=\"quickchart('df-16265581-ed87-4b41-b58a-cdfdd98aa86e')\"\n",
              "            title=\"Suggest charts\"\n",
              "            style=\"display:none;\">\n",
              "\n",
              "<svg xmlns=\"http://www.w3.org/2000/svg\" height=\"24px\"viewBox=\"0 0 24 24\"\n",
              "     width=\"24px\">\n",
              "    <g>\n",
              "        <path d=\"M19 3H5c-1.1 0-2 .9-2 2v14c0 1.1.9 2 2 2h14c1.1 0 2-.9 2-2V5c0-1.1-.9-2-2-2zM9 17H7v-7h2v7zm4 0h-2V7h2v10zm4 0h-2v-4h2v4z\"/>\n",
              "    </g>\n",
              "</svg>\n",
              "  </button>\n",
              "\n",
              "<style>\n",
              "  .colab-df-quickchart {\n",
              "      --bg-color: #E8F0FE;\n",
              "      --fill-color: #1967D2;\n",
              "      --hover-bg-color: #E2EBFA;\n",
              "      --hover-fill-color: #174EA6;\n",
              "      --disabled-fill-color: #AAA;\n",
              "      --disabled-bg-color: #DDD;\n",
              "  }\n",
              "\n",
              "  [theme=dark] .colab-df-quickchart {\n",
              "      --bg-color: #3B4455;\n",
              "      --fill-color: #D2E3FC;\n",
              "      --hover-bg-color: #434B5C;\n",
              "      --hover-fill-color: #FFFFFF;\n",
              "      --disabled-bg-color: #3B4455;\n",
              "      --disabled-fill-color: #666;\n",
              "  }\n",
              "\n",
              "  .colab-df-quickchart {\n",
              "    background-color: var(--bg-color);\n",
              "    border: none;\n",
              "    border-radius: 50%;\n",
              "    cursor: pointer;\n",
              "    display: none;\n",
              "    fill: var(--fill-color);\n",
              "    height: 32px;\n",
              "    padding: 0;\n",
              "    width: 32px;\n",
              "  }\n",
              "\n",
              "  .colab-df-quickchart:hover {\n",
              "    background-color: var(--hover-bg-color);\n",
              "    box-shadow: 0 1px 2px rgba(60, 64, 67, 0.3), 0 1px 3px 1px rgba(60, 64, 67, 0.15);\n",
              "    fill: var(--button-hover-fill-color);\n",
              "  }\n",
              "\n",
              "  .colab-df-quickchart-complete:disabled,\n",
              "  .colab-df-quickchart-complete:disabled:hover {\n",
              "    background-color: var(--disabled-bg-color);\n",
              "    fill: var(--disabled-fill-color);\n",
              "    box-shadow: none;\n",
              "  }\n",
              "\n",
              "  .colab-df-spinner {\n",
              "    border: 2px solid var(--fill-color);\n",
              "    border-color: transparent;\n",
              "    border-bottom-color: var(--fill-color);\n",
              "    animation:\n",
              "      spin 1s steps(1) infinite;\n",
              "  }\n",
              "\n",
              "  @keyframes spin {\n",
              "    0% {\n",
              "      border-color: transparent;\n",
              "      border-bottom-color: var(--fill-color);\n",
              "      border-left-color: var(--fill-color);\n",
              "    }\n",
              "    20% {\n",
              "      border-color: transparent;\n",
              "      border-left-color: var(--fill-color);\n",
              "      border-top-color: var(--fill-color);\n",
              "    }\n",
              "    30% {\n",
              "      border-color: transparent;\n",
              "      border-left-color: var(--fill-color);\n",
              "      border-top-color: var(--fill-color);\n",
              "      border-right-color: var(--fill-color);\n",
              "    }\n",
              "    40% {\n",
              "      border-color: transparent;\n",
              "      border-right-color: var(--fill-color);\n",
              "      border-top-color: var(--fill-color);\n",
              "    }\n",
              "    60% {\n",
              "      border-color: transparent;\n",
              "      border-right-color: var(--fill-color);\n",
              "    }\n",
              "    80% {\n",
              "      border-color: transparent;\n",
              "      border-right-color: var(--fill-color);\n",
              "      border-bottom-color: var(--fill-color);\n",
              "    }\n",
              "    90% {\n",
              "      border-color: transparent;\n",
              "      border-bottom-color: var(--fill-color);\n",
              "    }\n",
              "  }\n",
              "</style>\n",
              "\n",
              "  <script>\n",
              "    async function quickchart(key) {\n",
              "      const quickchartButtonEl =\n",
              "        document.querySelector('#' + key + ' button');\n",
              "      quickchartButtonEl.disabled = true;  // To prevent multiple clicks.\n",
              "      quickchartButtonEl.classList.add('colab-df-spinner');\n",
              "      try {\n",
              "        const charts = await google.colab.kernel.invokeFunction(\n",
              "            'suggestCharts', [key], {});\n",
              "      } catch (error) {\n",
              "        console.error('Error during call to suggestCharts:', error);\n",
              "      }\n",
              "      quickchartButtonEl.classList.remove('colab-df-spinner');\n",
              "      quickchartButtonEl.classList.add('colab-df-quickchart-complete');\n",
              "    }\n",
              "    (() => {\n",
              "      let quickchartButtonEl =\n",
              "        document.querySelector('#df-16265581-ed87-4b41-b58a-cdfdd98aa86e button');\n",
              "      quickchartButtonEl.style.display =\n",
              "        google.colab.kernel.accessAllowed ? 'block' : 'none';\n",
              "    })();\n",
              "  </script>\n",
              "</div>\n",
              "    </div>\n",
              "  </div>\n"
            ]
          },
          "metadata": {},
          "execution_count": 61
        }
      ]
    },
    {
      "cell_type": "markdown",
      "source": [
        "# Examine Common Words"
      ],
      "metadata": {
        "id": "OTp1xSVQD0lq"
      }
    },
    {
      "cell_type": "markdown",
      "source": [
        "# Live Prediction"
      ],
      "metadata": {
        "id": "qOTfnRAFDlNo"
      }
    },
    {
      "cell_type": "markdown",
      "source": [
        "**Using `X_test`**"
      ],
      "metadata": {
        "id": "xxLCVEYlWX-X"
      }
    },
    {
      "cell_type": "code",
      "source": [
        "test_reviews_array = np.asarray(test_reviews)"
      ],
      "metadata": {
        "id": "bbxsRLdkbydz"
      },
      "execution_count": null,
      "outputs": []
    },
    {
      "cell_type": "code",
      "source": [
        "print(type(test_reviews))"
      ],
      "metadata": {
        "colab": {
          "base_uri": "https://localhost:8080/"
        },
        "id": "iDxoqc7Lb7Dq",
        "outputId": "a6d4a4ce-1555-4fb1-a0e0-822e814abd08"
      },
      "execution_count": null,
      "outputs": [
        {
          "output_type": "stream",
          "name": "stdout",
          "text": [
            "<class 'numpy.ndarray'>\n"
          ]
        }
      ]
    },
    {
      "cell_type": "code",
      "source": [
        "y_test = convert_y_to_1D(y_test)"
      ],
      "metadata": {
        "id": "9juf-Hryb-Pd"
      },
      "execution_count": null,
      "outputs": []
    },
    {
      "cell_type": "code",
      "source": [
        "test_data = {'Review': test_reviews, 'Rating': y_test}\n",
        "\n",
        "test_df = pd.DataFrame(data=test_data)"
      ],
      "metadata": {
        "id": "f5Msy65-ZfmC"
      },
      "execution_count": null,
      "outputs": []
    },
    {
      "cell_type": "code",
      "source": [
        "def find_pred(model, X_fold):\n",
        "  pred = model.predict(X_fold)\n",
        "\n",
        "  pred = np.argmax(pred, axis=1)\n",
        "\n",
        "  return pred"
      ],
      "metadata": {
        "id": "i4BNrFl3c_z1"
      },
      "execution_count": null,
      "outputs": []
    },
    {
      "cell_type": "code",
      "source": [
        "print(len(test_reviews_padded))"
      ],
      "metadata": {
        "colab": {
          "base_uri": "https://localhost:8080/"
        },
        "id": "lQK0QpQ3Yese",
        "outputId": "2c58c758-b263-4848-f459-db6dde0ccb41"
      },
      "execution_count": null,
      "outputs": [
        {
          "output_type": "stream",
          "name": "stdout",
          "text": [
            "54\n"
          ]
        }
      ]
    },
    {
      "cell_type": "code",
      "source": [
        "# Passing tokenised instance to the SNN model for predictions\n",
        "SNN_pred = find_pred(SNN, test_reviews_padded)\n",
        "\n",
        "# Passing tokenised instance to the CNN model for predictions\n",
        "CNN_pred = find_pred(CNN, test_reviews_padded)\n",
        "\n",
        "# Passing tokenised instance to the LSTM model for predictions\n",
        "LSTM_pred = find_pred(LSTM, test_reviews_padded)\n"
      ],
      "metadata": {
        "id": "6b3W9kJtQdlL",
        "colab": {
          "base_uri": "https://localhost:8080/"
        },
        "outputId": "3a404ffc-2b72-48cf-c660-387d2f2698d4"
      },
      "execution_count": null,
      "outputs": [
        {
          "output_type": "stream",
          "name": "stdout",
          "text": [
            "2/2 [==============================] - 0s 3ms/step\n",
            "2/2 [==============================] - 0s 4ms/step\n",
            "2/2 [==============================] - 0s 105ms/step\n"
          ]
        }
      ]
    },
    {
      "cell_type": "code",
      "source": [
        "print(SNN_pred)"
      ],
      "metadata": {
        "colab": {
          "base_uri": "https://localhost:8080/"
        },
        "id": "YXnqMNKHcRyO",
        "outputId": "4b5ba7cf-a04b-4d0b-86a8-073691b7a81b"
      },
      "execution_count": null,
      "outputs": [
        {
          "output_type": "stream",
          "name": "stdout",
          "text": [
            "[0 0 4 0 0 0 4 0 4 0 4 4 4 4 4 4 4 0 4 4 4 4 4 4 3 4 4 0 0 4 0 0 4 1 1 0 3\n",
            " 0 4 0 4 0 4 4 0 0 4 0 0 4 4 4 4 4]\n"
          ]
        }
      ]
    },
    {
      "cell_type": "code",
      "source": [
        "test_df['SNN Prediction'] = SNN_pred\n",
        "\n",
        "test_df['CNN Prediction'] = CNN_pred\n",
        "\n",
        "test_df['LSTM Prediction'] = LSTM_pred"
      ],
      "metadata": {
        "id": "rLKz-hEQWh_H"
      },
      "execution_count": null,
      "outputs": []
    },
    {
      "cell_type": "code",
      "source": [
        "test_df"
      ],
      "metadata": {
        "colab": {
          "base_uri": "https://localhost:8080/",
          "height": 1000
        },
        "id": "E8YrZ_6Adjt0",
        "outputId": "14d99bc4-07f0-4694-c401-337be4c4749c"
      },
      "execution_count": null,
      "outputs": [
        {
          "output_type": "execute_result",
          "data": {
            "text/plain": [
              "                                               Review  Rating  SNN Prediction  \\\n",
              "0   bought phone give gift friend, called today in...       0               0   \n",
              "1   worked well little while, however phone unable...       0               0   \n",
              "2                                           excellent       4               4   \n",
              "3   happy phone. able get 1 gh phone. t-mobile 5 y...       0               0   \n",
              "4                                                junk       0               0   \n",
              "5                                  phone arrived dead       0               0   \n",
              "6   phone, like nokia's feature phones, great valu...       4               4   \n",
              "7   bought phone elderly parent. at&t, put sim car...       0               0   \n",
              "8   incredible! phone splaniish language, dont und...       0               4   \n",
              "9                                 phone slow. defect.       1               0   \n",
              "10  bought phone christmas present wanted somethin...       4               4   \n",
              "11  gracias llego el procto que compre llevo en el...       4               4   \n",
              "12                      easy use. mother 78 use well.       3               4   \n",
              "13  battery life great. responsive touch. issue so...       2               4   \n",
              "14  good wireless type phone, price really cheap q...       4               4   \n",
              "15                             needed older relative.       4               4   \n",
              "16  spectacular. phone hace good perfomance. like ...       4               4   \n",
              "17  phone excellent phone great price. impressed f...       4               0   \n",
              "18  first off, let say i've nokia user since first...       3               4   \n",
              "19                                          ver good!       4               4   \n",
              "20  5.5\" phone unlocked dual sim quad core-juning ...       4               4   \n",
              "21           gift grandma south america loved thanks!       4               4   \n",
              "22  say ok phone. like keyboard. 5 6 language opti...       2               4   \n",
              "23  simple. sleek. minimalist. accepts sim. perfec...       4               4   \n",
              "24  cellphone easy using, complete apps important ...       4               3   \n",
              "25  got juning phone 3 days ago, started using alr...       4               4   \n",
              "26  phone pretty looking phone. offers slim profil...       4               4   \n",
              "27                     battery died less 24/hours....       0               0   \n",
              "28  bought phone elderly parent. at&t, put sim car...       0               0   \n",
              "29  phone difficult unlock. unlock phone, need pre...       1               4   \n",
              "30                      returned would read sim card.       2               0   \n",
              "31                             phone overall horrible       0               0   \n",
              "32  work well t-mobile. t-mobile closes towers non...       1               4   \n",
              "33  issues main one is: poor signal reception. loo...       1               1   \n",
              "34  slow, worked fine. however 2 weeks charge. dia...       1               1   \n",
              "35                                 worked 2 days died       0               0   \n",
              "36  phone pretty neat. price, impressive especiall...       3               3   \n",
              "37  everything great. hard time getting old sim ca...       4               0   \n",
              "38  sooo glad finally new phone! always problem ol...       4               4   \n",
              "39  charger work. parents started using cable dire...       2               0   \n",
              "40  i've read reviews pretty straight forward phon...       0               4   \n",
              "41  purchased 2 phone, delivered october 6 . use r...       0               0   \n",
              "42  bought gift mum loves it. strong durable phone...       4               4   \n",
              "43  wow!!! best phone ever. got case screen protec...       4               4   \n",
              "44  charging port loose. got soldered in. needed n...       1               0   \n",
              "45  great product came two days ordering it. one l...       4               0   \n",
              "46                                      work iwirless       3               4   \n",
              "47  reviewing grandmothers bills realized paying $...       4               0   \n",
              "48  shortly return window closed, stopped taking c...       0               0   \n",
              "49                                       great phone.       4               4   \n",
              "50  great phone elderly familiar w/ cell phones. n...       4               4   \n",
              "51  phone works well supposed be.it everything nee...       4               4   \n",
              "52       practical user-friendly phone. satisfied it.       4               4   \n",
              "53        sensitive track phone, jethro easier read .       2               4   \n",
              "\n",
              "    CNN Prediction  LSTM Prediction  \n",
              "0                0                4  \n",
              "1                0                4  \n",
              "2                4                4  \n",
              "3                0                4  \n",
              "4                0                4  \n",
              "5                0                4  \n",
              "6                4                4  \n",
              "7                0                4  \n",
              "8                4                4  \n",
              "9                1                4  \n",
              "10               4                4  \n",
              "11               4                4  \n",
              "12               4                4  \n",
              "13               4                4  \n",
              "14               4                4  \n",
              "15               4                4  \n",
              "16               4                4  \n",
              "17               4                4  \n",
              "18               4                4  \n",
              "19               4                4  \n",
              "20               4                4  \n",
              "21               4                4  \n",
              "22               4                4  \n",
              "23               4                4  \n",
              "24               4                4  \n",
              "25               4                4  \n",
              "26               4                4  \n",
              "27               0                4  \n",
              "28               0                4  \n",
              "29               4                4  \n",
              "30               0                4  \n",
              "31               0                4  \n",
              "32               4                4  \n",
              "33               1                4  \n",
              "34               1                4  \n",
              "35               0                4  \n",
              "36               3                4  \n",
              "37               0                4  \n",
              "38               4                4  \n",
              "39               0                4  \n",
              "40               4                4  \n",
              "41               0                4  \n",
              "42               4                4  \n",
              "43               4                4  \n",
              "44               0                4  \n",
              "45               4                4  \n",
              "46               4                4  \n",
              "47               0                4  \n",
              "48               0                4  \n",
              "49               4                4  \n",
              "50               4                4  \n",
              "51               4                4  \n",
              "52               4                4  \n",
              "53               0                4  "
            ],
            "text/html": [
              "\n",
              "  <div id=\"df-828af21a-5c69-4f37-bdcb-7b84921d9622\" class=\"colab-df-container\">\n",
              "    <div>\n",
              "<style scoped>\n",
              "    .dataframe tbody tr th:only-of-type {\n",
              "        vertical-align: middle;\n",
              "    }\n",
              "\n",
              "    .dataframe tbody tr th {\n",
              "        vertical-align: top;\n",
              "    }\n",
              "\n",
              "    .dataframe thead th {\n",
              "        text-align: right;\n",
              "    }\n",
              "</style>\n",
              "<table border=\"1\" class=\"dataframe\">\n",
              "  <thead>\n",
              "    <tr style=\"text-align: right;\">\n",
              "      <th></th>\n",
              "      <th>Review</th>\n",
              "      <th>Rating</th>\n",
              "      <th>SNN Prediction</th>\n",
              "      <th>CNN Prediction</th>\n",
              "      <th>LSTM Prediction</th>\n",
              "    </tr>\n",
              "  </thead>\n",
              "  <tbody>\n",
              "    <tr>\n",
              "      <th>0</th>\n",
              "      <td>bought phone give gift friend, called today in...</td>\n",
              "      <td>0</td>\n",
              "      <td>0</td>\n",
              "      <td>0</td>\n",
              "      <td>4</td>\n",
              "    </tr>\n",
              "    <tr>\n",
              "      <th>1</th>\n",
              "      <td>worked well little while, however phone unable...</td>\n",
              "      <td>0</td>\n",
              "      <td>0</td>\n",
              "      <td>0</td>\n",
              "      <td>4</td>\n",
              "    </tr>\n",
              "    <tr>\n",
              "      <th>2</th>\n",
              "      <td>excellent</td>\n",
              "      <td>4</td>\n",
              "      <td>4</td>\n",
              "      <td>4</td>\n",
              "      <td>4</td>\n",
              "    </tr>\n",
              "    <tr>\n",
              "      <th>3</th>\n",
              "      <td>happy phone. able get 1 gh phone. t-mobile 5 y...</td>\n",
              "      <td>0</td>\n",
              "      <td>0</td>\n",
              "      <td>0</td>\n",
              "      <td>4</td>\n",
              "    </tr>\n",
              "    <tr>\n",
              "      <th>4</th>\n",
              "      <td>junk</td>\n",
              "      <td>0</td>\n",
              "      <td>0</td>\n",
              "      <td>0</td>\n",
              "      <td>4</td>\n",
              "    </tr>\n",
              "    <tr>\n",
              "      <th>5</th>\n",
              "      <td>phone arrived dead</td>\n",
              "      <td>0</td>\n",
              "      <td>0</td>\n",
              "      <td>0</td>\n",
              "      <td>4</td>\n",
              "    </tr>\n",
              "    <tr>\n",
              "      <th>6</th>\n",
              "      <td>phone, like nokia's feature phones, great valu...</td>\n",
              "      <td>4</td>\n",
              "      <td>4</td>\n",
              "      <td>4</td>\n",
              "      <td>4</td>\n",
              "    </tr>\n",
              "    <tr>\n",
              "      <th>7</th>\n",
              "      <td>bought phone elderly parent. at&amp;t, put sim car...</td>\n",
              "      <td>0</td>\n",
              "      <td>0</td>\n",
              "      <td>0</td>\n",
              "      <td>4</td>\n",
              "    </tr>\n",
              "    <tr>\n",
              "      <th>8</th>\n",
              "      <td>incredible! phone splaniish language, dont und...</td>\n",
              "      <td>0</td>\n",
              "      <td>4</td>\n",
              "      <td>4</td>\n",
              "      <td>4</td>\n",
              "    </tr>\n",
              "    <tr>\n",
              "      <th>9</th>\n",
              "      <td>phone slow. defect.</td>\n",
              "      <td>1</td>\n",
              "      <td>0</td>\n",
              "      <td>1</td>\n",
              "      <td>4</td>\n",
              "    </tr>\n",
              "    <tr>\n",
              "      <th>10</th>\n",
              "      <td>bought phone christmas present wanted somethin...</td>\n",
              "      <td>4</td>\n",
              "      <td>4</td>\n",
              "      <td>4</td>\n",
              "      <td>4</td>\n",
              "    </tr>\n",
              "    <tr>\n",
              "      <th>11</th>\n",
              "      <td>gracias llego el procto que compre llevo en el...</td>\n",
              "      <td>4</td>\n",
              "      <td>4</td>\n",
              "      <td>4</td>\n",
              "      <td>4</td>\n",
              "    </tr>\n",
              "    <tr>\n",
              "      <th>12</th>\n",
              "      <td>easy use. mother 78 use well.</td>\n",
              "      <td>3</td>\n",
              "      <td>4</td>\n",
              "      <td>4</td>\n",
              "      <td>4</td>\n",
              "    </tr>\n",
              "    <tr>\n",
              "      <th>13</th>\n",
              "      <td>battery life great. responsive touch. issue so...</td>\n",
              "      <td>2</td>\n",
              "      <td>4</td>\n",
              "      <td>4</td>\n",
              "      <td>4</td>\n",
              "    </tr>\n",
              "    <tr>\n",
              "      <th>14</th>\n",
              "      <td>good wireless type phone, price really cheap q...</td>\n",
              "      <td>4</td>\n",
              "      <td>4</td>\n",
              "      <td>4</td>\n",
              "      <td>4</td>\n",
              "    </tr>\n",
              "    <tr>\n",
              "      <th>15</th>\n",
              "      <td>needed older relative.</td>\n",
              "      <td>4</td>\n",
              "      <td>4</td>\n",
              "      <td>4</td>\n",
              "      <td>4</td>\n",
              "    </tr>\n",
              "    <tr>\n",
              "      <th>16</th>\n",
              "      <td>spectacular. phone hace good perfomance. like ...</td>\n",
              "      <td>4</td>\n",
              "      <td>4</td>\n",
              "      <td>4</td>\n",
              "      <td>4</td>\n",
              "    </tr>\n",
              "    <tr>\n",
              "      <th>17</th>\n",
              "      <td>phone excellent phone great price. impressed f...</td>\n",
              "      <td>4</td>\n",
              "      <td>0</td>\n",
              "      <td>4</td>\n",
              "      <td>4</td>\n",
              "    </tr>\n",
              "    <tr>\n",
              "      <th>18</th>\n",
              "      <td>first off, let say i've nokia user since first...</td>\n",
              "      <td>3</td>\n",
              "      <td>4</td>\n",
              "      <td>4</td>\n",
              "      <td>4</td>\n",
              "    </tr>\n",
              "    <tr>\n",
              "      <th>19</th>\n",
              "      <td>ver good!</td>\n",
              "      <td>4</td>\n",
              "      <td>4</td>\n",
              "      <td>4</td>\n",
              "      <td>4</td>\n",
              "    </tr>\n",
              "    <tr>\n",
              "      <th>20</th>\n",
              "      <td>5.5\" phone unlocked dual sim quad core-juning ...</td>\n",
              "      <td>4</td>\n",
              "      <td>4</td>\n",
              "      <td>4</td>\n",
              "      <td>4</td>\n",
              "    </tr>\n",
              "    <tr>\n",
              "      <th>21</th>\n",
              "      <td>gift grandma south america loved thanks!</td>\n",
              "      <td>4</td>\n",
              "      <td>4</td>\n",
              "      <td>4</td>\n",
              "      <td>4</td>\n",
              "    </tr>\n",
              "    <tr>\n",
              "      <th>22</th>\n",
              "      <td>say ok phone. like keyboard. 5 6 language opti...</td>\n",
              "      <td>2</td>\n",
              "      <td>4</td>\n",
              "      <td>4</td>\n",
              "      <td>4</td>\n",
              "    </tr>\n",
              "    <tr>\n",
              "      <th>23</th>\n",
              "      <td>simple. sleek. minimalist. accepts sim. perfec...</td>\n",
              "      <td>4</td>\n",
              "      <td>4</td>\n",
              "      <td>4</td>\n",
              "      <td>4</td>\n",
              "    </tr>\n",
              "    <tr>\n",
              "      <th>24</th>\n",
              "      <td>cellphone easy using, complete apps important ...</td>\n",
              "      <td>4</td>\n",
              "      <td>3</td>\n",
              "      <td>4</td>\n",
              "      <td>4</td>\n",
              "    </tr>\n",
              "    <tr>\n",
              "      <th>25</th>\n",
              "      <td>got juning phone 3 days ago, started using alr...</td>\n",
              "      <td>4</td>\n",
              "      <td>4</td>\n",
              "      <td>4</td>\n",
              "      <td>4</td>\n",
              "    </tr>\n",
              "    <tr>\n",
              "      <th>26</th>\n",
              "      <td>phone pretty looking phone. offers slim profil...</td>\n",
              "      <td>4</td>\n",
              "      <td>4</td>\n",
              "      <td>4</td>\n",
              "      <td>4</td>\n",
              "    </tr>\n",
              "    <tr>\n",
              "      <th>27</th>\n",
              "      <td>battery died less 24/hours....</td>\n",
              "      <td>0</td>\n",
              "      <td>0</td>\n",
              "      <td>0</td>\n",
              "      <td>4</td>\n",
              "    </tr>\n",
              "    <tr>\n",
              "      <th>28</th>\n",
              "      <td>bought phone elderly parent. at&amp;t, put sim car...</td>\n",
              "      <td>0</td>\n",
              "      <td>0</td>\n",
              "      <td>0</td>\n",
              "      <td>4</td>\n",
              "    </tr>\n",
              "    <tr>\n",
              "      <th>29</th>\n",
              "      <td>phone difficult unlock. unlock phone, need pre...</td>\n",
              "      <td>1</td>\n",
              "      <td>4</td>\n",
              "      <td>4</td>\n",
              "      <td>4</td>\n",
              "    </tr>\n",
              "    <tr>\n",
              "      <th>30</th>\n",
              "      <td>returned would read sim card.</td>\n",
              "      <td>2</td>\n",
              "      <td>0</td>\n",
              "      <td>0</td>\n",
              "      <td>4</td>\n",
              "    </tr>\n",
              "    <tr>\n",
              "      <th>31</th>\n",
              "      <td>phone overall horrible</td>\n",
              "      <td>0</td>\n",
              "      <td>0</td>\n",
              "      <td>0</td>\n",
              "      <td>4</td>\n",
              "    </tr>\n",
              "    <tr>\n",
              "      <th>32</th>\n",
              "      <td>work well t-mobile. t-mobile closes towers non...</td>\n",
              "      <td>1</td>\n",
              "      <td>4</td>\n",
              "      <td>4</td>\n",
              "      <td>4</td>\n",
              "    </tr>\n",
              "    <tr>\n",
              "      <th>33</th>\n",
              "      <td>issues main one is: poor signal reception. loo...</td>\n",
              "      <td>1</td>\n",
              "      <td>1</td>\n",
              "      <td>1</td>\n",
              "      <td>4</td>\n",
              "    </tr>\n",
              "    <tr>\n",
              "      <th>34</th>\n",
              "      <td>slow, worked fine. however 2 weeks charge. dia...</td>\n",
              "      <td>1</td>\n",
              "      <td>1</td>\n",
              "      <td>1</td>\n",
              "      <td>4</td>\n",
              "    </tr>\n",
              "    <tr>\n",
              "      <th>35</th>\n",
              "      <td>worked 2 days died</td>\n",
              "      <td>0</td>\n",
              "      <td>0</td>\n",
              "      <td>0</td>\n",
              "      <td>4</td>\n",
              "    </tr>\n",
              "    <tr>\n",
              "      <th>36</th>\n",
              "      <td>phone pretty neat. price, impressive especiall...</td>\n",
              "      <td>3</td>\n",
              "      <td>3</td>\n",
              "      <td>3</td>\n",
              "      <td>4</td>\n",
              "    </tr>\n",
              "    <tr>\n",
              "      <th>37</th>\n",
              "      <td>everything great. hard time getting old sim ca...</td>\n",
              "      <td>4</td>\n",
              "      <td>0</td>\n",
              "      <td>0</td>\n",
              "      <td>4</td>\n",
              "    </tr>\n",
              "    <tr>\n",
              "      <th>38</th>\n",
              "      <td>sooo glad finally new phone! always problem ol...</td>\n",
              "      <td>4</td>\n",
              "      <td>4</td>\n",
              "      <td>4</td>\n",
              "      <td>4</td>\n",
              "    </tr>\n",
              "    <tr>\n",
              "      <th>39</th>\n",
              "      <td>charger work. parents started using cable dire...</td>\n",
              "      <td>2</td>\n",
              "      <td>0</td>\n",
              "      <td>0</td>\n",
              "      <td>4</td>\n",
              "    </tr>\n",
              "    <tr>\n",
              "      <th>40</th>\n",
              "      <td>i've read reviews pretty straight forward phon...</td>\n",
              "      <td>0</td>\n",
              "      <td>4</td>\n",
              "      <td>4</td>\n",
              "      <td>4</td>\n",
              "    </tr>\n",
              "    <tr>\n",
              "      <th>41</th>\n",
              "      <td>purchased 2 phone, delivered october 6 . use r...</td>\n",
              "      <td>0</td>\n",
              "      <td>0</td>\n",
              "      <td>0</td>\n",
              "      <td>4</td>\n",
              "    </tr>\n",
              "    <tr>\n",
              "      <th>42</th>\n",
              "      <td>bought gift mum loves it. strong durable phone...</td>\n",
              "      <td>4</td>\n",
              "      <td>4</td>\n",
              "      <td>4</td>\n",
              "      <td>4</td>\n",
              "    </tr>\n",
              "    <tr>\n",
              "      <th>43</th>\n",
              "      <td>wow!!! best phone ever. got case screen protec...</td>\n",
              "      <td>4</td>\n",
              "      <td>4</td>\n",
              "      <td>4</td>\n",
              "      <td>4</td>\n",
              "    </tr>\n",
              "    <tr>\n",
              "      <th>44</th>\n",
              "      <td>charging port loose. got soldered in. needed n...</td>\n",
              "      <td>1</td>\n",
              "      <td>0</td>\n",
              "      <td>0</td>\n",
              "      <td>4</td>\n",
              "    </tr>\n",
              "    <tr>\n",
              "      <th>45</th>\n",
              "      <td>great product came two days ordering it. one l...</td>\n",
              "      <td>4</td>\n",
              "      <td>0</td>\n",
              "      <td>4</td>\n",
              "      <td>4</td>\n",
              "    </tr>\n",
              "    <tr>\n",
              "      <th>46</th>\n",
              "      <td>work iwirless</td>\n",
              "      <td>3</td>\n",
              "      <td>4</td>\n",
              "      <td>4</td>\n",
              "      <td>4</td>\n",
              "    </tr>\n",
              "    <tr>\n",
              "      <th>47</th>\n",
              "      <td>reviewing grandmothers bills realized paying $...</td>\n",
              "      <td>4</td>\n",
              "      <td>0</td>\n",
              "      <td>0</td>\n",
              "      <td>4</td>\n",
              "    </tr>\n",
              "    <tr>\n",
              "      <th>48</th>\n",
              "      <td>shortly return window closed, stopped taking c...</td>\n",
              "      <td>0</td>\n",
              "      <td>0</td>\n",
              "      <td>0</td>\n",
              "      <td>4</td>\n",
              "    </tr>\n",
              "    <tr>\n",
              "      <th>49</th>\n",
              "      <td>great phone.</td>\n",
              "      <td>4</td>\n",
              "      <td>4</td>\n",
              "      <td>4</td>\n",
              "      <td>4</td>\n",
              "    </tr>\n",
              "    <tr>\n",
              "      <th>50</th>\n",
              "      <td>great phone elderly familiar w/ cell phones. n...</td>\n",
              "      <td>4</td>\n",
              "      <td>4</td>\n",
              "      <td>4</td>\n",
              "      <td>4</td>\n",
              "    </tr>\n",
              "    <tr>\n",
              "      <th>51</th>\n",
              "      <td>phone works well supposed be.it everything nee...</td>\n",
              "      <td>4</td>\n",
              "      <td>4</td>\n",
              "      <td>4</td>\n",
              "      <td>4</td>\n",
              "    </tr>\n",
              "    <tr>\n",
              "      <th>52</th>\n",
              "      <td>practical user-friendly phone. satisfied it.</td>\n",
              "      <td>4</td>\n",
              "      <td>4</td>\n",
              "      <td>4</td>\n",
              "      <td>4</td>\n",
              "    </tr>\n",
              "    <tr>\n",
              "      <th>53</th>\n",
              "      <td>sensitive track phone, jethro easier read .</td>\n",
              "      <td>2</td>\n",
              "      <td>4</td>\n",
              "      <td>0</td>\n",
              "      <td>4</td>\n",
              "    </tr>\n",
              "  </tbody>\n",
              "</table>\n",
              "</div>\n",
              "    <div class=\"colab-df-buttons\">\n",
              "\n",
              "  <div class=\"colab-df-container\">\n",
              "    <button class=\"colab-df-convert\" onclick=\"convertToInteractive('df-828af21a-5c69-4f37-bdcb-7b84921d9622')\"\n",
              "            title=\"Convert this dataframe to an interactive table.\"\n",
              "            style=\"display:none;\">\n",
              "\n",
              "  <svg xmlns=\"http://www.w3.org/2000/svg\" height=\"24px\" viewBox=\"0 -960 960 960\">\n",
              "    <path d=\"M120-120v-720h720v720H120Zm60-500h600v-160H180v160Zm220 220h160v-160H400v160Zm0 220h160v-160H400v160ZM180-400h160v-160H180v160Zm440 0h160v-160H620v160ZM180-180h160v-160H180v160Zm440 0h160v-160H620v160Z\"/>\n",
              "  </svg>\n",
              "    </button>\n",
              "\n",
              "  <style>\n",
              "    .colab-df-container {\n",
              "      display:flex;\n",
              "      gap: 12px;\n",
              "    }\n",
              "\n",
              "    .colab-df-convert {\n",
              "      background-color: #E8F0FE;\n",
              "      border: none;\n",
              "      border-radius: 50%;\n",
              "      cursor: pointer;\n",
              "      display: none;\n",
              "      fill: #1967D2;\n",
              "      height: 32px;\n",
              "      padding: 0 0 0 0;\n",
              "      width: 32px;\n",
              "    }\n",
              "\n",
              "    .colab-df-convert:hover {\n",
              "      background-color: #E2EBFA;\n",
              "      box-shadow: 0px 1px 2px rgba(60, 64, 67, 0.3), 0px 1px 3px 1px rgba(60, 64, 67, 0.15);\n",
              "      fill: #174EA6;\n",
              "    }\n",
              "\n",
              "    .colab-df-buttons div {\n",
              "      margin-bottom: 4px;\n",
              "    }\n",
              "\n",
              "    [theme=dark] .colab-df-convert {\n",
              "      background-color: #3B4455;\n",
              "      fill: #D2E3FC;\n",
              "    }\n",
              "\n",
              "    [theme=dark] .colab-df-convert:hover {\n",
              "      background-color: #434B5C;\n",
              "      box-shadow: 0px 1px 3px 1px rgba(0, 0, 0, 0.15);\n",
              "      filter: drop-shadow(0px 1px 2px rgba(0, 0, 0, 0.3));\n",
              "      fill: #FFFFFF;\n",
              "    }\n",
              "  </style>\n",
              "\n",
              "    <script>\n",
              "      const buttonEl =\n",
              "        document.querySelector('#df-828af21a-5c69-4f37-bdcb-7b84921d9622 button.colab-df-convert');\n",
              "      buttonEl.style.display =\n",
              "        google.colab.kernel.accessAllowed ? 'block' : 'none';\n",
              "\n",
              "      async function convertToInteractive(key) {\n",
              "        const element = document.querySelector('#df-828af21a-5c69-4f37-bdcb-7b84921d9622');\n",
              "        const dataTable =\n",
              "          await google.colab.kernel.invokeFunction('convertToInteractive',\n",
              "                                                    [key], {});\n",
              "        if (!dataTable) return;\n",
              "\n",
              "        const docLinkHtml = 'Like what you see? Visit the ' +\n",
              "          '<a target=\"_blank\" href=https://colab.research.google.com/notebooks/data_table.ipynb>data table notebook</a>'\n",
              "          + ' to learn more about interactive tables.';\n",
              "        element.innerHTML = '';\n",
              "        dataTable['output_type'] = 'display_data';\n",
              "        await google.colab.output.renderOutput(dataTable, element);\n",
              "        const docLink = document.createElement('div');\n",
              "        docLink.innerHTML = docLinkHtml;\n",
              "        element.appendChild(docLink);\n",
              "      }\n",
              "    </script>\n",
              "  </div>\n",
              "\n",
              "\n",
              "<div id=\"df-75d4254a-a76d-444e-8e56-eb66ce307c61\">\n",
              "  <button class=\"colab-df-quickchart\" onclick=\"quickchart('df-75d4254a-a76d-444e-8e56-eb66ce307c61')\"\n",
              "            title=\"Suggest charts\"\n",
              "            style=\"display:none;\">\n",
              "\n",
              "<svg xmlns=\"http://www.w3.org/2000/svg\" height=\"24px\"viewBox=\"0 0 24 24\"\n",
              "     width=\"24px\">\n",
              "    <g>\n",
              "        <path d=\"M19 3H5c-1.1 0-2 .9-2 2v14c0 1.1.9 2 2 2h14c1.1 0 2-.9 2-2V5c0-1.1-.9-2-2-2zM9 17H7v-7h2v7zm4 0h-2V7h2v10zm4 0h-2v-4h2v4z\"/>\n",
              "    </g>\n",
              "</svg>\n",
              "  </button>\n",
              "\n",
              "<style>\n",
              "  .colab-df-quickchart {\n",
              "      --bg-color: #E8F0FE;\n",
              "      --fill-color: #1967D2;\n",
              "      --hover-bg-color: #E2EBFA;\n",
              "      --hover-fill-color: #174EA6;\n",
              "      --disabled-fill-color: #AAA;\n",
              "      --disabled-bg-color: #DDD;\n",
              "  }\n",
              "\n",
              "  [theme=dark] .colab-df-quickchart {\n",
              "      --bg-color: #3B4455;\n",
              "      --fill-color: #D2E3FC;\n",
              "      --hover-bg-color: #434B5C;\n",
              "      --hover-fill-color: #FFFFFF;\n",
              "      --disabled-bg-color: #3B4455;\n",
              "      --disabled-fill-color: #666;\n",
              "  }\n",
              "\n",
              "  .colab-df-quickchart {\n",
              "    background-color: var(--bg-color);\n",
              "    border: none;\n",
              "    border-radius: 50%;\n",
              "    cursor: pointer;\n",
              "    display: none;\n",
              "    fill: var(--fill-color);\n",
              "    height: 32px;\n",
              "    padding: 0;\n",
              "    width: 32px;\n",
              "  }\n",
              "\n",
              "  .colab-df-quickchart:hover {\n",
              "    background-color: var(--hover-bg-color);\n",
              "    box-shadow: 0 1px 2px rgba(60, 64, 67, 0.3), 0 1px 3px 1px rgba(60, 64, 67, 0.15);\n",
              "    fill: var(--button-hover-fill-color);\n",
              "  }\n",
              "\n",
              "  .colab-df-quickchart-complete:disabled,\n",
              "  .colab-df-quickchart-complete:disabled:hover {\n",
              "    background-color: var(--disabled-bg-color);\n",
              "    fill: var(--disabled-fill-color);\n",
              "    box-shadow: none;\n",
              "  }\n",
              "\n",
              "  .colab-df-spinner {\n",
              "    border: 2px solid var(--fill-color);\n",
              "    border-color: transparent;\n",
              "    border-bottom-color: var(--fill-color);\n",
              "    animation:\n",
              "      spin 1s steps(1) infinite;\n",
              "  }\n",
              "\n",
              "  @keyframes spin {\n",
              "    0% {\n",
              "      border-color: transparent;\n",
              "      border-bottom-color: var(--fill-color);\n",
              "      border-left-color: var(--fill-color);\n",
              "    }\n",
              "    20% {\n",
              "      border-color: transparent;\n",
              "      border-left-color: var(--fill-color);\n",
              "      border-top-color: var(--fill-color);\n",
              "    }\n",
              "    30% {\n",
              "      border-color: transparent;\n",
              "      border-left-color: var(--fill-color);\n",
              "      border-top-color: var(--fill-color);\n",
              "      border-right-color: var(--fill-color);\n",
              "    }\n",
              "    40% {\n",
              "      border-color: transparent;\n",
              "      border-right-color: var(--fill-color);\n",
              "      border-top-color: var(--fill-color);\n",
              "    }\n",
              "    60% {\n",
              "      border-color: transparent;\n",
              "      border-right-color: var(--fill-color);\n",
              "    }\n",
              "    80% {\n",
              "      border-color: transparent;\n",
              "      border-right-color: var(--fill-color);\n",
              "      border-bottom-color: var(--fill-color);\n",
              "    }\n",
              "    90% {\n",
              "      border-color: transparent;\n",
              "      border-bottom-color: var(--fill-color);\n",
              "    }\n",
              "  }\n",
              "</style>\n",
              "\n",
              "  <script>\n",
              "    async function quickchart(key) {\n",
              "      const quickchartButtonEl =\n",
              "        document.querySelector('#' + key + ' button');\n",
              "      quickchartButtonEl.disabled = true;  // To prevent multiple clicks.\n",
              "      quickchartButtonEl.classList.add('colab-df-spinner');\n",
              "      try {\n",
              "        const charts = await google.colab.kernel.invokeFunction(\n",
              "            'suggestCharts', [key], {});\n",
              "      } catch (error) {\n",
              "        console.error('Error during call to suggestCharts:', error);\n",
              "      }\n",
              "      quickchartButtonEl.classList.remove('colab-df-spinner');\n",
              "      quickchartButtonEl.classList.add('colab-df-quickchart-complete');\n",
              "    }\n",
              "    (() => {\n",
              "      let quickchartButtonEl =\n",
              "        document.querySelector('#df-75d4254a-a76d-444e-8e56-eb66ce307c61 button');\n",
              "      quickchartButtonEl.style.display =\n",
              "        google.colab.kernel.accessAllowed ? 'block' : 'none';\n",
              "    })();\n",
              "  </script>\n",
              "</div>\n",
              "    </div>\n",
              "  </div>\n"
            ]
          },
          "metadata": {},
          "execution_count": 71
        }
      ]
    },
    {
      "cell_type": "markdown",
      "source": [
        "**User Input**"
      ],
      "metadata": {
        "id": "X6QdflMwds-L"
      }
    },
    {
      "cell_type": "code",
      "source": [
        "example = reviews[0]\n",
        "\n",
        "print(type(example))"
      ],
      "metadata": {
        "colab": {
          "base_uri": "https://localhost:8080/"
        },
        "id": "aO7aL-MXNrXt",
        "outputId": "cf85f6d1-0c77-431c-86e3-953a0b78ff4a"
      },
      "execution_count": null,
      "outputs": [
        {
          "output_type": "stream",
          "name": "stdout",
          "text": [
            "<class 'str'>\n"
          ]
        }
      ]
    },
    {
      "cell_type": "code",
      "source": [
        "print(len(example))"
      ],
      "metadata": {
        "colab": {
          "base_uri": "https://localhost:8080/"
        },
        "id": "B9fRqEK5YuF3",
        "outputId": "35b46c26-173a-4ecf-b2a0-178120ecbbc9"
      },
      "execution_count": null,
      "outputs": [
        {
          "output_type": "stream",
          "name": "stdout",
          "text": [
            "254\n"
          ]
        }
      ]
    },
    {
      "cell_type": "code",
      "source": [
        "input_review = input(\"Enter review: \")\n",
        "\n",
        "input_review_processed = preprocess_text(input_review)\n",
        "\n",
        "input_review_padded = encode_pad(input_review_processed)\n",
        "\n",
        "print(input_review_processed)\n",
        "\n",
        "print(len(input_review))"
      ],
      "metadata": {
        "colab": {
          "base_uri": "https://localhost:8080/"
        },
        "id": "rjnlCH7bfF9m",
        "outputId": "fa36d837-3cb9-415a-e6f4-93ab77e5c870"
      },
      "execution_count": null,
      "outputs": [
        {
          "output_type": "stream",
          "name": "stdout",
          "text": [
            "Enter review: I love this product\n",
            "love product\n",
            "19\n"
          ]
        }
      ]
    },
    {
      "cell_type": "code",
      "source": [
        "input_review = input(\"Enter review: \")\n",
        "\n",
        "input_review_processed = preprocess_text(input_review)\n",
        "\n",
        "input_review_padded = encode_pad(input_review_processed)\n",
        "\n",
        "SNN_pred = find_pred(SNN, input_review_padded)\n",
        "\n",
        "CNN_pred = find_pred(CNN, input_review_padded)\n",
        "\n",
        "LSTM_pred = find_pred(LSTM, input_review_padded)\n",
        "\n",
        "print(\"Review: \", input_review)\n",
        "print(\"SNN Prediction: \", SNN_pred)\n",
        "print(\"CNN Prediction: \", CNN_pred)\n",
        "print(\"LSTM Prediction: \", LSTM_pred)"
      ],
      "metadata": {
        "colab": {
          "base_uri": "https://localhost:8080/"
        },
        "id": "srvNV0KOd8HO",
        "outputId": "129c4945-ebed-4690-c234-54cc70da11c3"
      },
      "execution_count": null,
      "outputs": [
        {
          "output_type": "stream",
          "name": "stdout",
          "text": [
            "Enter review: Hi\n",
            "1/1 [==============================] - 0s 18ms/step\n",
            "1/1 [==============================] - 0s 180ms/step\n",
            "1/1 [==============================] - 0s 103ms/step\n",
            "Review:  Hi\n",
            "SNN Prediction:  [4 4]\n",
            "CNN Prediction:  [4 4]\n",
            "LSTM Prediction:  [4 4]\n"
          ]
        }
      ]
    },
    {
      "cell_type": "code",
      "source": [],
      "metadata": {
        "id": "2OMWTlvfeJWD"
      },
      "execution_count": null,
      "outputs": []
    }
  ]
}